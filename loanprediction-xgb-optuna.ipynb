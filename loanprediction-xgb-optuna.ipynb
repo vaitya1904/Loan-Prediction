{
 "cells": [
  {
   "cell_type": "code",
   "execution_count": 1,
   "metadata": {
    "_cell_guid": "b1076dfc-b9ad-4769-8c92-a6c4dae69d19",
    "_uuid": "8f2839f25d086af736a60e9eeb907d3b93b6e0e5",
    "execution": {
     "iopub.execute_input": "2020-12-30T03:39:49.208498Z",
     "iopub.status.busy": "2020-12-30T03:39:49.207650Z",
     "iopub.status.idle": "2020-12-30T03:39:51.397453Z",
     "shell.execute_reply": "2020-12-30T03:39:51.397986Z"
    },
    "papermill": {
     "duration": 2.23708,
     "end_time": "2020-12-30T03:39:51.398181",
     "exception": false,
     "start_time": "2020-12-30T03:39:49.161101",
     "status": "completed"
    },
    "tags": []
   },
   "outputs": [],
   "source": [
    "import pandas as pd \n",
    "import numpy as np\n",
    "\n",
    "import matplotlib.pyplot as plt\n",
    "%matplotlib inline \n",
    "\n",
    "import xgboost as xgb\n",
    "\n",
    "from sklearn.model_selection import KFold\n",
    "\n",
    "from sklearn.metrics import accuracy_score\n",
    "\n",
    "import warnings\n",
    "warnings.filterwarnings('ignore')\n",
    "\n",
    "pd.set_option('max_colwidth', 1000)\n",
    "pd.set_option('max_rows',40)\n",
    "pd.set_option('max_columns',1000)\n",
    "\n",
    "import seaborn as sns \n",
    "sns.set_style('darkgrid')"
   ]
  },
  {
   "cell_type": "code",
   "execution_count": 2,
   "metadata": {
    "_cell_guid": "79c7e3d0-c299-4dcb-8224-4455121ee9b0",
    "_uuid": "d629ff2d2480ee46fbb7e2d37f6b5fab8052498a",
    "execution": {
     "iopub.execute_input": "2020-12-30T03:39:51.463529Z",
     "iopub.status.busy": "2020-12-30T03:39:51.462544Z",
     "iopub.status.idle": "2020-12-30T03:39:51.494587Z",
     "shell.execute_reply": "2020-12-30T03:39:51.495094Z"
    },
    "papermill": {
     "duration": 0.066133,
     "end_time": "2020-12-30T03:39:51.495263",
     "exception": false,
     "start_time": "2020-12-30T03:39:51.429130",
     "status": "completed"
    },
    "tags": []
   },
   "outputs": [],
   "source": [
    "data = pd.read_csv(\"../input/loan-prediction-analytics-vidhya/train_ctrUa4K.csv\")\n",
    "test = pd.read_csv(\"../input/loan-prediction-analytics-vidhya/test_lAUu6dG.csv\")"
   ]
  },
  {
   "cell_type": "markdown",
   "metadata": {
    "papermill": {
     "duration": 0.02998,
     "end_time": "2020-12-30T03:39:51.556174",
     "exception": false,
     "start_time": "2020-12-30T03:39:51.526194",
     "status": "completed"
    },
    "tags": []
   },
   "source": [
    "# Target"
   ]
  },
  {
   "cell_type": "code",
   "execution_count": 3,
   "metadata": {
    "execution": {
     "iopub.execute_input": "2020-12-30T03:39:51.621110Z",
     "iopub.status.busy": "2020-12-30T03:39:51.620043Z",
     "iopub.status.idle": "2020-12-30T03:39:51.816865Z",
     "shell.execute_reply": "2020-12-30T03:39:51.817340Z"
    },
    "papermill": {
     "duration": 0.23082,
     "end_time": "2020-12-30T03:39:51.817482",
     "exception": false,
     "start_time": "2020-12-30T03:39:51.586662",
     "status": "completed"
    },
    "tags": []
   },
   "outputs": [
    {
     "data": {
      "text/plain": [
       "<matplotlib.axes._subplots.AxesSubplot at 0x7f8e9d9f8710>"
      ]
     },
     "execution_count": 3,
     "metadata": {},
     "output_type": "execute_result"
    },
    {
     "data": {
      "image/png": "[encoded data removed]",
      "text/plain": [
       "<Figure size 432x288 with 1 Axes>"
      ]
     },
     "metadata": {},
     "output_type": "display_data"
    }
   ],
   "source": [
    "sns.countplot(x=\"Loan_Status\", data=data)"
   ]
  },
  {
   "cell_type": "markdown",
   "metadata": {
    "papermill": {
     "duration": 0.031422,
     "end_time": "2020-12-30T03:39:51.880757",
     "exception": false,
     "start_time": "2020-12-30T03:39:51.849335",
     "status": "completed"
    },
    "tags": []
   },
   "source": [
    "**Numeric Columns**<br>\n",
    "**Categorical Columns**<br>"
   ]
  },
  {
   "cell_type": "code",
   "execution_count": 4,
   "metadata": {
    "execution": {
     "iopub.execute_input": "2020-12-30T03:39:51.949941Z",
     "iopub.status.busy": "2020-12-30T03:39:51.948939Z",
     "iopub.status.idle": "2020-12-30T03:39:51.963267Z",
     "shell.execute_reply": "2020-12-30T03:39:51.963802Z"
    },
    "papermill": {
     "duration": 0.050522,
     "end_time": "2020-12-30T03:39:51.963958",
     "exception": false,
     "start_time": "2020-12-30T03:39:51.913436",
     "status": "completed"
    },
    "tags": []
   },
   "outputs": [],
   "source": [
    "num_cols = data.select_dtypes(exclude='object').copy()\n",
    "cat_cols = data.select_dtypes(include='object').copy()\n",
    "cat_cols = cat_cols.drop('Loan_ID',axis=1)"
   ]
  },
  {
   "cell_type": "code",
   "execution_count": 5,
   "metadata": {
    "execution": {
     "iopub.execute_input": "2020-12-30T03:39:52.032336Z",
     "iopub.status.busy": "2020-12-30T03:39:52.031343Z",
     "iopub.status.idle": "2020-12-30T03:39:52.046165Z",
     "shell.execute_reply": "2020-12-30T03:39:52.046697Z"
    },
    "papermill": {
     "duration": 0.050661,
     "end_time": "2020-12-30T03:39:52.046835",
     "exception": false,
     "start_time": "2020-12-30T03:39:51.996174",
     "status": "completed"
    },
    "tags": []
   },
   "outputs": [
    {
     "data": {
      "text/html": [
       "<div>\n",
       "<style scoped>\n",
       "    .dataframe tbody tr th:only-of-type {\n",
       "        vertical-align: middle;\n",
       "    }\n",
       "\n",
       "    .dataframe tbody tr th {\n",
       "        vertical-align: top;\n",
       "    }\n",
       "\n",
       "    .dataframe thead th {\n",
       "        text-align: right;\n",
       "    }\n",
       "</style>\n",
       "<table border=\"1\" class=\"dataframe\">\n",
       "  <thead>\n",
       "    <tr style=\"text-align: right;\">\n",
       "      <th></th>\n",
       "      <th>ApplicantIncome</th>\n",
       "      <th>CoapplicantIncome</th>\n",
       "      <th>LoanAmount</th>\n",
       "      <th>Loan_Amount_Term</th>\n",
       "      <th>Credit_History</th>\n",
       "    </tr>\n",
       "  </thead>\n",
       "  <tbody>\n",
       "    <tr>\n",
       "      <th>0</th>\n",
       "      <td>5849</td>\n",
       "      <td>0.0</td>\n",
       "      <td>NaN</td>\n",
       "      <td>360.0</td>\n",
       "      <td>1.0</td>\n",
       "    </tr>\n",
       "    <tr>\n",
       "      <th>1</th>\n",
       "      <td>4583</td>\n",
       "      <td>1508.0</td>\n",
       "      <td>128.0</td>\n",
       "      <td>360.0</td>\n",
       "      <td>1.0</td>\n",
       "    </tr>\n",
       "    <tr>\n",
       "      <th>2</th>\n",
       "      <td>3000</td>\n",
       "      <td>0.0</td>\n",
       "      <td>66.0</td>\n",
       "      <td>360.0</td>\n",
       "      <td>1.0</td>\n",
       "    </tr>\n",
       "    <tr>\n",
       "      <th>3</th>\n",
       "      <td>2583</td>\n",
       "      <td>2358.0</td>\n",
       "      <td>120.0</td>\n",
       "      <td>360.0</td>\n",
       "      <td>1.0</td>\n",
       "    </tr>\n",
       "    <tr>\n",
       "      <th>4</th>\n",
       "      <td>6000</td>\n",
       "      <td>0.0</td>\n",
       "      <td>141.0</td>\n",
       "      <td>360.0</td>\n",
       "      <td>1.0</td>\n",
       "    </tr>\n",
       "  </tbody>\n",
       "</table>\n",
       "</div>"
      ],
      "text/plain": [
       "   ApplicantIncome  CoapplicantIncome  LoanAmount  Loan_Amount_Term  \\\n",
       "0             5849                0.0         NaN             360.0   \n",
       "1             4583             1508.0       128.0             360.0   \n",
       "2             3000                0.0        66.0             360.0   \n",
       "3             2583             2358.0       120.0             360.0   \n",
       "4             6000                0.0       141.0             360.0   \n",
       "\n",
       "   Credit_History  \n",
       "0             1.0  \n",
       "1             1.0  \n",
       "2             1.0  \n",
       "3             1.0  \n",
       "4             1.0  "
      ]
     },
     "execution_count": 5,
     "metadata": {},
     "output_type": "execute_result"
    }
   ],
   "source": [
    "num_cols.head()"
   ]
  },
  {
   "cell_type": "code",
   "execution_count": 6,
   "metadata": {
    "execution": {
     "iopub.execute_input": "2020-12-30T03:39:52.118865Z",
     "iopub.status.busy": "2020-12-30T03:39:52.117869Z",
     "iopub.status.idle": "2020-12-30T03:39:52.132494Z",
     "shell.execute_reply": "2020-12-30T03:39:52.131839Z"
    },
    "papermill": {
     "duration": 0.05295,
     "end_time": "2020-12-30T03:39:52.132606",
     "exception": false,
     "start_time": "2020-12-30T03:39:52.079656",
     "status": "completed"
    },
    "tags": []
   },
   "outputs": [
    {
     "data": {
      "text/html": [
       "<div>\n",
       "<style scoped>\n",
       "    .dataframe tbody tr th:only-of-type {\n",
       "        vertical-align: middle;\n",
       "    }\n",
       "\n",
       "    .dataframe tbody tr th {\n",
       "        vertical-align: top;\n",
       "    }\n",
       "\n",
       "    .dataframe thead th {\n",
       "        text-align: right;\n",
       "    }\n",
       "</style>\n",
       "<table border=\"1\" class=\"dataframe\">\n",
       "  <thead>\n",
       "    <tr style=\"text-align: right;\">\n",
       "      <th></th>\n",
       "      <th>Gender</th>\n",
       "      <th>Married</th>\n",
       "      <th>Dependents</th>\n",
       "      <th>Education</th>\n",
       "      <th>Self_Employed</th>\n",
       "      <th>Property_Area</th>\n",
       "      <th>Loan_Status</th>\n",
       "    </tr>\n",
       "  </thead>\n",
       "  <tbody>\n",
       "    <tr>\n",
       "      <th>0</th>\n",
       "      <td>Male</td>\n",
       "      <td>No</td>\n",
       "      <td>0</td>\n",
       "      <td>Graduate</td>\n",
       "      <td>No</td>\n",
       "      <td>Urban</td>\n",
       "      <td>Y</td>\n",
       "    </tr>\n",
       "    <tr>\n",
       "      <th>1</th>\n",
       "      <td>Male</td>\n",
       "      <td>Yes</td>\n",
       "      <td>1</td>\n",
       "      <td>Graduate</td>\n",
       "      <td>No</td>\n",
       "      <td>Rural</td>\n",
       "      <td>N</td>\n",
       "    </tr>\n",
       "    <tr>\n",
       "      <th>2</th>\n",
       "      <td>Male</td>\n",
       "      <td>Yes</td>\n",
       "      <td>0</td>\n",
       "      <td>Graduate</td>\n",
       "      <td>Yes</td>\n",
       "      <td>Urban</td>\n",
       "      <td>Y</td>\n",
       "    </tr>\n",
       "    <tr>\n",
       "      <th>3</th>\n",
       "      <td>Male</td>\n",
       "      <td>Yes</td>\n",
       "      <td>0</td>\n",
       "      <td>Not Graduate</td>\n",
       "      <td>No</td>\n",
       "      <td>Urban</td>\n",
       "      <td>Y</td>\n",
       "    </tr>\n",
       "    <tr>\n",
       "      <th>4</th>\n",
       "      <td>Male</td>\n",
       "      <td>No</td>\n",
       "      <td>0</td>\n",
       "      <td>Graduate</td>\n",
       "      <td>No</td>\n",
       "      <td>Urban</td>\n",
       "      <td>Y</td>\n",
       "    </tr>\n",
       "  </tbody>\n",
       "</table>\n",
       "</div>"
      ],
      "text/plain": [
       "  Gender Married Dependents     Education Self_Employed Property_Area  \\\n",
       "0   Male      No          0      Graduate            No         Urban   \n",
       "1   Male     Yes          1      Graduate            No         Rural   \n",
       "2   Male     Yes          0      Graduate           Yes         Urban   \n",
       "3   Male     Yes          0  Not Graduate            No         Urban   \n",
       "4   Male      No          0      Graduate            No         Urban   \n",
       "\n",
       "  Loan_Status  \n",
       "0           Y  \n",
       "1           N  \n",
       "2           Y  \n",
       "3           Y  \n",
       "4           Y  "
      ]
     },
     "execution_count": 6,
     "metadata": {},
     "output_type": "execute_result"
    }
   ],
   "source": [
    "cat_cols.head()"
   ]
  },
  {
   "cell_type": "markdown",
   "metadata": {
    "papermill": {
     "duration": 0.033597,
     "end_time": "2020-12-30T03:39:52.200340",
     "exception": false,
     "start_time": "2020-12-30T03:39:52.166743",
     "status": "completed"
    },
    "tags": []
   },
   "source": [
    "# Uni-variate Analysis"
   ]
  },
  {
   "cell_type": "code",
   "execution_count": 7,
   "metadata": {
    "execution": {
     "iopub.execute_input": "2020-12-30T03:39:52.282937Z",
     "iopub.status.busy": "2020-12-30T03:39:52.282198Z",
     "iopub.status.idle": "2020-12-30T03:39:54.251331Z",
     "shell.execute_reply": "2020-12-30T03:39:54.250643Z"
    },
    "papermill": {
     "duration": 2.017102,
     "end_time": "2020-12-30T03:39:54.251454",
     "exception": false,
     "start_time": "2020-12-30T03:39:52.234352",
     "status": "completed"
    },
    "tags": []
   },
   "outputs": [
    {
     "data": {
      "image/png": "[encoded data removed]",
      "text/plain": [
       "<Figure size 864x1152 with 5 Axes>"
      ]
     },
     "metadata": {},
     "output_type": "display_data"
    }
   ],
   "source": [
    "fig = plt.figure(figsize=(12,16))\n",
    "for index,col in enumerate(num_cols):\n",
    "    plt.subplot(3,2,index+1)\n",
    "    sns.distplot(num_cols.loc[:,col].dropna(),kde=False,bins=30)\n",
    "fig.tight_layout(pad=1.0)"
   ]
  },
  {
   "cell_type": "code",
   "execution_count": 8,
   "metadata": {
    "execution": {
     "iopub.execute_input": "2020-12-30T03:39:54.330586Z",
     "iopub.status.busy": "2020-12-30T03:39:54.329564Z",
     "iopub.status.idle": "2020-12-30T03:39:54.334381Z",
     "shell.execute_reply": "2020-12-30T03:39:54.333648Z"
    },
    "papermill": {
     "duration": 0.047566,
     "end_time": "2020-12-30T03:39:54.334498",
     "exception": false,
     "start_time": "2020-12-30T03:39:54.286932",
     "status": "completed"
    },
    "tags": []
   },
   "outputs": [
    {
     "data": {
      "text/plain": [
       "360.0    512\n",
       "180.0     44\n",
       "480.0     15\n",
       "300.0     13\n",
       "84.0       4\n",
       "240.0      4\n",
       "120.0      3\n",
       "36.0       2\n",
       "60.0       2\n",
       "12.0       1\n",
       "Name: Loan_Amount_Term, dtype: int64"
      ]
     },
     "execution_count": 8,
     "metadata": {},
     "output_type": "execute_result"
    }
   ],
   "source": [
    "data['Loan_Amount_Term'].value_counts()"
   ]
  },
  {
   "cell_type": "markdown",
   "metadata": {
    "papermill": {
     "duration": 0.037164,
     "end_time": "2020-12-30T03:39:54.410644",
     "exception": false,
     "start_time": "2020-12-30T03:39:54.373480",
     "status": "completed"
    },
    "tags": []
   },
   "source": [
    "## Outliers"
   ]
  },
  {
   "cell_type": "code",
   "execution_count": 9,
   "metadata": {
    "execution": {
     "iopub.execute_input": "2020-12-30T03:39:54.500574Z",
     "iopub.status.busy": "2020-12-30T03:39:54.499500Z",
     "iopub.status.idle": "2020-12-30T03:39:55.187887Z",
     "shell.execute_reply": "2020-12-30T03:39:55.188451Z"
    },
    "papermill": {
     "duration": 0.740336,
     "end_time": "2020-12-30T03:39:55.188591",
     "exception": false,
     "start_time": "2020-12-30T03:39:54.448255",
     "status": "completed"
    },
    "tags": []
   },
   "outputs": [
    {
     "data": {
      "image/png": "[encoded data removed]",
      "text/plain": [
       "<Figure size 864x1152 with 5 Axes>"
      ]
     },
     "metadata": {},
     "output_type": "display_data"
    }
   ],
   "source": [
    "fig = plt.figure(figsize=(12,16))\n",
    "for index,col in enumerate(num_cols):\n",
    "    plt.subplot(3,2,index+1)\n",
    "    sns.boxplot(data=num_cols.dropna(), y=col)\n",
    "fig.tight_layout(pad=1.0)"
   ]
  },
  {
   "cell_type": "markdown",
   "metadata": {
    "papermill": {
     "duration": 0.036886,
     "end_time": "2020-12-30T03:39:55.263661",
     "exception": false,
     "start_time": "2020-12-30T03:39:55.226775",
     "status": "completed"
    },
    "tags": []
   },
   "source": [
    "## Cat_columns"
   ]
  },
  {
   "cell_type": "code",
   "execution_count": 10,
   "metadata": {
    "execution": {
     "iopub.execute_input": "2020-12-30T03:39:55.341211Z",
     "iopub.status.busy": "2020-12-30T03:39:55.340513Z",
     "iopub.status.idle": "2020-12-30T03:39:56.537906Z",
     "shell.execute_reply": "2020-12-30T03:39:56.538478Z"
    },
    "papermill": {
     "duration": 1.237938,
     "end_time": "2020-12-30T03:39:56.538635",
     "exception": false,
     "start_time": "2020-12-30T03:39:55.300697",
     "status": "completed"
    },
    "tags": []
   },
   "outputs": [
    {
     "data": {
      "image/png": "[encoded data removed]",
      "text/plain": [
       "<Figure size 1296x1440 with 7 Axes>"
      ]
     },
     "metadata": {},
     "output_type": "display_data"
    }
   ],
   "source": [
    "fig = plt.figure(figsize=(18,20))\n",
    "for index in range(len(cat_cols.columns)):\n",
    "    plt.subplot(2,4,index+1)\n",
    "    sns.countplot(x=cat_cols.iloc[:,index], data=cat_cols.dropna())\n",
    "#    plt.xticks(rotation=90)\n",
    "fig.tight_layout(pad=1.0)"
   ]
  },
  {
   "cell_type": "markdown",
   "metadata": {
    "papermill": {
     "duration": 0.038229,
     "end_time": "2020-12-30T03:39:56.615699",
     "exception": false,
     "start_time": "2020-12-30T03:39:56.577470",
     "status": "completed"
    },
    "tags": []
   },
   "source": [
    "## Missing Values"
   ]
  },
  {
   "cell_type": "code",
   "execution_count": 11,
   "metadata": {
    "execution": {
     "iopub.execute_input": "2020-12-30T03:39:56.703022Z",
     "iopub.status.busy": "2020-12-30T03:39:56.702007Z",
     "iopub.status.idle": "2020-12-30T03:39:57.265152Z",
     "shell.execute_reply": "2020-12-30T03:39:57.265679Z"
    },
    "papermill": {
     "duration": 0.6116,
     "end_time": "2020-12-30T03:39:57.265826",
     "exception": false,
     "start_time": "2020-12-30T03:39:56.654226",
     "status": "completed"
    },
    "tags": []
   },
   "outputs": [
    {
     "data": {
      "image/png": "[encoded data removed]",
      "text/plain": [
       "<Figure size 720x576 with 2 Axes>"
      ]
     },
     "metadata": {},
     "output_type": "display_data"
    }
   ],
   "source": [
    "# Checking Null values  \n",
    "plt.figure(figsize=(10,8))\n",
    "sns.heatmap(data.isnull(),cmap='plasma')\n",
    "\n",
    "def percent_missing(d):\n",
    "    percentage = pd.DataFrame(100*(d.isnull().sum()/len(d)),columns=['Missing_%']).sort_values('Missing_%',ascending=False)\n",
    "    return (percentage.head(10))"
   ]
  },
  {
   "cell_type": "code",
   "execution_count": 12,
   "metadata": {
    "execution": {
     "iopub.execute_input": "2020-12-30T03:39:57.358219Z",
     "iopub.status.busy": "2020-12-30T03:39:57.357525Z",
     "iopub.status.idle": "2020-12-30T03:39:57.360429Z",
     "shell.execute_reply": "2020-12-30T03:39:57.360907Z"
    },
    "papermill": {
     "duration": 0.055363,
     "end_time": "2020-12-30T03:39:57.361054",
     "exception": false,
     "start_time": "2020-12-30T03:39:57.305691",
     "status": "completed"
    },
    "tags": []
   },
   "outputs": [
    {
     "data": {
      "text/html": [
       "<div>\n",
       "<style scoped>\n",
       "    .dataframe tbody tr th:only-of-type {\n",
       "        vertical-align: middle;\n",
       "    }\n",
       "\n",
       "    .dataframe tbody tr th {\n",
       "        vertical-align: top;\n",
       "    }\n",
       "\n",
       "    .dataframe thead th {\n",
       "        text-align: right;\n",
       "    }\n",
       "</style>\n",
       "<table border=\"1\" class=\"dataframe\">\n",
       "  <thead>\n",
       "    <tr style=\"text-align: right;\">\n",
       "      <th></th>\n",
       "      <th>Missing_%</th>\n",
       "    </tr>\n",
       "  </thead>\n",
       "  <tbody>\n",
       "    <tr>\n",
       "      <th>Credit_History</th>\n",
       "      <td>8.143322</td>\n",
       "    </tr>\n",
       "    <tr>\n",
       "      <th>Self_Employed</th>\n",
       "      <td>5.211726</td>\n",
       "    </tr>\n",
       "    <tr>\n",
       "      <th>LoanAmount</th>\n",
       "      <td>3.583062</td>\n",
       "    </tr>\n",
       "    <tr>\n",
       "      <th>Dependents</th>\n",
       "      <td>2.442997</td>\n",
       "    </tr>\n",
       "    <tr>\n",
       "      <th>Loan_Amount_Term</th>\n",
       "      <td>2.280130</td>\n",
       "    </tr>\n",
       "    <tr>\n",
       "      <th>Gender</th>\n",
       "      <td>2.117264</td>\n",
       "    </tr>\n",
       "    <tr>\n",
       "      <th>Married</th>\n",
       "      <td>0.488599</td>\n",
       "    </tr>\n",
       "    <tr>\n",
       "      <th>Loan_ID</th>\n",
       "      <td>0.000000</td>\n",
       "    </tr>\n",
       "    <tr>\n",
       "      <th>Education</th>\n",
       "      <td>0.000000</td>\n",
       "    </tr>\n",
       "    <tr>\n",
       "      <th>ApplicantIncome</th>\n",
       "      <td>0.000000</td>\n",
       "    </tr>\n",
       "  </tbody>\n",
       "</table>\n",
       "</div>"
      ],
      "text/plain": [
       "                  Missing_%\n",
       "Credit_History     8.143322\n",
       "Self_Employed      5.211726\n",
       "LoanAmount         3.583062\n",
       "Dependents         2.442997\n",
       "Loan_Amount_Term   2.280130\n",
       "Gender             2.117264\n",
       "Married            0.488599\n",
       "Loan_ID            0.000000\n",
       "Education          0.000000\n",
       "ApplicantIncome    0.000000"
      ]
     },
     "execution_count": 12,
     "metadata": {},
     "output_type": "execute_result"
    }
   ],
   "source": [
    "percent_missing(data)"
   ]
  },
  {
   "cell_type": "code",
   "execution_count": 13,
   "metadata": {
    "execution": {
     "iopub.execute_input": "2020-12-30T03:39:57.446011Z",
     "iopub.status.busy": "2020-12-30T03:39:57.445380Z",
     "iopub.status.idle": "2020-12-30T03:39:57.450889Z",
     "shell.execute_reply": "2020-12-30T03:39:57.451417Z"
    },
    "papermill": {
     "duration": 0.049728,
     "end_time": "2020-12-30T03:39:57.451573",
     "exception": false,
     "start_time": "2020-12-30T03:39:57.401845",
     "status": "completed"
    },
    "tags": []
   },
   "outputs": [],
   "source": [
    "#Mapp the Y/N to 1/0\n",
    "mapp = {'Y':1,'N':0}\n",
    "data[\"Loan_Status\"] = data[\"Loan_Status\"].map(mapp)"
   ]
  },
  {
   "cell_type": "markdown",
   "metadata": {
    "papermill": {
     "duration": 0.041072,
     "end_time": "2020-12-30T03:39:57.534051",
     "exception": false,
     "start_time": "2020-12-30T03:39:57.492979",
     "status": "completed"
    },
    "tags": []
   },
   "source": [
    "## Correlations"
   ]
  },
  {
   "cell_type": "code",
   "execution_count": 14,
   "metadata": {
    "execution": {
     "iopub.execute_input": "2020-12-30T03:39:57.621006Z",
     "iopub.status.busy": "2020-12-30T03:39:57.620256Z",
     "iopub.status.idle": "2020-12-30T03:39:57.884000Z",
     "shell.execute_reply": "2020-12-30T03:39:57.883223Z"
    },
    "papermill": {
     "duration": 0.308506,
     "end_time": "2020-12-30T03:39:57.884131",
     "exception": false,
     "start_time": "2020-12-30T03:39:57.575625",
     "status": "completed"
    },
    "tags": []
   },
   "outputs": [
    {
     "data": {
      "text/plain": [
       "<matplotlib.axes._subplots.AxesSubplot at 0x7f8e9d6a4790>"
      ]
     },
     "execution_count": 14,
     "metadata": {},
     "output_type": "execute_result"
    },
    {
     "data": {
      "image/png": "[encoded data removed]",
      "text/plain": [
       "<Figure size 432x288 with 2 Axes>"
      ]
     },
     "metadata": {},
     "output_type": "display_data"
    }
   ],
   "source": [
    "corr = data.corr()\n",
    "sns.heatmap(data=corr.dropna(),cmap='Blues',linewidth=0.5)"
   ]
  },
  {
   "cell_type": "code",
   "execution_count": 15,
   "metadata": {
    "execution": {
     "iopub.execute_input": "2020-12-30T03:39:57.976335Z",
     "iopub.status.busy": "2020-12-30T03:39:57.975557Z",
     "iopub.status.idle": "2020-12-30T03:39:58.138487Z",
     "shell.execute_reply": "2020-12-30T03:39:58.138966Z"
    },
    "papermill": {
     "duration": 0.212312,
     "end_time": "2020-12-30T03:39:58.139107",
     "exception": false,
     "start_time": "2020-12-30T03:39:57.926795",
     "status": "completed"
    },
    "tags": []
   },
   "outputs": [
    {
     "data": {
      "text/plain": [
       "<matplotlib.axes._subplots.AxesSubplot at 0x7f8e9d6754d0>"
      ]
     },
     "execution_count": 15,
     "metadata": {},
     "output_type": "execute_result"
    },
    {
     "data": {
      "image/png": "[encoded data removed]",
      "text/plain": [
       "<Figure size 432x288 with 1 Axes>"
      ]
     },
     "metadata": {},
     "output_type": "display_data"
    }
   ],
   "source": [
    "sns.countplot(x='Loan_Status',data=data,hue='Credit_History')"
   ]
  },
  {
   "cell_type": "code",
   "execution_count": 16,
   "metadata": {
    "execution": {
     "iopub.execute_input": "2020-12-30T03:39:58.235589Z",
     "iopub.status.busy": "2020-12-30T03:39:58.234891Z",
     "iopub.status.idle": "2020-12-30T03:39:58.239067Z",
     "shell.execute_reply": "2020-12-30T03:39:58.238338Z"
    },
    "papermill": {
     "duration": 0.055945,
     "end_time": "2020-12-30T03:39:58.239201",
     "exception": false,
     "start_time": "2020-12-30T03:39:58.183256",
     "status": "completed"
    },
    "tags": []
   },
   "outputs": [
    {
     "data": {
      "text/plain": [
       "ApplicantIncome     -0.004710\n",
       "CoapplicantIncome   -0.059187\n",
       "LoanAmount          -0.037318\n",
       "Loan_Amount_Term    -0.021268\n",
       "Credit_History       0.561678\n",
       "Loan_Status          1.000000\n",
       "Name: Loan_Status, dtype: float64"
      ]
     },
     "execution_count": 16,
     "metadata": {},
     "output_type": "execute_result"
    }
   ],
   "source": [
    "corr[\"Loan_Status\"]"
   ]
  },
  {
   "cell_type": "code",
   "execution_count": 17,
   "metadata": {
    "execution": {
     "iopub.execute_input": "2020-12-30T03:39:58.342846Z",
     "iopub.status.busy": "2020-12-30T03:39:58.342103Z",
     "iopub.status.idle": "2020-12-30T03:39:59.643594Z",
     "shell.execute_reply": "2020-12-30T03:39:59.642945Z"
    },
    "papermill": {
     "duration": 1.359664,
     "end_time": "2020-12-30T03:39:59.643702",
     "exception": false,
     "start_time": "2020-12-30T03:39:58.284038",
     "status": "completed"
    },
    "tags": []
   },
   "outputs": [
    {
     "data": {
      "image/png": "[encoded data removed]",
      "text/plain": [
       "<Figure size 1296x1440 with 7 Axes>"
      ]
     },
     "metadata": {},
     "output_type": "display_data"
    }
   ],
   "source": [
    "fig = plt.figure(figsize=(18,20))\n",
    "for index in range(len(cat_cols.columns)):\n",
    "    plt.subplot(2,4,index+1)\n",
    "    sns.countplot(x=cat_cols.iloc[:,index], data=cat_cols.dropna(),hue=data['Loan_Status'])\n",
    "#    plt.xticks(rotation=90)\n",
    "fig.tight_layout(pad=1.0)"
   ]
  },
  {
   "cell_type": "markdown",
   "metadata": {
    "papermill": {
     "duration": 0.046071,
     "end_time": "2020-12-30T03:39:59.736067",
     "exception": false,
     "start_time": "2020-12-30T03:39:59.689996",
     "status": "completed"
    },
    "tags": []
   },
   "source": [
    "# Data Processing "
   ]
  },
  {
   "cell_type": "markdown",
   "metadata": {
    "papermill": {
     "duration": 0.046552,
     "end_time": "2020-12-30T03:39:59.829060",
     "exception": false,
     "start_time": "2020-12-30T03:39:59.782508",
     "status": "completed"
    },
    "tags": []
   },
   "source": [
    "**Outliers**"
   ]
  },
  {
   "cell_type": "code",
   "execution_count": 18,
   "metadata": {
    "execution": {
     "iopub.execute_input": "2020-12-30T03:39:59.928932Z",
     "iopub.status.busy": "2020-12-30T03:39:59.926557Z",
     "iopub.status.idle": "2020-12-30T03:39:59.932947Z",
     "shell.execute_reply": "2020-12-30T03:39:59.932310Z"
    },
    "papermill": {
     "duration": 0.057966,
     "end_time": "2020-12-30T03:39:59.933057",
     "exception": false,
     "start_time": "2020-12-30T03:39:59.875091",
     "status": "completed"
    },
    "tags": []
   },
   "outputs": [],
   "source": [
    "data = data[data['ApplicantIncome'] < 50000]\n",
    "data = data[data['LoanAmount'] < 500]"
   ]
  },
  {
   "cell_type": "markdown",
   "metadata": {
    "papermill": {
     "duration": 0.047869,
     "end_time": "2020-12-30T03:40:00.026941",
     "exception": false,
     "start_time": "2020-12-30T03:39:59.979072",
     "status": "completed"
    },
    "tags": []
   },
   "source": [
    "**Mapping**"
   ]
  },
  {
   "cell_type": "code",
   "execution_count": 19,
   "metadata": {
    "execution": {
     "iopub.execute_input": "2020-12-30T03:40:00.154823Z",
     "iopub.status.busy": "2020-12-30T03:40:00.154110Z",
     "iopub.status.idle": "2020-12-30T03:40:00.157173Z",
     "shell.execute_reply": "2020-12-30T03:40:00.156675Z"
    },
    "papermill": {
     "duration": 0.082978,
     "end_time": "2020-12-30T03:40:00.157282",
     "exception": false,
     "start_time": "2020-12-30T03:40:00.074304",
     "status": "completed"
    },
    "tags": []
   },
   "outputs": [],
   "source": [
    "mapp_gender = {'Male':0,'Female':1}\n",
    "mapp_married = {'No':0,'Yes':1}\n",
    "mapp_dep = {'0':0,'1':1,'2':1,'3+':1}\n",
    "mapp_edu = {'Not Graduate':0,'Graduate':1}\n",
    "mapp_se = {'No':0,'Yes':1}\n",
    "mapp_pa = {'Semiurban':1,'Urban':2,'Rural':3}\n",
    "\n",
    "\n",
    "data['Gender'] = data['Gender'].map(mapp_gender)\n",
    "data['Married'] = data['Married'].map(mapp_married)\n",
    "data['Dependents'] = data['Dependents'].map(mapp_dep)\n",
    "data['Education'] = data['Education'].map(mapp_edu)\n",
    "data['Self_Employed'] = data['Self_Employed'].map(mapp_se)\n",
    "data['Property_Area'] = data['Property_Area'].map(mapp_pa)\n",
    "\n",
    "\n",
    "test['Gender'] = test['Gender'].map(mapp_gender)\n",
    "test['Married'] = test['Married'].map(mapp_married)\n",
    "test['Dependents'] = test['Dependents'].map(mapp_dep)\n",
    "test['Education'] = test['Education'].map(mapp_edu)\n",
    "test['Self_Employed'] = test['Self_Employed'].map(mapp_se)\n",
    "test['Property_Area'] = test['Property_Area'].map(mapp_pa)\n",
    "\n",
    "mapp_lt = {360.0 :1,180.0 : 0,480.0:0,300.0:0,84.0: 0,240.0: 0,120.0: 0,36.0: 0,60.0: 0,12.0:0}\n",
    "data['Loan_Amount_Term'] = data['Loan_Amount_Term'].map(mapp_lt)\n",
    "test['Loan_Amount_Term'] = test['Loan_Amount_Term'].map(mapp_lt)"
   ]
  },
  {
   "cell_type": "code",
   "execution_count": 20,
   "metadata": {
    "execution": {
     "iopub.execute_input": "2020-12-30T03:40:00.258142Z",
     "iopub.status.busy": "2020-12-30T03:40:00.257074Z",
     "iopub.status.idle": "2020-12-30T03:40:00.609763Z",
     "shell.execute_reply": "2020-12-30T03:40:00.609217Z"
    },
    "papermill": {
     "duration": 0.405848,
     "end_time": "2020-12-30T03:40:00.609877",
     "exception": false,
     "start_time": "2020-12-30T03:40:00.204029",
     "status": "completed"
    },
    "tags": []
   },
   "outputs": [
    {
     "data": {
      "text/plain": [
       "<matplotlib.axes._subplots.AxesSubplot at 0x7f8e9d9d4cd0>"
      ]
     },
     "execution_count": 20,
     "metadata": {},
     "output_type": "execute_result"
    },
    {
     "data": {
      "image/png": "[encoded data removed]",
      "text/plain": [
       "<Figure size 432x288 with 2 Axes>"
      ]
     },
     "metadata": {},
     "output_type": "display_data"
    }
   ],
   "source": [
    "corr = data.corr()\n",
    "sns.heatmap(data=corr.dropna(),mask = corr < 0.8,cmap='Blues',linewidth=0.5)"
   ]
  },
  {
   "cell_type": "markdown",
   "metadata": {
    "papermill": {
     "duration": 0.048647,
     "end_time": "2020-12-30T03:40:00.707166",
     "exception": false,
     "start_time": "2020-12-30T03:40:00.658519",
     "status": "completed"
    },
    "tags": []
   },
   "source": [
    "No Collinearity btw other features"
   ]
  },
  {
   "cell_type": "markdown",
   "metadata": {
    "papermill": {
     "duration": 0.048376,
     "end_time": "2020-12-30T03:40:00.803567",
     "exception": false,
     "start_time": "2020-12-30T03:40:00.755191",
     "status": "completed"
    },
    "tags": []
   },
   "source": [
    "# Filling Missing Values"
   ]
  },
  {
   "cell_type": "code",
   "execution_count": 21,
   "metadata": {
    "execution": {
     "iopub.execute_input": "2020-12-30T03:40:00.910445Z",
     "iopub.status.busy": "2020-12-30T03:40:00.909758Z",
     "iopub.status.idle": "2020-12-30T03:40:01.041120Z",
     "shell.execute_reply": "2020-12-30T03:40:01.040533Z"
    },
    "papermill": {
     "duration": 0.189265,
     "end_time": "2020-12-30T03:40:01.041230",
     "exception": false,
     "start_time": "2020-12-30T03:40:00.851965",
     "status": "completed"
    },
    "tags": []
   },
   "outputs": [],
   "source": [
    "loan_amt_avg = test.groupby('ApplicantIncome').mean()['LoanAmount']\n",
    "def fill_loan_amt(LoanAmount,ApplicantIncome):\n",
    "    if np.isnan(LoanAmount):\n",
    "        return loan_amt_avg[ApplicantIncome]\n",
    "    else:\n",
    "        return LoanAmount\n",
    "test['LoanAmount'] = test.apply(lambda x: fill_loan_amt(x['LoanAmount'], x['ApplicantIncome']), axis=1)\n",
    "test['LoanAmount'] = test['LoanAmount'].fillna(136.9586777)"
   ]
  },
  {
   "cell_type": "code",
   "execution_count": 22,
   "metadata": {
    "execution": {
     "iopub.execute_input": "2020-12-30T03:40:01.149724Z",
     "iopub.status.busy": "2020-12-30T03:40:01.148614Z",
     "iopub.status.idle": "2020-12-30T03:40:01.168483Z",
     "shell.execute_reply": "2020-12-30T03:40:01.167796Z"
    },
    "papermill": {
     "duration": 0.078659,
     "end_time": "2020-12-30T03:40:01.168593",
     "exception": false,
     "start_time": "2020-12-30T03:40:01.089934",
     "status": "completed"
    },
    "tags": []
   },
   "outputs": [],
   "source": [
    "loan_amt_avg = data.groupby('ApplicantIncome').mean()['LoanAmount']\n",
    "\n",
    "def fill_loan_amt(LoanAmount,ApplicantIncome):\n",
    "    if np.isnan(LoanAmount):\n",
    "        return loan_amt_avg[ApplicantIncome]\n",
    "    else:\n",
    "        return LoanAmount\n",
    "data['LoanAmount'] = data.apply(lambda x: fill_loan_amt(x['LoanAmount'], x['ApplicantIncome']), axis=1)\n",
    "data['LoanAmount'] = data['LoanAmount'].fillna(146.4121622)"
   ]
  },
  {
   "cell_type": "code",
   "execution_count": 23,
   "metadata": {
    "execution": {
     "iopub.execute_input": "2020-12-30T03:40:01.274249Z",
     "iopub.status.busy": "2020-12-30T03:40:01.273576Z",
     "iopub.status.idle": "2020-12-30T03:40:01.276855Z",
     "shell.execute_reply": "2020-12-30T03:40:01.276192Z"
    },
    "papermill": {
     "duration": 0.059548,
     "end_time": "2020-12-30T03:40:01.276967",
     "exception": false,
     "start_time": "2020-12-30T03:40:01.217419",
     "status": "completed"
    },
    "tags": []
   },
   "outputs": [],
   "source": [
    "test['Dependents'] = test['Dependents'].fillna(1)\n",
    "data['Dependents'] = data['Dependents'].fillna(1)"
   ]
  },
  {
   "cell_type": "code",
   "execution_count": 24,
   "metadata": {
    "execution": {
     "iopub.execute_input": "2020-12-30T03:40:01.406667Z",
     "iopub.status.busy": "2020-12-30T03:40:01.397890Z",
     "iopub.status.idle": "2020-12-30T03:40:01.410415Z",
     "shell.execute_reply": "2020-12-30T03:40:01.409702Z"
    },
    "papermill": {
     "duration": 0.084787,
     "end_time": "2020-12-30T03:40:01.410544",
     "exception": false,
     "start_time": "2020-12-30T03:40:01.325757",
     "status": "completed"
    },
    "tags": []
   },
   "outputs": [],
   "source": [
    "def fill_gender(Gender,Married):\n",
    "    if np.isnan(Gender):\n",
    "        if Married ==1:\n",
    "            return (1)\n",
    "        else:\n",
    "            return (0)\n",
    "    else:\n",
    "        return Gender\n",
    "test['Gender'] = test.apply(lambda x: fill_gender(x['Gender'], x['Married']), axis=1)\n",
    "data['Gender'] = data.apply(lambda x: fill_gender(x['Gender'], x['Married']), axis=1)"
   ]
  },
  {
   "cell_type": "code",
   "execution_count": 25,
   "metadata": {
    "execution": {
     "iopub.execute_input": "2020-12-30T03:40:01.537203Z",
     "iopub.status.busy": "2020-12-30T03:40:01.532253Z",
     "iopub.status.idle": "2020-12-30T03:40:01.545817Z",
     "shell.execute_reply": "2020-12-30T03:40:01.544984Z"
    },
    "papermill": {
     "duration": 0.086343,
     "end_time": "2020-12-30T03:40:01.545942",
     "exception": false,
     "start_time": "2020-12-30T03:40:01.459599",
     "status": "completed"
    },
    "tags": []
   },
   "outputs": [],
   "source": [
    "def fill_self_emp(Self_Employed,ApplicantIncome):\n",
    "    if np.isnan(Self_Employed):\n",
    "        if ApplicantIncome >=7380:\n",
    "            return (1)\n",
    "        else:\n",
    "            return (0)\n",
    "    else:\n",
    "        return Self_Employed\n",
    "test['Self_Employed'] = test.apply(lambda x: fill_self_emp(x['Self_Employed'], x['ApplicantIncome']), axis=1)\n",
    "data['Self_Employed'] = data.apply(lambda x: fill_self_emp(x['Self_Employed'], x['ApplicantIncome']), axis=1)"
   ]
  },
  {
   "cell_type": "code",
   "execution_count": 26,
   "metadata": {
    "execution": {
     "iopub.execute_input": "2020-12-30T03:40:01.659892Z",
     "iopub.status.busy": "2020-12-30T03:40:01.658722Z",
     "iopub.status.idle": "2020-12-30T03:40:01.662128Z",
     "shell.execute_reply": "2020-12-30T03:40:01.661432Z"
    },
    "papermill": {
     "duration": 0.062124,
     "end_time": "2020-12-30T03:40:01.662264",
     "exception": false,
     "start_time": "2020-12-30T03:40:01.600140",
     "status": "completed"
    },
    "tags": []
   },
   "outputs": [],
   "source": [
    "test['Loan_Amount_Term'] = test['Loan_Amount_Term'].fillna(0)\n",
    "data['Loan_Amount_Term'] = data['Loan_Amount_Term'].fillna(0)"
   ]
  },
  {
   "cell_type": "code",
   "execution_count": 27,
   "metadata": {
    "execution": {
     "iopub.execute_input": "2020-12-30T03:40:01.770048Z",
     "iopub.status.busy": "2020-12-30T03:40:01.769394Z",
     "iopub.status.idle": "2020-12-30T03:40:01.772485Z",
     "shell.execute_reply": "2020-12-30T03:40:01.771958Z"
    },
    "papermill": {
     "duration": 0.061072,
     "end_time": "2020-12-30T03:40:01.772593",
     "exception": false,
     "start_time": "2020-12-30T03:40:01.711521",
     "status": "completed"
    },
    "tags": []
   },
   "outputs": [],
   "source": [
    "test['Credit_History'] = test['Credit_History'].fillna(-999)\n",
    "data = data.dropna()"
   ]
  },
  {
   "cell_type": "code",
   "execution_count": 28,
   "metadata": {
    "execution": {
     "iopub.execute_input": "2020-12-30T03:40:01.896042Z",
     "iopub.status.busy": "2020-12-30T03:40:01.895369Z",
     "iopub.status.idle": "2020-12-30T03:40:01.898463Z",
     "shell.execute_reply": "2020-12-30T03:40:01.898924Z"
    },
    "papermill": {
     "duration": 0.07647,
     "end_time": "2020-12-30T03:40:01.899068",
     "exception": false,
     "start_time": "2020-12-30T03:40:01.822598",
     "status": "completed"
    },
    "tags": []
   },
   "outputs": [],
   "source": [
    "def fill_CoapplicantIncome(CoapplicantIncome):\n",
    "    if CoapplicantIncome ==0:\n",
    "         return (1)\n",
    "    else:\n",
    "        return (0)\n",
    "data['CoapplicantIncome'] = data.apply(lambda x: fill_CoapplicantIncome(x['CoapplicantIncome']), axis=1)\n",
    "test['CoapplicantIncome'] = test.apply(lambda x: fill_CoapplicantIncome(x['CoapplicantIncome']), axis=1)"
   ]
  },
  {
   "cell_type": "code",
   "execution_count": 29,
   "metadata": {
    "execution": {
     "iopub.execute_input": "2020-12-30T03:40:02.007822Z",
     "iopub.status.busy": "2020-12-30T03:40:02.007155Z",
     "iopub.status.idle": "2020-12-30T03:40:02.010678Z",
     "shell.execute_reply": "2020-12-30T03:40:02.011264Z"
    },
    "papermill": {
     "duration": 0.062772,
     "end_time": "2020-12-30T03:40:02.011422",
     "exception": false,
     "start_time": "2020-12-30T03:40:01.948650",
     "status": "completed"
    },
    "tags": []
   },
   "outputs": [],
   "source": [
    "mapp = {1:'Y',0:'N'}\n",
    "data[\"Loan_Status\"] = data[\"Loan_Status\"].map(mapp)\n",
    "\n",
    "X_train = data.drop(['Loan_ID','Loan_Status'],axis=1)\n",
    "y_train = data['Loan_Status']"
   ]
  },
  {
   "cell_type": "markdown",
   "metadata": {
    "papermill": {
     "duration": 0.052028,
     "end_time": "2020-12-30T03:40:02.113914",
     "exception": false,
     "start_time": "2020-12-30T03:40:02.061886",
     "status": "completed"
    },
    "tags": []
   },
   "source": [
    "# HyperParameter Tuning"
   ]
  },
  {
   "cell_type": "code",
   "execution_count": 30,
   "metadata": {
    "execution": {
     "iopub.execute_input": "2020-12-30T03:40:02.216091Z",
     "iopub.status.busy": "2020-12-30T03:40:02.215271Z",
     "iopub.status.idle": "2020-12-30T03:40:02.973125Z",
     "shell.execute_reply": "2020-12-30T03:40:02.972516Z"
    },
    "papermill": {
     "duration": 0.810034,
     "end_time": "2020-12-30T03:40:02.973237",
     "exception": false,
     "start_time": "2020-12-30T03:40:02.163203",
     "status": "completed"
    },
    "tags": []
   },
   "outputs": [],
   "source": [
    "import optuna\n",
    "\n",
    "def objective(trial):\n",
    "    params = {\n",
    "        'n_estimators': trial.suggest_int('n_estimators', 350, 1000),\n",
    "        'max_depth': trial.suggest_int('max_depth', 6, 13),\n",
    "        'learning_rate': trial.suggest_uniform('learning_rate', 0.009, 0.10),\n",
    "        'subsample': trial.suggest_uniform('subsample', 0.50, 1),\n",
    "        'colsample_bytree': trial.suggest_uniform('colsample_bytree', 0.50, 1),\n",
    "        'gamma': trial.suggest_int('gamma', 0, 0.05),\n",
    "        'missing': -999,\n",
    "        #'scale_pos_weight': 0.48,\n",
    "       }\n",
    "        \n",
    "    clf = xgb.XGBClassifier(**params)\n",
    "    auccuracies = []\n",
    "    X_train_k = X_train.values\n",
    "    y_train_k = y_train.values\n",
    "    kf = KFold(n_splits=3,random_state=2000,shuffle=True)\n",
    "    for train_idx, valid_idx in kf.split(X_train_k,y_train_k):\n",
    "#        X_train_k, X_test = X_train[train_index], X_train[test_index]\n",
    "#        y_train_k, y_test = y_train[train_index], y_train[test_index]\n",
    "        train_data = X_train_k[train_idx, :], y_train_k[train_idx]\n",
    "        valid_data = X_train_k[valid_idx, :], y_train_k[valid_idx]\n",
    "        \n",
    "        clf.fit(X_train_k[train_idx, :], y_train_k[train_idx])\n",
    "        pred = clf.predict(X_train_k[valid_idx, :])\n",
    "        accuracy = accuracy_score(y_train_k[valid_idx],pred)\n",
    "        auccuracies.append(accuracy)\n",
    "    print(f'Trial done: Accuracy values on folds: {auccuracies}')\n",
    "    return np.average(auccuracies)"
   ]
  },
  {
   "cell_type": "code",
   "execution_count": 31,
   "metadata": {
    "execution": {
     "iopub.execute_input": "2020-12-30T03:40:03.088014Z",
     "iopub.status.busy": "2020-12-30T03:40:03.082798Z",
     "iopub.status.idle": "2020-12-30T03:41:03.140233Z",
     "shell.execute_reply": "2020-12-30T03:41:03.140955Z"
    },
    "papermill": {
     "duration": 60.118092,
     "end_time": "2020-12-30T03:41:03.141174",
     "exception": false,
     "start_time": "2020-12-30T03:40:03.023082",
     "status": "completed"
    },
    "tags": []
   },
   "outputs": [
    {
     "name": "stderr",
     "output_type": "stream",
     "text": [
      "\u001b[32m[I 2020-12-30 03:40:03,086]\u001b[0m A new study created in memory with name: no-name-ae2f6fae-e163-45c3-8194-62d5bd2eca6e\u001b[0m\n",
      "\u001b[32m[I 2020-12-30 03:40:03,702]\u001b[0m Trial 0 finished with value: 0.7883895131086143 and parameters: {'n_estimators': 620, 'max_depth': 7, 'learning_rate': 0.040393975441622876, 'subsample': 0.7407396746249401, 'colsample_bytree': 0.6430874826526302, 'gamma': 0}. Best is trial 0 with value: 0.7883895131086143.\u001b[0m\n"
     ]
    },
    {
     "name": "stdout",
     "output_type": "stream",
     "text": [
      "Trial done: Accuracy values on folds: [0.7640449438202247, 0.7752808988764045, 0.8258426966292135]\n"
     ]
    },
    {
     "name": "stderr",
     "output_type": "stream",
     "text": [
      "\u001b[32m[I 2020-12-30 03:40:04,382]\u001b[0m Trial 1 finished with value: 0.7808988764044944 and parameters: {'n_estimators': 671, 'max_depth': 11, 'learning_rate': 0.08225499841531374, 'subsample': 0.999563380078536, 'colsample_bytree': 0.7452627723027833, 'gamma': 0}. Best is trial 0 with value: 0.7883895131086143.\u001b[0m\n"
     ]
    },
    {
     "name": "stdout",
     "output_type": "stream",
     "text": [
      "Trial done: Accuracy values on folds: [0.7584269662921348, 0.7696629213483146, 0.8146067415730337]\n"
     ]
    },
    {
     "name": "stderr",
     "output_type": "stream",
     "text": [
      "\u001b[32m[I 2020-12-30 03:40:05,094]\u001b[0m Trial 2 finished with value: 0.7827715355805244 and parameters: {'n_estimators': 740, 'max_depth': 12, 'learning_rate': 0.08250782184315132, 'subsample': 0.9544117610052496, 'colsample_bytree': 0.7554997799474263, 'gamma': 0}. Best is trial 0 with value: 0.7883895131086143.\u001b[0m\n"
     ]
    },
    {
     "name": "stdout",
     "output_type": "stream",
     "text": [
      "Trial done: Accuracy values on folds: [0.7752808988764045, 0.7696629213483146, 0.8033707865168539]\n"
     ]
    },
    {
     "name": "stderr",
     "output_type": "stream",
     "text": [
      "\u001b[32m[I 2020-12-30 03:40:05,786]\u001b[0m Trial 3 finished with value: 0.7752808988764045 and parameters: {'n_estimators': 640, 'max_depth': 9, 'learning_rate': 0.05169523837721171, 'subsample': 0.5183580390988299, 'colsample_bytree': 0.6119872255266323, 'gamma': 0}. Best is trial 0 with value: 0.7883895131086143.\u001b[0m\n"
     ]
    },
    {
     "name": "stdout",
     "output_type": "stream",
     "text": [
      "Trial done: Accuracy values on folds: [0.7471910112359551, 0.7584269662921348, 0.8202247191011236]\n"
     ]
    },
    {
     "name": "stderr",
     "output_type": "stream",
     "text": [
      "\u001b[32m[I 2020-12-30 03:40:07,116]\u001b[0m Trial 4 finished with value: 0.7790262172284644 and parameters: {'n_estimators': 882, 'max_depth': 9, 'learning_rate': 0.08663246320040599, 'subsample': 0.9821942775202566, 'colsample_bytree': 0.8751646878941305, 'gamma': 0}. Best is trial 0 with value: 0.7883895131086143.\u001b[0m\n"
     ]
    },
    {
     "name": "stdout",
     "output_type": "stream",
     "text": [
      "Trial done: Accuracy values on folds: [0.7640449438202247, 0.7584269662921348, 0.8146067415730337]\n"
     ]
    },
    {
     "name": "stderr",
     "output_type": "stream",
     "text": [
      "\u001b[32m[I 2020-12-30 03:40:07,671]\u001b[0m Trial 5 finished with value: 0.7790262172284644 and parameters: {'n_estimators': 414, 'max_depth': 11, 'learning_rate': 0.09100288656917015, 'subsample': 0.9219224066648819, 'colsample_bytree': 0.9620134139393617, 'gamma': 0}. Best is trial 0 with value: 0.7883895131086143.\u001b[0m\n"
     ]
    },
    {
     "name": "stdout",
     "output_type": "stream",
     "text": [
      "Trial done: Accuracy values on folds: [0.7640449438202247, 0.7584269662921348, 0.8146067415730337]\n"
     ]
    },
    {
     "name": "stderr",
     "output_type": "stream",
     "text": [
      "\u001b[32m[I 2020-12-30 03:40:08,549]\u001b[0m Trial 6 finished with value: 0.7827715355805244 and parameters: {'n_estimators': 930, 'max_depth': 7, 'learning_rate': 0.03349442970660465, 'subsample': 0.6674707373999094, 'colsample_bytree': 0.7234585534618764, 'gamma': 0}. Best is trial 0 with value: 0.7883895131086143.\u001b[0m\n"
     ]
    },
    {
     "name": "stdout",
     "output_type": "stream",
     "text": [
      "Trial done: Accuracy values on folds: [0.7584269662921348, 0.7640449438202247, 0.8258426966292135]\n"
     ]
    },
    {
     "name": "stderr",
     "output_type": "stream",
     "text": [
      "\u001b[32m[I 2020-12-30 03:40:10,569]\u001b[0m Trial 7 finished with value: 0.7808988764044944 and parameters: {'n_estimators': 900, 'max_depth': 8, 'learning_rate': 0.040428865426493564, 'subsample': 0.533999564942955, 'colsample_bytree': 0.8030621321003781, 'gamma': 0}. Best is trial 0 with value: 0.7883895131086143.\u001b[0m\n"
     ]
    },
    {
     "name": "stdout",
     "output_type": "stream",
     "text": [
      "Trial done: Accuracy values on folds: [0.7584269662921348, 0.7696629213483146, 0.8146067415730337]\n"
     ]
    },
    {
     "name": "stderr",
     "output_type": "stream",
     "text": [
      "\u001b[32m[I 2020-12-30 03:40:11,049]\u001b[0m Trial 8 finished with value: 0.7715355805243446 and parameters: {'n_estimators': 539, 'max_depth': 9, 'learning_rate': 0.08037696009518777, 'subsample': 0.6508467188697601, 'colsample_bytree': 0.5106441534960224, 'gamma': 0}. Best is trial 0 with value: 0.7883895131086143.\u001b[0m\n"
     ]
    },
    {
     "name": "stdout",
     "output_type": "stream",
     "text": [
      "Trial done: Accuracy values on folds: [0.7303370786516854, 0.7640449438202247, 0.8202247191011236]\n"
     ]
    },
    {
     "name": "stderr",
     "output_type": "stream",
     "text": [
      "\u001b[32m[I 2020-12-30 03:40:11,695]\u001b[0m Trial 9 finished with value: 0.797752808988764 and parameters: {'n_estimators': 450, 'max_depth': 12, 'learning_rate': 0.013947629562148713, 'subsample': 0.7640175304665406, 'colsample_bytree': 0.8667168842732009, 'gamma': 0}. Best is trial 9 with value: 0.797752808988764.\u001b[0m\n"
     ]
    },
    {
     "name": "stdout",
     "output_type": "stream",
     "text": [
      "Trial done: Accuracy values on folds: [0.7808988764044944, 0.7752808988764045, 0.8370786516853933]\n"
     ]
    },
    {
     "name": "stderr",
     "output_type": "stream",
     "text": [
      "\u001b[32m[I 2020-12-30 03:40:12,224]\u001b[0m Trial 10 finished with value: 0.8052434456928839 and parameters: {'n_estimators': 365, 'max_depth': 13, 'learning_rate': 0.009026529965108655, 'subsample': 0.8452864098052733, 'colsample_bytree': 0.9825189148755136, 'gamma': 0}. Best is trial 10 with value: 0.8052434456928839.\u001b[0m\n"
     ]
    },
    {
     "name": "stdout",
     "output_type": "stream",
     "text": [
      "Trial done: Accuracy values on folds: [0.7865168539325843, 0.7865168539325843, 0.8426966292134831]\n"
     ]
    },
    {
     "name": "stderr",
     "output_type": "stream",
     "text": [
      "\u001b[32m[I 2020-12-30 03:40:12,728]\u001b[0m Trial 11 finished with value: 0.801498127340824 and parameters: {'n_estimators': 354, 'max_depth': 13, 'learning_rate': 0.009333367062952954, 'subsample': 0.8443799157832019, 'colsample_bytree': 0.9580282091608975, 'gamma': 0}. Best is trial 10 with value: 0.8052434456928839.\u001b[0m\n"
     ]
    },
    {
     "name": "stdout",
     "output_type": "stream",
     "text": [
      "Trial done: Accuracy values on folds: [0.7808988764044944, 0.7921348314606742, 0.8314606741573034]\n"
     ]
    },
    {
     "name": "stderr",
     "output_type": "stream",
     "text": [
      "\u001b[32m[I 2020-12-30 03:40:13,236]\u001b[0m Trial 12 finished with value: 0.801498127340824 and parameters: {'n_estimators': 350, 'max_depth': 13, 'learning_rate': 0.012308227209969078, 'subsample': 0.8660956331232204, 'colsample_bytree': 0.993135276818541, 'gamma': 0}. Best is trial 10 with value: 0.8052434456928839.\u001b[0m\n"
     ]
    },
    {
     "name": "stdout",
     "output_type": "stream",
     "text": [
      "Trial done: Accuracy values on folds: [0.7865168539325843, 0.7808988764044944, 0.8370786516853933]\n"
     ]
    },
    {
     "name": "stderr",
     "output_type": "stream",
     "text": [
      "\u001b[32m[I 2020-12-30 03:40:13,782]\u001b[0m Trial 13 finished with value: 0.7883895131086143 and parameters: {'n_estimators': 366, 'max_depth': 13, 'learning_rate': 0.02130814233292495, 'subsample': 0.8405388443446983, 'colsample_bytree': 0.9284752644763984, 'gamma': 0}. Best is trial 10 with value: 0.8052434456928839.\u001b[0m\n"
     ]
    },
    {
     "name": "stdout",
     "output_type": "stream",
     "text": [
      "Trial done: Accuracy values on folds: [0.7808988764044944, 0.7640449438202247, 0.8202247191011236]\n"
     ]
    },
    {
     "name": "stderr",
     "output_type": "stream",
     "text": [
      "\u001b[32m[I 2020-12-30 03:40:14,602]\u001b[0m Trial 14 finished with value: 0.7808988764044944 and parameters: {'n_estimators': 498, 'max_depth': 13, 'learning_rate': 0.02244095861479623, 'subsample': 0.8348805749604029, 'colsample_bytree': 0.9975149620631057, 'gamma': 0}. Best is trial 10 with value: 0.8052434456928839.\u001b[0m\n"
     ]
    },
    {
     "name": "stdout",
     "output_type": "stream",
     "text": [
      "Trial done: Accuracy values on folds: [0.7640449438202247, 0.7640449438202247, 0.8146067415730337]\n"
     ]
    },
    {
     "name": "stderr",
     "output_type": "stream",
     "text": [
      "\u001b[32m[I 2020-12-30 03:40:15,394]\u001b[0m Trial 15 finished with value: 0.7771535580524344 and parameters: {'n_estimators': 784, 'max_depth': 11, 'learning_rate': 0.06573677088935656, 'subsample': 0.7720202152945904, 'colsample_bytree': 0.9116984024696743, 'gamma': 0}. Best is trial 10 with value: 0.8052434456928839.\u001b[0m\n"
     ]
    },
    {
     "name": "stdout",
     "output_type": "stream",
     "text": [
      "Trial done: Accuracy values on folds: [0.7640449438202247, 0.7640449438202247, 0.8033707865168539]\n"
     ]
    },
    {
     "name": "stderr",
     "output_type": "stream",
     "text": [
      "\u001b[32m[I 2020-12-30 03:40:16,203]\u001b[0m Trial 16 finished with value: 0.8033707865168539 and parameters: {'n_estimators': 549, 'max_depth': 12, 'learning_rate': 0.009705797417348781, 'subsample': 0.89460659980224, 'colsample_bytree': 0.8299955317259561, 'gamma': 0}. Best is trial 10 with value: 0.8052434456928839.\u001b[0m\n"
     ]
    },
    {
     "name": "stdout",
     "output_type": "stream",
     "text": [
      "Trial done: Accuracy values on folds: [0.797752808988764, 0.7752808988764045, 0.8370786516853933]\n"
     ]
    },
    {
     "name": "stderr",
     "output_type": "stream",
     "text": [
      "\u001b[32m[I 2020-12-30 03:40:17,095]\u001b[0m Trial 17 finished with value: 0.7790262172284644 and parameters: {'n_estimators': 542, 'max_depth': 12, 'learning_rate': 0.02735426944239026, 'subsample': 0.9088767010723227, 'colsample_bytree': 0.8256081916669344, 'gamma': 0}. Best is trial 10 with value: 0.8052434456928839.\u001b[0m\n"
     ]
    },
    {
     "name": "stdout",
     "output_type": "stream",
     "text": [
      "Trial done: Accuracy values on folds: [0.7696629213483146, 0.7640449438202247, 0.8033707865168539]\n"
     ]
    },
    {
     "name": "stderr",
     "output_type": "stream",
     "text": [
      "\u001b[32m[I 2020-12-30 03:40:17,848]\u001b[0m Trial 18 finished with value: 0.7958801498127341 and parameters: {'n_estimators': 579, 'max_depth': 10, 'learning_rate': 0.009417315664505519, 'subsample': 0.8968818774371071, 'colsample_bytree': 0.6562587105689213, 'gamma': 0}. Best is trial 10 with value: 0.8052434456928839.\u001b[0m\n"
     ]
    },
    {
     "name": "stdout",
     "output_type": "stream",
     "text": [
      "Trial done: Accuracy values on folds: [0.7865168539325843, 0.7752808988764045, 0.8258426966292135]\n"
     ]
    },
    {
     "name": "stderr",
     "output_type": "stream",
     "text": [
      "\u001b[32m[I 2020-12-30 03:40:18,409]\u001b[0m Trial 19 finished with value: 0.7734082397003745 and parameters: {'n_estimators': 457, 'max_depth': 12, 'learning_rate': 0.05867208030949927, 'subsample': 0.8003416738679769, 'colsample_bytree': 0.8472725563125498, 'gamma': 0}. Best is trial 10 with value: 0.8052434456928839.\u001b[0m\n"
     ]
    },
    {
     "name": "stdout",
     "output_type": "stream",
     "text": [
      "Trial done: Accuracy values on folds: [0.7584269662921348, 0.7584269662921348, 0.8033707865168539]\n"
     ]
    },
    {
     "name": "stderr",
     "output_type": "stream",
     "text": [
      "\u001b[32m[I 2020-12-30 03:40:19,353]\u001b[0m Trial 20 finished with value: 0.7846441947565544 and parameters: {'n_estimators': 727, 'max_depth': 10, 'learning_rate': 0.019474348270742205, 'subsample': 0.700869623551927, 'colsample_bytree': 0.7872184360454615, 'gamma': 0}. Best is trial 10 with value: 0.8052434456928839.\u001b[0m\n"
     ]
    },
    {
     "name": "stdout",
     "output_type": "stream",
     "text": [
      "Trial done: Accuracy values on folds: [0.7584269662921348, 0.7640449438202247, 0.8314606741573034]\n"
     ]
    },
    {
     "name": "stderr",
     "output_type": "stream",
     "text": [
      "\u001b[32m[I 2020-12-30 03:40:19,887]\u001b[0m Trial 21 finished with value: 0.803370786516854 and parameters: {'n_estimators': 356, 'max_depth': 13, 'learning_rate': 0.012424240116523207, 'subsample': 0.8639536667487803, 'colsample_bytree': 0.9878384594483604, 'gamma': 0}. Best is trial 10 with value: 0.8052434456928839.\u001b[0m\n"
     ]
    },
    {
     "name": "stdout",
     "output_type": "stream",
     "text": [
      "Trial done: Accuracy values on folds: [0.7865168539325843, 0.7865168539325843, 0.8370786516853933]\n"
     ]
    },
    {
     "name": "stderr",
     "output_type": "stream",
     "text": [
      "\u001b[32m[I 2020-12-30 03:40:20,456]\u001b[0m Trial 22 finished with value: 0.7996254681647942 and parameters: {'n_estimators': 407, 'max_depth': 13, 'learning_rate': 0.00934544540142449, 'subsample': 0.9473885771653917, 'colsample_bytree': 0.905083852648496, 'gamma': 0}. Best is trial 10 with value: 0.8052434456928839.\u001b[0m\n"
     ]
    },
    {
     "name": "stdout",
     "output_type": "stream",
     "text": [
      "Trial done: Accuracy values on folds: [0.7865168539325843, 0.7808988764044944, 0.8314606741573034]\n"
     ]
    },
    {
     "name": "stderr",
     "output_type": "stream",
     "text": [
      "\u001b[32m[I 2020-12-30 03:40:21,083]\u001b[0m Trial 23 finished with value: 0.7902621722846442 and parameters: {'n_estimators': 495, 'max_depth': 12, 'learning_rate': 0.03053413318368107, 'subsample': 0.885826137479756, 'colsample_bytree': 0.9658990346059966, 'gamma': 0}. Best is trial 10 with value: 0.8052434456928839.\u001b[0m\n"
     ]
    },
    {
     "name": "stdout",
     "output_type": "stream",
     "text": [
      "Trial done: Accuracy values on folds: [0.7752808988764045, 0.7865168539325843, 0.8089887640449438]\n"
     ]
    },
    {
     "name": "stderr",
     "output_type": "stream",
     "text": [
      "\u001b[32m[I 2020-12-30 03:40:21,611]\u001b[0m Trial 24 finished with value: 0.7996254681647942 and parameters: {'n_estimators': 402, 'max_depth': 11, 'learning_rate': 0.016644094500536236, 'subsample': 0.7949720809526744, 'colsample_bytree': 0.9875637342964114, 'gamma': 0}. Best is trial 10 with value: 0.8052434456928839.\u001b[0m\n"
     ]
    },
    {
     "name": "stdout",
     "output_type": "stream",
     "text": [
      "Trial done: Accuracy values on folds: [0.7865168539325843, 0.7808988764044944, 0.8314606741573034]\n"
     ]
    },
    {
     "name": "stderr",
     "output_type": "stream",
     "text": [
      "\u001b[32m[I 2020-12-30 03:40:22,233]\u001b[0m Trial 25 finished with value: 0.7808988764044944 and parameters: {'n_estimators': 474, 'max_depth': 13, 'learning_rate': 0.023562339521805985, 'subsample': 0.8107550495661269, 'colsample_bytree': 0.9277236129149729, 'gamma': 0}. Best is trial 10 with value: 0.8052434456928839.\u001b[0m\n"
     ]
    },
    {
     "name": "stdout",
     "output_type": "stream",
     "text": [
      "Trial done: Accuracy values on folds: [0.7640449438202247, 0.7640449438202247, 0.8146067415730337]\n"
     ]
    },
    {
     "name": "stderr",
     "output_type": "stream",
     "text": [
      "\u001b[32m[I 2020-12-30 03:40:22,580]\u001b[0m Trial 26 finished with value: 0.7902621722846442 and parameters: {'n_estimators': 351, 'max_depth': 6, 'learning_rate': 0.03723552287969191, 'subsample': 0.9432008934295366, 'colsample_bytree': 0.6980192284995698, 'gamma': 0}. Best is trial 10 with value: 0.8052434456928839.\u001b[0m\n"
     ]
    },
    {
     "name": "stdout",
     "output_type": "stream",
     "text": [
      "Trial done: Accuracy values on folds: [0.7921348314606742, 0.7584269662921348, 0.8202247191011236]\n"
     ]
    },
    {
     "name": "stderr",
     "output_type": "stream",
     "text": [
      "\u001b[32m[I 2020-12-30 03:40:23,163]\u001b[0m Trial 27 finished with value: 0.7808988764044944 and parameters: {'n_estimators': 555, 'max_depth': 12, 'learning_rate': 0.047872264603424475, 'subsample': 0.8616582692391044, 'colsample_bytree': 0.5351689807150293, 'gamma': 0}. Best is trial 10 with value: 0.8052434456928839.\u001b[0m\n"
     ]
    },
    {
     "name": "stdout",
     "output_type": "stream",
     "text": [
      "Trial done: Accuracy values on folds: [0.7528089887640449, 0.7640449438202247, 0.8258426966292135]\n"
     ]
    },
    {
     "name": "stderr",
     "output_type": "stream",
     "text": [
      "\u001b[32m[I 2020-12-30 03:40:23,806]\u001b[0m Trial 28 finished with value: 0.7827715355805243 and parameters: {'n_estimators': 596, 'max_depth': 13, 'learning_rate': 0.07126962179830054, 'subsample': 0.7329061831724871, 'colsample_bytree': 0.8883701923967074, 'gamma': 0}. Best is trial 10 with value: 0.8052434456928839.\u001b[0m\n"
     ]
    },
    {
     "name": "stdout",
     "output_type": "stream",
     "text": [
      "Trial done: Accuracy values on folds: [0.7584269662921348, 0.7696629213483146, 0.8202247191011236]\n"
     ]
    },
    {
     "name": "stderr",
     "output_type": "stream",
     "text": [
      "\u001b[32m[I 2020-12-30 03:40:24,240]\u001b[0m Trial 29 finished with value: 0.7846441947565544 and parameters: {'n_estimators': 405, 'max_depth': 11, 'learning_rate': 0.09965345628438091, 'subsample': 0.7275886806950419, 'colsample_bytree': 0.946686300952929, 'gamma': 0}. Best is trial 10 with value: 0.8052434456928839.\u001b[0m\n"
     ]
    },
    {
     "name": "stdout",
     "output_type": "stream",
     "text": [
      "Trial done: Accuracy values on folds: [0.7584269662921348, 0.7640449438202247, 0.8314606741573034]\n"
     ]
    },
    {
     "name": "stderr",
     "output_type": "stream",
     "text": [
      "\u001b[32m[I 2020-12-30 03:40:24,909]\u001b[0m Trial 30 finished with value: 0.7827715355805244 and parameters: {'n_estimators': 640, 'max_depth': 10, 'learning_rate': 0.045331234178214275, 'subsample': 0.9834535087291784, 'colsample_bytree': 0.5904019601922998, 'gamma': 0}. Best is trial 10 with value: 0.8052434456928839.\u001b[0m\n"
     ]
    },
    {
     "name": "stdout",
     "output_type": "stream",
     "text": [
      "Trial done: Accuracy values on folds: [0.7528089887640449, 0.7696629213483146, 0.8258426966292135]\n"
     ]
    },
    {
     "name": "stderr",
     "output_type": "stream",
     "text": [
      "\u001b[32m[I 2020-12-30 03:40:25,403]\u001b[0m Trial 31 finished with value: 0.803370786516854 and parameters: {'n_estimators': 354, 'max_depth': 13, 'learning_rate': 0.010734008166584035, 'subsample': 0.833822155778124, 'colsample_bytree': 0.9994937510354914, 'gamma': 0}. Best is trial 10 with value: 0.8052434456928839.\u001b[0m\n"
     ]
    },
    {
     "name": "stdout",
     "output_type": "stream",
     "text": [
      "Trial done: Accuracy values on folds: [0.7865168539325843, 0.7865168539325843, 0.8370786516853933]\n"
     ]
    },
    {
     "name": "stderr",
     "output_type": "stream",
     "text": [
      "\u001b[32m[I 2020-12-30 03:40:25,942]\u001b[0m Trial 32 finished with value: 0.8033707865168539 and parameters: {'n_estimators': 383, 'max_depth': 13, 'learning_rate': 0.014707089830041223, 'subsample': 0.8788047740789355, 'colsample_bytree': 0.9818796471011825, 'gamma': 0}. Best is trial 10 with value: 0.8052434456928839.\u001b[0m\n"
     ]
    },
    {
     "name": "stdout",
     "output_type": "stream",
     "text": [
      "Trial done: Accuracy values on folds: [0.7921348314606742, 0.7865168539325843, 0.8314606741573034]\n"
     ]
    },
    {
     "name": "stderr",
     "output_type": "stream",
     "text": [
      "\u001b[32m[I 2020-12-30 03:40:26,539]\u001b[0m Trial 33 finished with value: 0.801498127340824 and parameters: {'n_estimators': 440, 'max_depth': 12, 'learning_rate': 0.009286748551368445, 'subsample': 0.8177299879505144, 'colsample_bytree': 0.9975655014288847, 'gamma': 0}. Best is trial 10 with value: 0.8052434456928839.\u001b[0m\n"
     ]
    },
    {
     "name": "stdout",
     "output_type": "stream",
     "text": [
      "Trial done: Accuracy values on folds: [0.7921348314606742, 0.7808988764044944, 0.8314606741573034]\n"
     ]
    },
    {
     "name": "stderr",
     "output_type": "stream",
     "text": [
      "\u001b[32m[I 2020-12-30 03:40:27,273]\u001b[0m Trial 34 finished with value: 0.7827715355805243 and parameters: {'n_estimators': 510, 'max_depth': 12, 'learning_rate': 0.026611506960646326, 'subsample': 0.9043077960645834, 'colsample_bytree': 0.768793384915684, 'gamma': 0}. Best is trial 10 with value: 0.8052434456928839.\u001b[0m\n"
     ]
    },
    {
     "name": "stdout",
     "output_type": "stream",
     "text": [
      "Trial done: Accuracy values on folds: [0.7696629213483146, 0.7640449438202247, 0.8146067415730337]\n"
     ]
    },
    {
     "name": "stderr",
     "output_type": "stream",
     "text": [
      "\u001b[32m[I 2020-12-30 03:40:27,842]\u001b[0m Trial 35 finished with value: 0.797752808988764 and parameters: {'n_estimators': 377, 'max_depth': 13, 'learning_rate': 0.016810865515060183, 'subsample': 0.8748042443200366, 'colsample_bytree': 0.9985663661613231, 'gamma': 0}. Best is trial 10 with value: 0.8052434456928839.\u001b[0m\n"
     ]
    },
    {
     "name": "stdout",
     "output_type": "stream",
     "text": [
      "Trial done: Accuracy values on folds: [0.7921348314606742, 0.7696629213483146, 0.8314606741573034]\n"
     ]
    },
    {
     "name": "stderr",
     "output_type": "stream",
     "text": [
      "\u001b[32m[I 2020-12-30 03:40:28,363]\u001b[0m Trial 36 finished with value: 0.7996254681647942 and parameters: {'n_estimators': 370, 'max_depth': 13, 'learning_rate': 0.01618517740031998, 'subsample': 0.7784112095184176, 'colsample_bytree': 0.9709884531453408, 'gamma': 0}. Best is trial 10 with value: 0.8052434456928839.\u001b[0m\n"
     ]
    },
    {
     "name": "stdout",
     "output_type": "stream",
     "text": [
      "Trial done: Accuracy values on folds: [0.7865168539325843, 0.7808988764044944, 0.8314606741573034]\n"
     ]
    },
    {
     "name": "stderr",
     "output_type": "stream",
     "text": [
      "\u001b[32m[I 2020-12-30 03:40:28,938]\u001b[0m Trial 37 finished with value: 0.7921348314606741 and parameters: {'n_estimators': 432, 'max_depth': 13, 'learning_rate': 0.031535713804893034, 'subsample': 0.932342849902014, 'colsample_bytree': 0.9394722707178413, 'gamma': 0}. Best is trial 10 with value: 0.8052434456928839.\u001b[0m\n"
     ]
    },
    {
     "name": "stdout",
     "output_type": "stream",
     "text": [
      "Trial done: Accuracy values on folds: [0.7808988764044944, 0.7752808988764045, 0.8202247191011236]\n"
     ]
    },
    {
     "name": "stderr",
     "output_type": "stream",
     "text": [
      "\u001b[32m[I 2020-12-30 03:40:29,493]\u001b[0m Trial 38 finished with value: 0.799625468164794 and parameters: {'n_estimators': 397, 'max_depth': 11, 'learning_rate': 0.014051333654202787, 'subsample': 0.8276849983010952, 'colsample_bytree': 0.9736546251559604, 'gamma': 0}. Best is trial 10 with value: 0.8052434456928839.\u001b[0m\n"
     ]
    },
    {
     "name": "stdout",
     "output_type": "stream",
     "text": [
      "Trial done: Accuracy values on folds: [0.797752808988764, 0.7696629213483146, 0.8314606741573034]\n"
     ]
    },
    {
     "name": "stderr",
     "output_type": "stream",
     "text": [
      "\u001b[32m[I 2020-12-30 03:40:30,435]\u001b[0m Trial 39 finished with value: 0.7790262172284644 and parameters: {'n_estimators': 814, 'max_depth': 12, 'learning_rate': 0.02624685185890905, 'subsample': 0.8506455447950076, 'colsample_bytree': 0.9057254592907616, 'gamma': 0}. Best is trial 10 with value: 0.8052434456928839.\u001b[0m\n"
     ]
    },
    {
     "name": "stdout",
     "output_type": "stream",
     "text": [
      "Trial done: Accuracy values on folds: [0.7640449438202247, 0.7584269662921348, 0.8146067415730337]\n"
     ]
    },
    {
     "name": "stderr",
     "output_type": "stream",
     "text": [
      "\u001b[32m[I 2020-12-30 03:40:31,336]\u001b[0m Trial 40 finished with value: 0.7883895131086143 and parameters: {'n_estimators': 684, 'max_depth': 13, 'learning_rate': 0.019102524824471695, 'subsample': 0.9744480140339562, 'colsample_bytree': 0.8752655268210373, 'gamma': 0}. Best is trial 10 with value: 0.8052434456928839.\u001b[0m\n"
     ]
    },
    {
     "name": "stdout",
     "output_type": "stream",
     "text": [
      "Trial done: Accuracy values on folds: [0.7752808988764045, 0.7696629213483146, 0.8202247191011236]\n"
     ]
    },
    {
     "name": "stderr",
     "output_type": "stream",
     "text": [
      "\u001b[32m[I 2020-12-30 03:40:31,827]\u001b[0m Trial 41 finished with value: 0.803370786516854 and parameters: {'n_estimators': 351, 'max_depth': 13, 'learning_rate': 0.009799073360293809, 'subsample': 0.8831374163846267, 'colsample_bytree': 0.8211632600209716, 'gamma': 0}. Best is trial 10 with value: 0.8052434456928839.\u001b[0m\n"
     ]
    },
    {
     "name": "stdout",
     "output_type": "stream",
     "text": [
      "Trial done: Accuracy values on folds: [0.7921348314606742, 0.7808988764044944, 0.8370786516853933]\n"
     ]
    },
    {
     "name": "stderr",
     "output_type": "stream",
     "text": [
      "\u001b[32m[I 2020-12-30 03:40:32,332]\u001b[0m Trial 42 finished with value: 0.8033707865168539 and parameters: {'n_estimators': 350, 'max_depth': 12, 'learning_rate': 0.009497902630820409, 'subsample': 0.9244289549581476, 'colsample_bytree': 0.8326581874152372, 'gamma': 0}. Best is trial 10 with value: 0.8052434456928839.\u001b[0m\n"
     ]
    },
    {
     "name": "stdout",
     "output_type": "stream",
     "text": [
      "Trial done: Accuracy values on folds: [0.7921348314606742, 0.7865168539325843, 0.8314606741573034]\n"
     ]
    },
    {
     "name": "stderr",
     "output_type": "stream",
     "text": [
      "\u001b[32m[I 2020-12-30 03:40:32,847]\u001b[0m Trial 43 finished with value: 0.8033707865168539 and parameters: {'n_estimators': 389, 'max_depth': 13, 'learning_rate': 0.013251083461618452, 'subsample': 0.8745527609282321, 'colsample_bytree': 0.7355886987755719, 'gamma': 0}. Best is trial 10 with value: 0.8052434456928839.\u001b[0m\n"
     ]
    },
    {
     "name": "stdout",
     "output_type": "stream",
     "text": [
      "Trial done: Accuracy values on folds: [0.7865168539325843, 0.7752808988764045, 0.848314606741573]\n"
     ]
    },
    {
     "name": "stderr",
     "output_type": "stream",
     "text": [
      "\u001b[32m[I 2020-12-30 03:40:33,461]\u001b[0m Trial 44 finished with value: 0.7977528089887641 and parameters: {'n_estimators': 430, 'max_depth': 13, 'learning_rate': 0.019013989538595656, 'subsample': 0.9641048686729125, 'colsample_bytree': 0.9471610409142935, 'gamma': 0}. Best is trial 10 with value: 0.8052434456928839.\u001b[0m\n"
     ]
    },
    {
     "name": "stdout",
     "output_type": "stream",
     "text": [
      "Trial done: Accuracy values on folds: [0.7921348314606742, 0.7752808988764045, 0.8258426966292135]\n"
     ]
    },
    {
     "name": "stderr",
     "output_type": "stream",
     "text": [
      "\u001b[32m[I 2020-12-30 03:40:34,015]\u001b[0m Trial 45 finished with value: 0.8052434456928839 and parameters: {'n_estimators': 355, 'max_depth': 8, 'learning_rate': 0.010012886830282286, 'subsample': 0.9220813609694412, 'colsample_bytree': 0.7894225017650821, 'gamma': 0}. Best is trial 10 with value: 0.8052434456928839.\u001b[0m\n"
     ]
    },
    {
     "name": "stdout",
     "output_type": "stream",
     "text": [
      "Trial done: Accuracy values on folds: [0.797752808988764, 0.7808988764044944, 0.8370786516853933]\n"
     ]
    },
    {
     "name": "stderr",
     "output_type": "stream",
     "text": [
      "\u001b[32m[I 2020-12-30 03:40:34,517]\u001b[0m Trial 46 finished with value: 0.7940074906367042 and parameters: {'n_estimators': 463, 'max_depth': 7, 'learning_rate': 0.02296164912645706, 'subsample': 0.9966312339695605, 'colsample_bytree': 0.7116374033794236, 'gamma': 0}. Best is trial 10 with value: 0.8052434456928839.\u001b[0m\n"
     ]
    },
    {
     "name": "stdout",
     "output_type": "stream",
     "text": [
      "Trial done: Accuracy values on folds: [0.7921348314606742, 0.7640449438202247, 0.8258426966292135]\n"
     ]
    },
    {
     "name": "stderr",
     "output_type": "stream",
     "text": [
      "\u001b[32m[I 2020-12-30 03:40:34,947]\u001b[0m Trial 47 finished with value: 0.803370786516854 and parameters: {'n_estimators': 350, 'max_depth': 8, 'learning_rate': 0.012188432195377215, 'subsample': 0.8503772955385451, 'colsample_bytree': 0.7639788000288836, 'gamma': 0}. Best is trial 10 with value: 0.8052434456928839.\u001b[0m\n"
     ]
    },
    {
     "name": "stdout",
     "output_type": "stream",
     "text": [
      "Trial done: Accuracy values on folds: [0.7808988764044944, 0.7865168539325843, 0.8426966292134831]\n"
     ]
    },
    {
     "name": "stderr",
     "output_type": "stream",
     "text": [
      "\u001b[32m[I 2020-12-30 03:40:35,852]\u001b[0m Trial 48 finished with value: 0.7808988764044944 and parameters: {'n_estimators': 960, 'max_depth': 8, 'learning_rate': 0.03648551147295859, 'subsample': 0.5828121765988128, 'colsample_bytree': 0.8017533100822852, 'gamma': 0}. Best is trial 10 with value: 0.8052434456928839.\u001b[0m\n"
     ]
    },
    {
     "name": "stdout",
     "output_type": "stream",
     "text": [
      "Trial done: Accuracy values on folds: [0.7640449438202247, 0.7528089887640449, 0.8258426966292135]\n"
     ]
    },
    {
     "name": "stderr",
     "output_type": "stream",
     "text": [
      "\u001b[32m[I 2020-12-30 03:40:36,369]\u001b[0m Trial 49 finished with value: 0.801498127340824 and parameters: {'n_estimators': 427, 'max_depth': 9, 'learning_rate': 0.009372870322800679, 'subsample': 0.917918487543107, 'colsample_bytree': 0.6847808604634784, 'gamma': 0}. Best is trial 10 with value: 0.8052434456928839.\u001b[0m\n"
     ]
    },
    {
     "name": "stdout",
     "output_type": "stream",
     "text": [
      "Trial done: Accuracy values on folds: [0.7921348314606742, 0.7808988764044944, 0.8314606741573034]\n"
     ]
    },
    {
     "name": "stderr",
     "output_type": "stream",
     "text": [
      "\u001b[32m[I 2020-12-30 03:40:36,792]\u001b[0m Trial 50 finished with value: 0.8089887640449439 and parameters: {'n_estimators': 351, 'max_depth': 8, 'learning_rate': 0.012576920224135322, 'subsample': 0.7870560092463283, 'colsample_bytree': 0.7599798054721544, 'gamma': 0}. Best is trial 50 with value: 0.8089887640449439.\u001b[0m\n"
     ]
    },
    {
     "name": "stdout",
     "output_type": "stream",
     "text": [
      "Trial done: Accuracy values on folds: [0.7921348314606742, 0.7921348314606742, 0.8426966292134831]\n"
     ]
    },
    {
     "name": "stderr",
     "output_type": "stream",
     "text": [
      "\u001b[32m[I 2020-12-30 03:40:37,171]\u001b[0m Trial 51 finished with value: 0.8071161048689138 and parameters: {'n_estimators': 364, 'max_depth': 6, 'learning_rate': 0.01248586676363773, 'subsample': 0.7568072617883127, 'colsample_bytree': 0.7866559593451711, 'gamma': 0}. Best is trial 50 with value: 0.8089887640449439.\u001b[0m\n"
     ]
    },
    {
     "name": "stdout",
     "output_type": "stream",
     "text": [
      "Trial done: Accuracy values on folds: [0.7921348314606742, 0.7921348314606742, 0.8370786516853933]\n"
     ]
    },
    {
     "name": "stderr",
     "output_type": "stream",
     "text": [
      "\u001b[32m[I 2020-12-30 03:40:37,562]\u001b[0m Trial 52 finished with value: 0.8033707865168539 and parameters: {'n_estimators': 383, 'max_depth': 6, 'learning_rate': 0.01683160377267943, 'subsample': 0.7693270882645517, 'colsample_bytree': 0.7870857031758719, 'gamma': 0}. Best is trial 50 with value: 0.8089887640449439.\u001b[0m\n"
     ]
    },
    {
     "name": "stdout",
     "output_type": "stream",
     "text": [
      "Trial done: Accuracy values on folds: [0.7752808988764045, 0.797752808988764, 0.8370786516853933]\n"
     ]
    },
    {
     "name": "stderr",
     "output_type": "stream",
     "text": [
      "\u001b[32m[I 2020-12-30 03:40:37,955]\u001b[0m Trial 53 finished with value: 0.805243445692884 and parameters: {'n_estimators': 352, 'max_depth': 7, 'learning_rate': 0.021034563654734467, 'subsample': 0.7064468473766513, 'colsample_bytree': 0.7488528001350835, 'gamma': 0}. Best is trial 50 with value: 0.8089887640449439.\u001b[0m\n"
     ]
    },
    {
     "name": "stdout",
     "output_type": "stream",
     "text": [
      "Trial done: Accuracy values on folds: [0.7921348314606742, 0.7921348314606742, 0.8314606741573034]\n"
     ]
    },
    {
     "name": "stderr",
     "output_type": "stream",
     "text": [
      "\u001b[32m[I 2020-12-30 03:40:38,536]\u001b[0m Trial 54 finished with value: 0.801498127340824 and parameters: {'n_estimators': 423, 'max_depth': 7, 'learning_rate': 0.020895016932046012, 'subsample': 0.6734138062842625, 'colsample_bytree': 0.6674287504597729, 'gamma': 0}. Best is trial 50 with value: 0.8089887640449439.\u001b[0m\n"
     ]
    },
    {
     "name": "stdout",
     "output_type": "stream",
     "text": [
      "Trial done: Accuracy values on folds: [0.7752808988764045, 0.8033707865168539, 0.8258426966292135]\n"
     ]
    },
    {
     "name": "stderr",
     "output_type": "stream",
     "text": [
      "\u001b[32m[I 2020-12-30 03:40:39,101]\u001b[0m Trial 55 finished with value: 0.7846441947565542 and parameters: {'n_estimators': 478, 'max_depth': 8, 'learning_rate': 0.02458407338214358, 'subsample': 0.7051314930145961, 'colsample_bytree': 0.7557745333654439, 'gamma': 0}. Best is trial 50 with value: 0.8089887640449439.\u001b[0m\n"
     ]
    },
    {
     "name": "stdout",
     "output_type": "stream",
     "text": [
      "Trial done: Accuracy values on folds: [0.7528089887640449, 0.7752808988764045, 0.8258426966292135]\n"
     ]
    },
    {
     "name": "stderr",
     "output_type": "stream",
     "text": [
      "\u001b[32m[I 2020-12-30 03:40:39,497]\u001b[0m Trial 56 finished with value: 0.7865168539325843 and parameters: {'n_estimators': 375, 'max_depth': 6, 'learning_rate': 0.030116208947936537, 'subsample': 0.7474037464704564, 'colsample_bytree': 0.7376525052729156, 'gamma': 0}. Best is trial 50 with value: 0.8089887640449439.\u001b[0m\n"
     ]
    },
    {
     "name": "stdout",
     "output_type": "stream",
     "text": [
      "Trial done: Accuracy values on folds: [0.7640449438202247, 0.7696629213483146, 0.8258426966292135]\n"
     ]
    },
    {
     "name": "stderr",
     "output_type": "stream",
     "text": [
      "\u001b[32m[I 2020-12-30 03:40:39,902]\u001b[0m Trial 57 finished with value: 0.8033707865168539 and parameters: {'n_estimators': 369, 'max_depth': 7, 'learning_rate': 0.012481483312905597, 'subsample': 0.7886135396826012, 'colsample_bytree': 0.7195389389070397, 'gamma': 0}. Best is trial 50 with value: 0.8089887640449439.\u001b[0m\n"
     ]
    },
    {
     "name": "stdout",
     "output_type": "stream",
     "text": [
      "Trial done: Accuracy values on folds: [0.7921348314606742, 0.7865168539325843, 0.8314606741573034]\n"
     ]
    },
    {
     "name": "stderr",
     "output_type": "stream",
     "text": [
      "\u001b[32m[I 2020-12-30 03:40:40,438]\u001b[0m Trial 58 finished with value: 0.7958801498127341 and parameters: {'n_estimators': 512, 'max_depth': 8, 'learning_rate': 0.0187935422035468, 'subsample': 0.7099153392501798, 'colsample_bytree': 0.6279253311926799, 'gamma': 0}. Best is trial 50 with value: 0.8089887640449439.\u001b[0m\n"
     ]
    },
    {
     "name": "stdout",
     "output_type": "stream",
     "text": [
      "Trial done: Accuracy values on folds: [0.7865168539325843, 0.7808988764044944, 0.8202247191011236]\n"
     ]
    },
    {
     "name": "stderr",
     "output_type": "stream",
     "text": [
      "\u001b[32m[I 2020-12-30 03:40:40,880]\u001b[0m Trial 59 finished with value: 0.803370786516854 and parameters: {'n_estimators': 412, 'max_depth': 7, 'learning_rate': 0.021360472390736015, 'subsample': 0.6433281371837274, 'colsample_bytree': 0.7780143152843086, 'gamma': 0}. Best is trial 50 with value: 0.8089887640449439.\u001b[0m\n"
     ]
    },
    {
     "name": "stdout",
     "output_type": "stream",
     "text": [
      "Trial done: Accuracy values on folds: [0.7921348314606742, 0.7921348314606742, 0.8258426966292135]\n"
     ]
    },
    {
     "name": "stderr",
     "output_type": "stream",
     "text": [
      "\u001b[32m[I 2020-12-30 03:40:41,393]\u001b[0m Trial 60 finished with value: 0.7790262172284644 and parameters: {'n_estimators': 403, 'max_depth': 7, 'learning_rate': 0.057457440812163786, 'subsample': 0.6163735049184901, 'colsample_bytree': 0.7795419363913771, 'gamma': 0}. Best is trial 50 with value: 0.8089887640449439.\u001b[0m\n"
     ]
    },
    {
     "name": "stdout",
     "output_type": "stream",
     "text": [
      "Trial done: Accuracy values on folds: [0.7528089887640449, 0.7752808988764045, 0.8089887640449438]\n"
     ]
    },
    {
     "name": "stderr",
     "output_type": "stream",
     "text": [
      "\u001b[32m[I 2020-12-30 03:40:42,598]\u001b[0m Trial 61 finished with value: 0.8071161048689138 and parameters: {'n_estimators': 356, 'max_depth': 8, 'learning_rate': 0.012779095863635771, 'subsample': 0.812236038138894, 'colsample_bytree': 0.7523554548627654, 'gamma': 0}. Best is trial 50 with value: 0.8089887640449439.\u001b[0m\n"
     ]
    },
    {
     "name": "stdout",
     "output_type": "stream",
     "text": [
      "Trial done: Accuracy values on folds: [0.7921348314606742, 0.7921348314606742, 0.8370786516853933]\n"
     ]
    },
    {
     "name": "stderr",
     "output_type": "stream",
     "text": [
      "\u001b[32m[I 2020-12-30 03:40:43,038]\u001b[0m Trial 62 finished with value: 0.8108614232209738 and parameters: {'n_estimators': 350, 'max_depth': 9, 'learning_rate': 0.012211425203408025, 'subsample': 0.7519654787832482, 'colsample_bytree': 0.7427990192912226, 'gamma': 0}. Best is trial 62 with value: 0.8108614232209738.\u001b[0m\n"
     ]
    },
    {
     "name": "stdout",
     "output_type": "stream",
     "text": [
      "Trial done: Accuracy values on folds: [0.7921348314606742, 0.797752808988764, 0.8426966292134831]\n"
     ]
    },
    {
     "name": "stderr",
     "output_type": "stream",
     "text": [
      "\u001b[32m[I 2020-12-30 03:40:43,483]\u001b[0m Trial 63 finished with value: 0.8108614232209738 and parameters: {'n_estimators': 351, 'max_depth': 9, 'learning_rate': 0.014681776930848298, 'subsample': 0.7486142701576094, 'colsample_bytree': 0.8036062837394203, 'gamma': 0}. Best is trial 62 with value: 0.8108614232209738.\u001b[0m\n"
     ]
    },
    {
     "name": "stdout",
     "output_type": "stream",
     "text": [
      "Trial done: Accuracy values on folds: [0.7921348314606742, 0.797752808988764, 0.8426966292134831]\n"
     ]
    },
    {
     "name": "stderr",
     "output_type": "stream",
     "text": [
      "\u001b[32m[I 2020-12-30 03:40:43,919]\u001b[0m Trial 64 finished with value: 0.8089887640449439 and parameters: {'n_estimators': 350, 'max_depth': 9, 'learning_rate': 0.015404334480729738, 'subsample': 0.7553532608641592, 'colsample_bytree': 0.8073464745137288, 'gamma': 0}. Best is trial 62 with value: 0.8108614232209738.\u001b[0m\n"
     ]
    },
    {
     "name": "stdout",
     "output_type": "stream",
     "text": [
      "Trial done: Accuracy values on folds: [0.7865168539325843, 0.797752808988764, 0.8426966292134831]\n"
     ]
    },
    {
     "name": "stderr",
     "output_type": "stream",
     "text": [
      "\u001b[32m[I 2020-12-30 03:40:44,395]\u001b[0m Trial 65 finished with value: 0.803370786516854 and parameters: {'n_estimators': 387, 'max_depth': 9, 'learning_rate': 0.014843809474148184, 'subsample': 0.7540673502190633, 'colsample_bytree': 0.8109265041195017, 'gamma': 0}. Best is trial 62 with value: 0.8108614232209738.\u001b[0m\n"
     ]
    },
    {
     "name": "stdout",
     "output_type": "stream",
     "text": [
      "Trial done: Accuracy values on folds: [0.7808988764044944, 0.7921348314606742, 0.8370786516853933]\n"
     ]
    },
    {
     "name": "stderr",
     "output_type": "stream",
     "text": [
      "\u001b[32m[I 2020-12-30 03:40:44,926]\u001b[0m Trial 66 finished with value: 0.7940074906367042 and parameters: {'n_estimators': 456, 'max_depth': 9, 'learning_rate': 0.02774578901373978, 'subsample': 0.7212338417739378, 'colsample_bytree': 0.8427780681376623, 'gamma': 0}. Best is trial 62 with value: 0.8108614232209738.\u001b[0m\n"
     ]
    },
    {
     "name": "stdout",
     "output_type": "stream",
     "text": [
      "Trial done: Accuracy values on folds: [0.7584269662921348, 0.7865168539325843, 0.8370786516853933]\n"
     ]
    },
    {
     "name": "stderr",
     "output_type": "stream",
     "text": [
      "\u001b[32m[I 2020-12-30 03:40:45,457]\u001b[0m Trial 67 finished with value: 0.8052434456928839 and parameters: {'n_estimators': 445, 'max_depth': 9, 'learning_rate': 0.01736540397871768, 'subsample': 0.6916325291484964, 'colsample_bytree': 0.7470050184459179, 'gamma': 0}. Best is trial 62 with value: 0.8108614232209738.\u001b[0m\n"
     ]
    },
    {
     "name": "stdout",
     "output_type": "stream",
     "text": [
      "Trial done: Accuracy values on folds: [0.7865168539325843, 0.7921348314606742, 0.8370786516853933]\n"
     ]
    },
    {
     "name": "stderr",
     "output_type": "stream",
     "text": [
      "\u001b[32m[I 2020-12-30 03:40:45,882]\u001b[0m Trial 68 finished with value: 0.801498127340824 and parameters: {'n_estimators': 350, 'max_depth': 10, 'learning_rate': 0.023518015093748304, 'subsample': 0.7547787524947658, 'colsample_bytree': 0.7056146959578425, 'gamma': 0}. Best is trial 62 with value: 0.8108614232209738.\u001b[0m\n"
     ]
    },
    {
     "name": "stdout",
     "output_type": "stream",
     "text": [
      "Trial done: Accuracy values on folds: [0.7865168539325843, 0.7865168539325843, 0.8314606741573034]\n"
     ]
    },
    {
     "name": "stderr",
     "output_type": "stream",
     "text": [
      "\u001b[32m[I 2020-12-30 03:40:46,393]\u001b[0m Trial 69 finished with value: 0.8071161048689138 and parameters: {'n_estimators': 413, 'max_depth': 9, 'learning_rate': 0.014203739047674089, 'subsample': 0.7409722832410103, 'colsample_bytree': 0.8533955455201621, 'gamma': 0}. Best is trial 62 with value: 0.8108614232209738.\u001b[0m\n"
     ]
    },
    {
     "name": "stdout",
     "output_type": "stream",
     "text": [
      "Trial done: Accuracy values on folds: [0.7808988764044944, 0.8033707865168539, 0.8370786516853933]\n"
     ]
    },
    {
     "name": "stderr",
     "output_type": "stream",
     "text": [
      "\u001b[32m[I 2020-12-30 03:40:46,918]\u001b[0m Trial 70 finished with value: 0.8052434456928839 and parameters: {'n_estimators': 413, 'max_depth': 9, 'learning_rate': 0.014447779639646224, 'subsample': 0.7858932640157539, 'colsample_bytree': 0.8556124224215013, 'gamma': 0}. Best is trial 62 with value: 0.8108614232209738.\u001b[0m\n"
     ]
    },
    {
     "name": "stdout",
     "output_type": "stream",
     "text": [
      "Trial done: Accuracy values on folds: [0.797752808988764, 0.7696629213483146, 0.848314606741573]\n"
     ]
    },
    {
     "name": "stderr",
     "output_type": "stream",
     "text": [
      "\u001b[32m[I 2020-12-30 03:40:47,366]\u001b[0m Trial 71 finished with value: 0.8052434456928839 and parameters: {'n_estimators': 376, 'max_depth': 9, 'learning_rate': 0.020431845721936383, 'subsample': 0.7395793139180488, 'colsample_bytree': 0.8039833219426815, 'gamma': 0}. Best is trial 62 with value: 0.8108614232209738.\u001b[0m\n"
     ]
    },
    {
     "name": "stdout",
     "output_type": "stream",
     "text": [
      "Trial done: Accuracy values on folds: [0.7808988764044944, 0.7921348314606742, 0.8426966292134831]\n"
     ]
    },
    {
     "name": "stderr",
     "output_type": "stream",
     "text": [
      "\u001b[32m[I 2020-12-30 03:40:47,827]\u001b[0m Trial 72 finished with value: 0.801498127340824 and parameters: {'n_estimators': 391, 'max_depth': 8, 'learning_rate': 0.012331843016898153, 'subsample': 0.8008589532523233, 'colsample_bytree': 0.7305041378765192, 'gamma': 0}. Best is trial 62 with value: 0.8108614232209738.\u001b[0m\n"
     ]
    },
    {
     "name": "stdout",
     "output_type": "stream",
     "text": [
      "Trial done: Accuracy values on folds: [0.7865168539325843, 0.7808988764044944, 0.8370786516853933]\n"
     ]
    },
    {
     "name": "stderr",
     "output_type": "stream",
     "text": [
      "\u001b[32m[I 2020-12-30 03:40:48,281]\u001b[0m Trial 73 finished with value: 0.8089887640449439 and parameters: {'n_estimators': 364, 'max_depth': 10, 'learning_rate': 0.01606830321015882, 'subsample': 0.722737309021244, 'colsample_bytree': 0.7581817820506419, 'gamma': 0}. Best is trial 62 with value: 0.8108614232209738.\u001b[0m\n"
     ]
    },
    {
     "name": "stdout",
     "output_type": "stream",
     "text": [
      "Trial done: Accuracy values on folds: [0.7808988764044944, 0.8089887640449438, 0.8370786516853933]\n"
     ]
    },
    {
     "name": "stderr",
     "output_type": "stream",
     "text": [
      "\u001b[32m[I 2020-12-30 03:40:48,745]\u001b[0m Trial 74 finished with value: 0.799625468164794 and parameters: {'n_estimators': 371, 'max_depth': 10, 'learning_rate': 0.01568642672385292, 'subsample': 0.7636116655955401, 'colsample_bytree': 0.8168985565963071, 'gamma': 0}. Best is trial 62 with value: 0.8108614232209738.\u001b[0m\n"
     ]
    },
    {
     "name": "stdout",
     "output_type": "stream",
     "text": [
      "Trial done: Accuracy values on folds: [0.7808988764044944, 0.7808988764044944, 0.8370786516853933]\n"
     ]
    },
    {
     "name": "stderr",
     "output_type": "stream",
     "text": [
      "\u001b[32m[I 2020-12-30 03:40:49,409]\u001b[0m Trial 75 finished with value: 0.8108614232209738 and parameters: {'n_estimators': 413, 'max_depth': 10, 'learning_rate': 0.01177952197754924, 'subsample': 0.6858002900793858, 'colsample_bytree': 0.7646801830050847, 'gamma': 0}. Best is trial 62 with value: 0.8108614232209738.\u001b[0m\n"
     ]
    },
    {
     "name": "stdout",
     "output_type": "stream",
     "text": [
      "Trial done: Accuracy values on folds: [0.7921348314606742, 0.797752808988764, 0.8426966292134831]\n"
     ]
    },
    {
     "name": "stderr",
     "output_type": "stream",
     "text": [
      "\u001b[32m[I 2020-12-30 03:40:49,913]\u001b[0m Trial 76 finished with value: 0.8052434456928839 and parameters: {'n_estimators': 421, 'max_depth': 10, 'learning_rate': 0.01731496626575884, 'subsample': 0.6798005460751417, 'colsample_bytree': 0.7986704911216194, 'gamma': 0}. Best is trial 62 with value: 0.8108614232209738.\u001b[0m\n"
     ]
    },
    {
     "name": "stdout",
     "output_type": "stream",
     "text": [
      "Trial done: Accuracy values on folds: [0.7696629213483146, 0.8089887640449438, 0.8370786516853933]\n"
     ]
    },
    {
     "name": "stderr",
     "output_type": "stream",
     "text": [
      "\u001b[32m[I 2020-12-30 03:40:50,426]\u001b[0m Trial 77 finished with value: 0.8127340823970037 and parameters: {'n_estimators': 393, 'max_depth': 10, 'learning_rate': 0.009048588136126252, 'subsample': 0.7223151542808814, 'colsample_bytree': 0.7749590976475091, 'gamma': 0}. Best is trial 77 with value: 0.8127340823970037.\u001b[0m\n"
     ]
    },
    {
     "name": "stdout",
     "output_type": "stream",
     "text": [
      "Trial done: Accuracy values on folds: [0.797752808988764, 0.797752808988764, 0.8426966292134831]\n"
     ]
    },
    {
     "name": "stderr",
     "output_type": "stream",
     "text": [
      "\u001b[32m[I 2020-12-30 03:40:50,921]\u001b[0m Trial 78 finished with value: 0.7715355805243446 and parameters: {'n_estimators': 470, 'max_depth': 10, 'learning_rate': 0.07668413275001912, 'subsample': 0.7198056918878505, 'colsample_bytree': 0.7662957234980189, 'gamma': 0}. Best is trial 77 with value: 0.8127340823970037.\u001b[0m\n"
     ]
    },
    {
     "name": "stdout",
     "output_type": "stream",
     "text": [
      "Trial done: Accuracy values on folds: [0.7415730337078652, 0.7584269662921348, 0.8146067415730337]\n"
     ]
    },
    {
     "name": "stderr",
     "output_type": "stream",
     "text": [
      "\u001b[32m[I 2020-12-30 03:40:51,480]\u001b[0m Trial 79 finished with value: 0.8146067415730337 and parameters: {'n_estimators': 443, 'max_depth': 10, 'learning_rate': 0.01126260958906023, 'subsample': 0.6530602319646974, 'colsample_bytree': 0.7537103013020711, 'gamma': 0}. Best is trial 79 with value: 0.8146067415730337.\u001b[0m\n"
     ]
    },
    {
     "name": "stdout",
     "output_type": "stream",
     "text": [
      "Trial done: Accuracy values on folds: [0.7921348314606742, 0.8089887640449438, 0.8426966292134831]\n"
     ]
    },
    {
     "name": "stderr",
     "output_type": "stream",
     "text": [
      "\u001b[32m[I 2020-12-30 03:40:51,998]\u001b[0m Trial 80 finished with value: 0.7846441947565544 and parameters: {'n_estimators': 494, 'max_depth': 10, 'learning_rate': 0.08955265469099088, 'subsample': 0.6533218458041082, 'colsample_bytree': 0.6890655205474543, 'gamma': 0}. Best is trial 79 with value: 0.8146067415730337.\u001b[0m\n"
     ]
    },
    {
     "name": "stdout",
     "output_type": "stream",
     "text": [
      "Trial done: Accuracy values on folds: [0.7471910112359551, 0.7752808988764045, 0.8314606741573034]\n"
     ]
    },
    {
     "name": "stderr",
     "output_type": "stream",
     "text": [
      "\u001b[32m[I 2020-12-30 03:40:52,521]\u001b[0m Trial 81 finished with value: 0.8127340823970037 and parameters: {'n_estimators': 396, 'max_depth': 9, 'learning_rate': 0.011138847921331895, 'subsample': 0.6857882258632422, 'colsample_bytree': 0.7223301121710473, 'gamma': 0}. Best is trial 79 with value: 0.8146067415730337.\u001b[0m\n"
     ]
    },
    {
     "name": "stdout",
     "output_type": "stream",
     "text": [
      "Trial done: Accuracy values on folds: [0.7921348314606742, 0.8033707865168539, 0.8426966292134831]\n"
     ]
    },
    {
     "name": "stderr",
     "output_type": "stream",
     "text": [
      "\u001b[32m[I 2020-12-30 03:40:53,058]\u001b[0m Trial 82 finished with value: 0.8089887640449439 and parameters: {'n_estimators': 444, 'max_depth': 10, 'learning_rate': 0.011196669472038116, 'subsample': 0.6893476637071083, 'colsample_bytree': 0.724033017103549, 'gamma': 0}. Best is trial 79 with value: 0.8146067415730337.\u001b[0m\n"
     ]
    },
    {
     "name": "stdout",
     "output_type": "stream",
     "text": [
      "Trial done: Accuracy values on folds: [0.7921348314606742, 0.7921348314606742, 0.8426966292134831]\n"
     ]
    },
    {
     "name": "stderr",
     "output_type": "stream",
     "text": [
      "\u001b[32m[I 2020-12-30 03:40:53,562]\u001b[0m Trial 83 finished with value: 0.8164794007490636 and parameters: {'n_estimators': 448, 'max_depth': 10, 'learning_rate': 0.00929069357563439, 'subsample': 0.6301317890948558, 'colsample_bytree': 0.7189855753651575, 'gamma': 0}. Best is trial 83 with value: 0.8164794007490636.\u001b[0m\n"
     ]
    },
    {
     "name": "stdout",
     "output_type": "stream",
     "text": [
      "Trial done: Accuracy values on folds: [0.797752808988764, 0.8089887640449438, 0.8426966292134831]\n"
     ]
    },
    {
     "name": "stderr",
     "output_type": "stream",
     "text": [
      "\u001b[32m[I 2020-12-30 03:40:54,163]\u001b[0m Trial 84 finished with value: 0.8108614232209739 and parameters: {'n_estimators': 521, 'max_depth': 11, 'learning_rate': 0.009316169754195969, 'subsample': 0.6245477592677793, 'colsample_bytree': 0.7180290116857532, 'gamma': 0}. Best is trial 83 with value: 0.8164794007490636.\u001b[0m\n"
     ]
    },
    {
     "name": "stdout",
     "output_type": "stream",
     "text": [
      "Trial done: Accuracy values on folds: [0.797752808988764, 0.8033707865168539, 0.8314606741573034]\n"
     ]
    },
    {
     "name": "stderr",
     "output_type": "stream",
     "text": [
      "\u001b[32m[I 2020-12-30 03:40:54,736]\u001b[0m Trial 85 finished with value: 0.8127340823970037 and parameters: {'n_estimators': 494, 'max_depth': 11, 'learning_rate': 0.009380876305783383, 'subsample': 0.619208113634848, 'colsample_bytree': 0.7161676583060185, 'gamma': 0}. Best is trial 83 with value: 0.8164794007490636.\u001b[0m\n"
     ]
    },
    {
     "name": "stdout",
     "output_type": "stream",
     "text": [
      "Trial done: Accuracy values on folds: [0.7921348314606742, 0.8033707865168539, 0.8426966292134831]\n"
     ]
    },
    {
     "name": "stderr",
     "output_type": "stream",
     "text": [
      "\u001b[32m[I 2020-12-30 03:40:55,320]\u001b[0m Trial 86 finished with value: 0.8108614232209739 and parameters: {'n_estimators': 531, 'max_depth': 11, 'learning_rate': 0.009590520430019702, 'subsample': 0.6136990010128789, 'colsample_bytree': 0.6654056273103912, 'gamma': 0}. Best is trial 83 with value: 0.8164794007490636.\u001b[0m\n"
     ]
    },
    {
     "name": "stdout",
     "output_type": "stream",
     "text": [
      "Trial done: Accuracy values on folds: [0.7921348314606742, 0.8089887640449438, 0.8314606741573034]\n"
     ]
    },
    {
     "name": "stderr",
     "output_type": "stream",
     "text": [
      "\u001b[32m[I 2020-12-30 03:40:55,938]\u001b[0m Trial 87 finished with value: 0.8164794007490636 and parameters: {'n_estimators': 565, 'max_depth': 11, 'learning_rate': 0.009613546007199368, 'subsample': 0.6062922613845172, 'colsample_bytree': 0.6686653552643207, 'gamma': 0}. Best is trial 83 with value: 0.8164794007490636.\u001b[0m\n"
     ]
    },
    {
     "name": "stdout",
     "output_type": "stream",
     "text": [
      "Trial done: Accuracy values on folds: [0.797752808988764, 0.8146067415730337, 0.8370786516853933]\n"
     ]
    },
    {
     "name": "stderr",
     "output_type": "stream",
     "text": [
      "\u001b[32m[I 2020-12-30 03:40:56,522]\u001b[0m Trial 88 finished with value: 0.8146067415730337 and parameters: {'n_estimators': 531, 'max_depth': 11, 'learning_rate': 0.009486403263266446, 'subsample': 0.6055710699742232, 'colsample_bytree': 0.656697630682191, 'gamma': 0}. Best is trial 83 with value: 0.8164794007490636.\u001b[0m\n"
     ]
    },
    {
     "name": "stdout",
     "output_type": "stream",
     "text": [
      "Trial done: Accuracy values on folds: [0.7921348314606742, 0.8146067415730337, 0.8370786516853933]\n"
     ]
    },
    {
     "name": "stderr",
     "output_type": "stream",
     "text": [
      "\u001b[32m[I 2020-12-30 03:40:57,140]\u001b[0m Trial 89 finished with value: 0.8089887640449437 and parameters: {'n_estimators': 567, 'max_depth': 11, 'learning_rate': 0.00909046766507979, 'subsample': 0.5879161768445902, 'colsample_bytree': 0.6556074519357603, 'gamma': 0}. Best is trial 83 with value: 0.8164794007490636.\u001b[0m\n"
     ]
    },
    {
     "name": "stdout",
     "output_type": "stream",
     "text": [
      "Trial done: Accuracy values on folds: [0.7808988764044944, 0.8146067415730337, 0.8314606741573034]\n"
     ]
    },
    {
     "name": "stderr",
     "output_type": "stream",
     "text": [
      "\u001b[32m[I 2020-12-30 03:40:57,713]\u001b[0m Trial 90 finished with value: 0.8108614232209739 and parameters: {'n_estimators': 526, 'max_depth': 11, 'learning_rate': 0.009474526433366142, 'subsample': 0.6248971754060066, 'colsample_bytree': 0.6045495749424799, 'gamma': 0}. Best is trial 83 with value: 0.8164794007490636.\u001b[0m\n"
     ]
    },
    {
     "name": "stdout",
     "output_type": "stream",
     "text": [
      "Trial done: Accuracy values on folds: [0.7921348314606742, 0.8089887640449438, 0.8314606741573034]\n"
     ]
    },
    {
     "name": "stderr",
     "output_type": "stream",
     "text": [
      "\u001b[32m[I 2020-12-30 03:40:58,286]\u001b[0m Trial 91 finished with value: 0.8127340823970037 and parameters: {'n_estimators': 529, 'max_depth': 11, 'learning_rate': 0.009150054317624215, 'subsample': 0.6171988343981438, 'colsample_bytree': 0.6146459999329851, 'gamma': 0}. Best is trial 83 with value: 0.8164794007490636.\u001b[0m\n"
     ]
    },
    {
     "name": "stdout",
     "output_type": "stream",
     "text": [
      "Trial done: Accuracy values on folds: [0.7921348314606742, 0.8089887640449438, 0.8370786516853933]\n"
     ]
    },
    {
     "name": "stderr",
     "output_type": "stream",
     "text": [
      "\u001b[32m[I 2020-12-30 03:40:58,852]\u001b[0m Trial 92 finished with value: 0.8127340823970037 and parameters: {'n_estimators': 527, 'max_depth': 11, 'learning_rate': 0.009108878468733308, 'subsample': 0.6227062964808934, 'colsample_bytree': 0.5714688268978098, 'gamma': 0}. Best is trial 83 with value: 0.8164794007490636.\u001b[0m\n"
     ]
    },
    {
     "name": "stdout",
     "output_type": "stream",
     "text": [
      "Trial done: Accuracy values on folds: [0.7921348314606742, 0.8089887640449438, 0.8370786516853933]\n"
     ]
    },
    {
     "name": "stderr",
     "output_type": "stream",
     "text": [
      "\u001b[32m[I 2020-12-30 03:40:59,490]\u001b[0m Trial 93 finished with value: 0.805243445692884 and parameters: {'n_estimators': 603, 'max_depth': 11, 'learning_rate': 0.010795188498611987, 'subsample': 0.5791447016504803, 'colsample_bytree': 0.5751830445874853, 'gamma': 0}. Best is trial 83 with value: 0.8164794007490636.\u001b[0m\n"
     ]
    },
    {
     "name": "stdout",
     "output_type": "stream",
     "text": [
      "Trial done: Accuracy values on folds: [0.7808988764044944, 0.8033707865168539, 0.8314606741573034]\n"
     ]
    },
    {
     "name": "stderr",
     "output_type": "stream",
     "text": [
      "\u001b[32m[I 2020-12-30 03:41:00,007]\u001b[0m Trial 94 finished with value: 0.8071161048689138 and parameters: {'n_estimators': 489, 'max_depth': 11, 'learning_rate': 0.018005627340967632, 'subsample': 0.5936918861305492, 'colsample_bytree': 0.6038383944137612, 'gamma': 0}. Best is trial 83 with value: 0.8164794007490636.\u001b[0m\n"
     ]
    },
    {
     "name": "stdout",
     "output_type": "stream",
     "text": [
      "Trial done: Accuracy values on folds: [0.7921348314606742, 0.797752808988764, 0.8314606741573034]\n"
     ]
    },
    {
     "name": "stderr",
     "output_type": "stream",
     "text": [
      "\u001b[32m[I 2020-12-30 03:41:00,741]\u001b[0m Trial 95 finished with value: 0.8164794007490636 and parameters: {'n_estimators': 558, 'max_depth': 11, 'learning_rate': 0.009152974022072945, 'subsample': 0.5534425786358346, 'colsample_bytree': 0.5608748297296285, 'gamma': 0}. Best is trial 83 with value: 0.8164794007490636.\u001b[0m\n"
     ]
    },
    {
     "name": "stdout",
     "output_type": "stream",
     "text": [
      "Trial done: Accuracy values on folds: [0.797752808988764, 0.8089887640449438, 0.8426966292134831]\n"
     ]
    },
    {
     "name": "stderr",
     "output_type": "stream",
     "text": [
      "\u001b[32m[I 2020-12-30 03:41:01,334]\u001b[0m Trial 96 finished with value: 0.8146067415730337 and parameters: {'n_estimators': 551, 'max_depth': 11, 'learning_rate': 0.009102805214207409, 'subsample': 0.5451556548899866, 'colsample_bytree': 0.5556215173102049, 'gamma': 0}. Best is trial 83 with value: 0.8164794007490636.\u001b[0m\n"
     ]
    },
    {
     "name": "stdout",
     "output_type": "stream",
     "text": [
      "Trial done: Accuracy values on folds: [0.7921348314606742, 0.8089887640449438, 0.8426966292134831]\n"
     ]
    },
    {
     "name": "stderr",
     "output_type": "stream",
     "text": [
      "\u001b[32m[I 2020-12-30 03:41:01,980]\u001b[0m Trial 97 finished with value: 0.8052434456928839 and parameters: {'n_estimators': 644, 'max_depth': 11, 'learning_rate': 0.010995080558164741, 'subsample': 0.5364437546381902, 'colsample_bytree': 0.5494587885263131, 'gamma': 0}. Best is trial 83 with value: 0.8164794007490636.\u001b[0m\n"
     ]
    },
    {
     "name": "stdout",
     "output_type": "stream",
     "text": [
      "Trial done: Accuracy values on folds: [0.7808988764044944, 0.797752808988764, 0.8370786516853933]\n"
     ]
    },
    {
     "name": "stderr",
     "output_type": "stream",
     "text": [
      "\u001b[32m[I 2020-12-30 03:41:02,547]\u001b[0m Trial 98 finished with value: 0.8146067415730336 and parameters: {'n_estimators': 571, 'max_depth': 11, 'learning_rate': 0.009003003873307144, 'subsample': 0.5574263394415002, 'colsample_bytree': 0.5287305947927662, 'gamma': 0}. Best is trial 83 with value: 0.8164794007490636.\u001b[0m\n"
     ]
    },
    {
     "name": "stdout",
     "output_type": "stream",
     "text": [
      "Trial done: Accuracy values on folds: [0.7865168539325843, 0.8089887640449438, 0.848314606741573]\n"
     ]
    },
    {
     "name": "stderr",
     "output_type": "stream",
     "text": [
      "\u001b[32m[I 2020-12-30 03:41:03,104]\u001b[0m Trial 99 finished with value: 0.803370786516854 and parameters: {'n_estimators': 581, 'max_depth': 11, 'learning_rate': 0.014066307494560702, 'subsample': 0.5504502122964304, 'colsample_bytree': 0.5220339853087861, 'gamma': 0}. Best is trial 83 with value: 0.8164794007490636.\u001b[0m\n"
     ]
    },
    {
     "name": "stdout",
     "output_type": "stream",
     "text": [
      "Trial done: Accuracy values on folds: [0.7921348314606742, 0.7921348314606742, 0.8258426966292135]\n",
      "Number of finished trials: 100\n",
      "Best trial:\n",
      "  Value: 0.8164794007490636\n",
      "  Params: \n",
      "    n_estimators: 448\n",
      "    max_depth: 10\n",
      "    learning_rate: 0.00929069357563439\n",
      "    subsample: 0.6301317890948558\n",
      "    colsample_bytree: 0.7189855753651575\n",
      "    gamma: 0\n"
     ]
    }
   ],
   "source": [
    "n_trials = 100\n",
    "\n",
    "FIT_XGB = True\n",
    "\n",
    "if FIT_XGB:\n",
    "    study = optuna.create_study(direction=\"maximize\")\n",
    "    study.optimize(objective, n_trials=n_trials)\n",
    "\n",
    "    print(\"Number of finished trials: {}\".format(len(study.trials)))\n",
    "\n",
    "    print(\"Best trial:\")\n",
    "    trial = study.best_trial\n",
    "\n",
    "    print(\"  Value: {}\".format(trial.value))\n",
    "\n",
    "    print(\"  Params: \")\n",
    "    for key, value in trial.params.items():\n",
    "        print(\"    {}: {}\".format(key, value))"
   ]
  },
  {
   "cell_type": "code",
   "execution_count": 32,
   "metadata": {
    "execution": {
     "iopub.execute_input": "2020-12-30T03:41:03.417852Z",
     "iopub.status.busy": "2020-12-30T03:41:03.417177Z",
     "iopub.status.idle": "2020-12-30T03:41:03.419999Z",
     "shell.execute_reply": "2020-12-30T03:41:03.420542Z"
    },
    "papermill": {
     "duration": 0.128782,
     "end_time": "2020-12-30T03:41:03.420687",
     "exception": false,
     "start_time": "2020-12-30T03:41:03.291905",
     "status": "completed"
    },
    "tags": []
   },
   "outputs": [],
   "source": [
    "best_param = study.best_params\n",
    "best_param['scale_pos_weight'] =0.48\n",
    "best_param['missing'] =-999"
   ]
  },
  {
   "cell_type": "code",
   "execution_count": 33,
   "metadata": {
    "execution": {
     "iopub.execute_input": "2020-12-30T03:41:03.660793Z",
     "iopub.status.busy": "2020-12-30T03:41:03.660081Z",
     "iopub.status.idle": "2020-12-30T03:41:03.663238Z",
     "shell.execute_reply": "2020-12-30T03:41:03.663733Z"
    },
    "papermill": {
     "duration": 0.124482,
     "end_time": "2020-12-30T03:41:03.663892",
     "exception": false,
     "start_time": "2020-12-30T03:41:03.539410",
     "status": "completed"
    },
    "tags": []
   },
   "outputs": [],
   "source": [
    "import plotly"
   ]
  },
  {
   "cell_type": "code",
   "execution_count": 34,
   "metadata": {
    "execution": {
     "iopub.execute_input": "2020-12-30T03:41:03.900161Z",
     "iopub.status.busy": "2020-12-30T03:41:03.899546Z",
     "iopub.status.idle": "2020-12-30T03:41:04.450942Z",
     "shell.execute_reply": "2020-12-30T03:41:04.450317Z"
    },
    "papermill": {
     "duration": 0.670714,
     "end_time": "2020-12-30T03:41:04.451056",
     "exception": false,
     "start_time": "2020-12-30T03:41:03.780342",
     "status": "completed"
    },
    "tags": []
   },
   "outputs": [
    {
     "data": {
      "text/html": [
       "        <script type=\"text/javascript\">\n",
       "        window.PlotlyConfig = {MathJaxConfig: 'local'};\n",
       "        if (window.MathJax) {MathJax.Hub.Config({SVG: {font: \"STIX-Web\"}});}\n",
       "        if (typeof require !== 'undefined') {\n",
       "        require.undef(\"plotly\");\n",
       "        requirejs.config({\n",
       "            paths: {\n",
       "                'plotly': ['https://cdn.plot.ly/plotly-latest.min']\n",
       "            }\n",
       "        });\n",
       "        require(['plotly'], function(Plotly) {\n",
       "            window._Plotly = Plotly;\n",
       "        });\n",
       "        }\n",
       "        </script>\n",
       "        "
      ]
     },
     "metadata": {},
     "output_type": "display_data"
    },
    {
     "data": {
      "text/html": [
       "<div>                            <div id=\"7ea58878-b288-4d00-810f-2e9f4ac4f0dd\" class=\"plotly-graph-div\" style=\"height:525px; width:1800px;\"></div>            <script type=\"text/javascript\">                require([\"plotly\"], function(Plotly) {                    window.PLOTLYENV=window.PLOTLYENV || {};                                    if (document.getElementById(\"7ea58878-b288-4d00-810f-2e9f4ac4f0dd\")) {                    Plotly.newPlot(                        \"7ea58878-b288-4d00-810f-2e9f4ac4f0dd\",                        [{\"marker\": {\"color\": [0, 1, 2, 3, 4, 5, 6, 7, 8, 9, 10, 11, 12, 13, 14, 15, 16, 17, 18, 19, 20, 21, 22, 23, 24, 25, 26, 27, 28, 29, 30, 31, 32, 33, 34, 35, 36, 37, 38, 39, 40, 41, 42, 43, 44, 45, 46, 47, 48, 49, 50, 51, 52, 53, 54, 55, 56, 57, 58, 59, 60, 61, 62, 63, 64, 65, 66, 67, 68, 69, 70, 71, 72, 73, 74, 75, 76, 77, 78, 79, 80, 81, 82, 83, 84, 85, 86, 87, 88, 89, 90, 91, 92, 93, 94, 95, 96, 97, 98, 99], \"colorbar\": {\"title\": {\"text\": \"#Trials\"}, \"x\": 1.0, \"xpad\": 40}, \"colorscale\": [[0.0, \"rgb(247,251,255)\"], [0.125, \"rgb(222,235,247)\"], [0.25, \"rgb(198,219,239)\"], [0.375, \"rgb(158,202,225)\"], [0.5, \"rgb(107,174,214)\"], [0.625, \"rgb(66,146,198)\"], [0.75, \"rgb(33,113,181)\"], [0.875, \"rgb(8,81,156)\"], [1.0, \"rgb(8,48,107)\"]], \"line\": {\"color\": \"Grey\", \"width\": 0.5}, \"showscale\": true}, \"mode\": \"markers\", \"showlegend\": false, \"type\": \"scatter\", \"x\": [0.6430874826526302, 0.7452627723027833, 0.7554997799474263, 0.6119872255266323, 0.8751646878941305, 0.9620134139393617, 0.7234585534618764, 0.8030621321003781, 0.5106441534960224, 0.8667168842732009, 0.9825189148755136, 0.9580282091608975, 0.993135276818541, 0.9284752644763984, 0.9975149620631057, 0.9116984024696743, 0.8299955317259561, 0.8256081916669344, 0.6562587105689213, 0.8472725563125498, 0.7872184360454615, 0.9878384594483604, 0.905083852648496, 0.9658990346059966, 0.9875637342964114, 0.9277236129149729, 0.6980192284995698, 0.5351689807150293, 0.8883701923967074, 0.946686300952929, 0.5904019601922998, 0.9994937510354914, 0.9818796471011825, 0.9975655014288847, 0.768793384915684, 0.9985663661613231, 0.9709884531453408, 0.9394722707178413, 0.9736546251559604, 0.9057254592907616, 0.8752655268210373, 0.8211632600209716, 0.8326581874152372, 0.7355886987755719, 0.9471610409142935, 0.7894225017650821, 0.7116374033794236, 0.7639788000288836, 0.8017533100822852, 0.6847808604634784, 0.7599798054721544, 0.7866559593451711, 0.7870857031758719, 0.7488528001350835, 0.6674287504597729, 0.7557745333654439, 0.7376525052729156, 0.7195389389070397, 0.6279253311926799, 0.7780143152843086, 0.7795419363913771, 0.7523554548627654, 0.7427990192912226, 0.8036062837394203, 0.8073464745137288, 0.8109265041195017, 0.8427780681376623, 0.7470050184459179, 0.7056146959578425, 0.8533955455201621, 0.8556124224215013, 0.8039833219426815, 0.7305041378765192, 0.7581817820506419, 0.8168985565963071, 0.7646801830050847, 0.7986704911216194, 0.7749590976475091, 0.7662957234980189, 0.7537103013020711, 0.6890655205474543, 0.7223301121710473, 0.724033017103549, 0.7189855753651575, 0.7180290116857532, 0.7161676583060185, 0.6654056273103912, 0.6686653552643207, 0.656697630682191, 0.6556074519357603, 0.6045495749424799, 0.6146459999329851, 0.5714688268978098, 0.5751830445874853, 0.6038383944137612, 0.5608748297296285, 0.5556215173102049, 0.5494587885263131, 0.5287305947927662, 0.5220339853087861], \"xaxis\": \"x\", \"y\": [0.7883895131086143, 0.7808988764044944, 0.7827715355805244, 0.7752808988764045, 0.7790262172284644, 0.7790262172284644, 0.7827715355805244, 0.7808988764044944, 0.7715355805243446, 0.797752808988764, 0.8052434456928839, 0.801498127340824, 0.801498127340824, 0.7883895131086143, 0.7808988764044944, 0.7771535580524344, 0.8033707865168539, 0.7790262172284644, 0.7958801498127341, 0.7734082397003745, 0.7846441947565544, 0.803370786516854, 0.7996254681647942, 0.7902621722846442, 0.7996254681647942, 0.7808988764044944, 0.7902621722846442, 0.7808988764044944, 0.7827715355805243, 0.7846441947565544, 0.7827715355805244, 0.803370786516854, 0.8033707865168539, 0.801498127340824, 0.7827715355805243, 0.797752808988764, 0.7996254681647942, 0.7921348314606741, 0.799625468164794, 0.7790262172284644, 0.7883895131086143, 0.803370786516854, 0.8033707865168539, 0.8033707865168539, 0.7977528089887641, 0.8052434456928839, 0.7940074906367042, 0.803370786516854, 0.7808988764044944, 0.801498127340824, 0.8089887640449439, 0.8071161048689138, 0.8033707865168539, 0.805243445692884, 0.801498127340824, 0.7846441947565542, 0.7865168539325843, 0.8033707865168539, 0.7958801498127341, 0.803370786516854, 0.7790262172284644, 0.8071161048689138, 0.8108614232209738, 0.8108614232209738, 0.8089887640449439, 0.803370786516854, 0.7940074906367042, 0.8052434456928839, 0.801498127340824, 0.8071161048689138, 0.8052434456928839, 0.8052434456928839, 0.801498127340824, 0.8089887640449439, 0.799625468164794, 0.8108614232209738, 0.8052434456928839, 0.8127340823970037, 0.7715355805243446, 0.8146067415730337, 0.7846441947565544, 0.8127340823970037, 0.8089887640449439, 0.8164794007490636, 0.8108614232209739, 0.8127340823970037, 0.8108614232209739, 0.8164794007490636, 0.8146067415730337, 0.8089887640449437, 0.8108614232209739, 0.8127340823970037, 0.8127340823970037, 0.805243445692884, 0.8071161048689138, 0.8164794007490636, 0.8146067415730337, 0.8052434456928839, 0.8146067415730336, 0.803370786516854], \"yaxis\": \"y\"}, {\"marker\": {\"color\": [0, 1, 2, 3, 4, 5, 6, 7, 8, 9, 10, 11, 12, 13, 14, 15, 16, 17, 18, 19, 20, 21, 22, 23, 24, 25, 26, 27, 28, 29, 30, 31, 32, 33, 34, 35, 36, 37, 38, 39, 40, 41, 42, 43, 44, 45, 46, 47, 48, 49, 50, 51, 52, 53, 54, 55, 56, 57, 58, 59, 60, 61, 62, 63, 64, 65, 66, 67, 68, 69, 70, 71, 72, 73, 74, 75, 76, 77, 78, 79, 80, 81, 82, 83, 84, 85, 86, 87, 88, 89, 90, 91, 92, 93, 94, 95, 96, 97, 98, 99], \"colorbar\": {\"title\": {\"text\": \"#Trials\"}, \"x\": 1.0, \"xpad\": 40}, \"colorscale\": [[0.0, \"rgb(247,251,255)\"], [0.125, \"rgb(222,235,247)\"], [0.25, \"rgb(198,219,239)\"], [0.375, \"rgb(158,202,225)\"], [0.5, \"rgb(107,174,214)\"], [0.625, \"rgb(66,146,198)\"], [0.75, \"rgb(33,113,181)\"], [0.875, \"rgb(8,81,156)\"], [1.0, \"rgb(8,48,107)\"]], \"line\": {\"color\": \"Grey\", \"width\": 0.5}, \"showscale\": false}, \"mode\": \"markers\", \"showlegend\": false, \"type\": \"scatter\", \"x\": [0, 0, 0, 0, 0, 0, 0, 0, 0, 0, 0, 0, 0, 0, 0, 0, 0, 0, 0, 0, 0, 0, 0, 0, 0, 0, 0, 0, 0, 0, 0, 0, 0, 0, 0, 0, 0, 0, 0, 0, 0, 0, 0, 0, 0, 0, 0, 0, 0, 0, 0, 0, 0, 0, 0, 0, 0, 0, 0, 0, 0, 0, 0, 0, 0, 0, 0, 0, 0, 0, 0, 0, 0, 0, 0, 0, 0, 0, 0, 0, 0, 0, 0, 0, 0, 0, 0, 0, 0, 0, 0, 0, 0, 0, 0, 0, 0, 0, 0, 0], \"xaxis\": \"x2\", \"y\": [0.7883895131086143, 0.7808988764044944, 0.7827715355805244, 0.7752808988764045, 0.7790262172284644, 0.7790262172284644, 0.7827715355805244, 0.7808988764044944, 0.7715355805243446, 0.797752808988764, 0.8052434456928839, 0.801498127340824, 0.801498127340824, 0.7883895131086143, 0.7808988764044944, 0.7771535580524344, 0.8033707865168539, 0.7790262172284644, 0.7958801498127341, 0.7734082397003745, 0.7846441947565544, 0.803370786516854, 0.7996254681647942, 0.7902621722846442, 0.7996254681647942, 0.7808988764044944, 0.7902621722846442, 0.7808988764044944, 0.7827715355805243, 0.7846441947565544, 0.7827715355805244, 0.803370786516854, 0.8033707865168539, 0.801498127340824, 0.7827715355805243, 0.797752808988764, 0.7996254681647942, 0.7921348314606741, 0.799625468164794, 0.7790262172284644, 0.7883895131086143, 0.803370786516854, 0.8033707865168539, 0.8033707865168539, 0.7977528089887641, 0.8052434456928839, 0.7940074906367042, 0.803370786516854, 0.7808988764044944, 0.801498127340824, 0.8089887640449439, 0.8071161048689138, 0.8033707865168539, 0.805243445692884, 0.801498127340824, 0.7846441947565542, 0.7865168539325843, 0.8033707865168539, 0.7958801498127341, 0.803370786516854, 0.7790262172284644, 0.8071161048689138, 0.8108614232209738, 0.8108614232209738, 0.8089887640449439, 0.803370786516854, 0.7940074906367042, 0.8052434456928839, 0.801498127340824, 0.8071161048689138, 0.8052434456928839, 0.8052434456928839, 0.801498127340824, 0.8089887640449439, 0.799625468164794, 0.8108614232209738, 0.8052434456928839, 0.8127340823970037, 0.7715355805243446, 0.8146067415730337, 0.7846441947565544, 0.8127340823970037, 0.8089887640449439, 0.8164794007490636, 0.8108614232209739, 0.8127340823970037, 0.8108614232209739, 0.8164794007490636, 0.8146067415730337, 0.8089887640449437, 0.8108614232209739, 0.8127340823970037, 0.8127340823970037, 0.805243445692884, 0.8071161048689138, 0.8164794007490636, 0.8146067415730337, 0.8052434456928839, 0.8146067415730336, 0.803370786516854], \"yaxis\": \"y2\"}, {\"marker\": {\"color\": [0, 1, 2, 3, 4, 5, 6, 7, 8, 9, 10, 11, 12, 13, 14, 15, 16, 17, 18, 19, 20, 21, 22, 23, 24, 25, 26, 27, 28, 29, 30, 31, 32, 33, 34, 35, 36, 37, 38, 39, 40, 41, 42, 43, 44, 45, 46, 47, 48, 49, 50, 51, 52, 53, 54, 55, 56, 57, 58, 59, 60, 61, 62, 63, 64, 65, 66, 67, 68, 69, 70, 71, 72, 73, 74, 75, 76, 77, 78, 79, 80, 81, 82, 83, 84, 85, 86, 87, 88, 89, 90, 91, 92, 93, 94, 95, 96, 97, 98, 99], \"colorbar\": {\"title\": {\"text\": \"#Trials\"}, \"x\": 1.0, \"xpad\": 40}, \"colorscale\": [[0.0, \"rgb(247,251,255)\"], [0.125, \"rgb(222,235,247)\"], [0.25, \"rgb(198,219,239)\"], [0.375, \"rgb(158,202,225)\"], [0.5, \"rgb(107,174,214)\"], [0.625, \"rgb(66,146,198)\"], [0.75, \"rgb(33,113,181)\"], [0.875, \"rgb(8,81,156)\"], [1.0, \"rgb(8,48,107)\"]], \"line\": {\"color\": \"Grey\", \"width\": 0.5}, \"showscale\": false}, \"mode\": \"markers\", \"showlegend\": false, \"type\": \"scatter\", \"x\": [0.040393975441622876, 0.08225499841531374, 0.08250782184315132, 0.05169523837721171, 0.08663246320040599, 0.09100288656917015, 0.03349442970660465, 0.040428865426493564, 0.08037696009518777, 0.013947629562148713, 0.009026529965108655, 0.009333367062952954, 0.012308227209969078, 0.02130814233292495, 0.02244095861479623, 0.06573677088935656, 0.009705797417348781, 0.02735426944239026, 0.009417315664505519, 0.05867208030949927, 0.019474348270742205, 0.012424240116523207, 0.00934544540142449, 0.03053413318368107, 0.016644094500536236, 0.023562339521805985, 0.03723552287969191, 0.047872264603424475, 0.07126962179830054, 0.09965345628438091, 0.045331234178214275, 0.010734008166584035, 0.014707089830041223, 0.009286748551368445, 0.026611506960646326, 0.016810865515060183, 0.01618517740031998, 0.031535713804893034, 0.014051333654202787, 0.02624685185890905, 0.019102524824471695, 0.009799073360293809, 0.009497902630820409, 0.013251083461618452, 0.019013989538595656, 0.010012886830282286, 0.02296164912645706, 0.012188432195377215, 0.03648551147295859, 0.009372870322800679, 0.012576920224135322, 0.01248586676363773, 0.01683160377267943, 0.021034563654734467, 0.020895016932046012, 0.02458407338214358, 0.030116208947936537, 0.012481483312905597, 0.0187935422035468, 0.021360472390736015, 0.057457440812163786, 0.012779095863635771, 0.012211425203408025, 0.014681776930848298, 0.015404334480729738, 0.014843809474148184, 0.02774578901373978, 0.01736540397871768, 0.023518015093748304, 0.014203739047674089, 0.014447779639646224, 0.020431845721936383, 0.012331843016898153, 0.01606830321015882, 0.01568642672385292, 0.01177952197754924, 0.01731496626575884, 0.009048588136126252, 0.07668413275001912, 0.01126260958906023, 0.08955265469099088, 0.011138847921331895, 0.011196669472038116, 0.00929069357563439, 0.009316169754195969, 0.009380876305783383, 0.009590520430019702, 0.009613546007199368, 0.009486403263266446, 0.00909046766507979, 0.009474526433366142, 0.009150054317624215, 0.009108878468733308, 0.010795188498611987, 0.018005627340967632, 0.009152974022072945, 0.009102805214207409, 0.010995080558164741, 0.009003003873307144, 0.014066307494560702], \"xaxis\": \"x3\", \"y\": [0.7883895131086143, 0.7808988764044944, 0.7827715355805244, 0.7752808988764045, 0.7790262172284644, 0.7790262172284644, 0.7827715355805244, 0.7808988764044944, 0.7715355805243446, 0.797752808988764, 0.8052434456928839, 0.801498127340824, 0.801498127340824, 0.7883895131086143, 0.7808988764044944, 0.7771535580524344, 0.8033707865168539, 0.7790262172284644, 0.7958801498127341, 0.7734082397003745, 0.7846441947565544, 0.803370786516854, 0.7996254681647942, 0.7902621722846442, 0.7996254681647942, 0.7808988764044944, 0.7902621722846442, 0.7808988764044944, 0.7827715355805243, 0.7846441947565544, 0.7827715355805244, 0.803370786516854, 0.8033707865168539, 0.801498127340824, 0.7827715355805243, 0.797752808988764, 0.7996254681647942, 0.7921348314606741, 0.799625468164794, 0.7790262172284644, 0.7883895131086143, 0.803370786516854, 0.8033707865168539, 0.8033707865168539, 0.7977528089887641, 0.8052434456928839, 0.7940074906367042, 0.803370786516854, 0.7808988764044944, 0.801498127340824, 0.8089887640449439, 0.8071161048689138, 0.8033707865168539, 0.805243445692884, 0.801498127340824, 0.7846441947565542, 0.7865168539325843, 0.8033707865168539, 0.7958801498127341, 0.803370786516854, 0.7790262172284644, 0.8071161048689138, 0.8108614232209738, 0.8108614232209738, 0.8089887640449439, 0.803370786516854, 0.7940074906367042, 0.8052434456928839, 0.801498127340824, 0.8071161048689138, 0.8052434456928839, 0.8052434456928839, 0.801498127340824, 0.8089887640449439, 0.799625468164794, 0.8108614232209738, 0.8052434456928839, 0.8127340823970037, 0.7715355805243446, 0.8146067415730337, 0.7846441947565544, 0.8127340823970037, 0.8089887640449439, 0.8164794007490636, 0.8108614232209739, 0.8127340823970037, 0.8108614232209739, 0.8164794007490636, 0.8146067415730337, 0.8089887640449437, 0.8108614232209739, 0.8127340823970037, 0.8127340823970037, 0.805243445692884, 0.8071161048689138, 0.8164794007490636, 0.8146067415730337, 0.8052434456928839, 0.8146067415730336, 0.803370786516854], \"yaxis\": \"y3\"}, {\"marker\": {\"color\": [0, 1, 2, 3, 4, 5, 6, 7, 8, 9, 10, 11, 12, 13, 14, 15, 16, 17, 18, 19, 20, 21, 22, 23, 24, 25, 26, 27, 28, 29, 30, 31, 32, 33, 34, 35, 36, 37, 38, 39, 40, 41, 42, 43, 44, 45, 46, 47, 48, 49, 50, 51, 52, 53, 54, 55, 56, 57, 58, 59, 60, 61, 62, 63, 64, 65, 66, 67, 68, 69, 70, 71, 72, 73, 74, 75, 76, 77, 78, 79, 80, 81, 82, 83, 84, 85, 86, 87, 88, 89, 90, 91, 92, 93, 94, 95, 96, 97, 98, 99], \"colorbar\": {\"title\": {\"text\": \"#Trials\"}, \"x\": 1.0, \"xpad\": 40}, \"colorscale\": [[0.0, \"rgb(247,251,255)\"], [0.125, \"rgb(222,235,247)\"], [0.25, \"rgb(198,219,239)\"], [0.375, \"rgb(158,202,225)\"], [0.5, \"rgb(107,174,214)\"], [0.625, \"rgb(66,146,198)\"], [0.75, \"rgb(33,113,181)\"], [0.875, \"rgb(8,81,156)\"], [1.0, \"rgb(8,48,107)\"]], \"line\": {\"color\": \"Grey\", \"width\": 0.5}, \"showscale\": false}, \"mode\": \"markers\", \"showlegend\": false, \"type\": \"scatter\", \"x\": [7, 11, 12, 9, 9, 11, 7, 8, 9, 12, 13, 13, 13, 13, 13, 11, 12, 12, 10, 12, 10, 13, 13, 12, 11, 13, 6, 12, 13, 11, 10, 13, 13, 12, 12, 13, 13, 13, 11, 12, 13, 13, 12, 13, 13, 8, 7, 8, 8, 9, 8, 6, 6, 7, 7, 8, 6, 7, 8, 7, 7, 8, 9, 9, 9, 9, 9, 9, 10, 9, 9, 9, 8, 10, 10, 10, 10, 10, 10, 10, 10, 9, 10, 10, 11, 11, 11, 11, 11, 11, 11, 11, 11, 11, 11, 11, 11, 11, 11, 11], \"xaxis\": \"x4\", \"y\": [0.7883895131086143, 0.7808988764044944, 0.7827715355805244, 0.7752808988764045, 0.7790262172284644, 0.7790262172284644, 0.7827715355805244, 0.7808988764044944, 0.7715355805243446, 0.797752808988764, 0.8052434456928839, 0.801498127340824, 0.801498127340824, 0.7883895131086143, 0.7808988764044944, 0.7771535580524344, 0.8033707865168539, 0.7790262172284644, 0.7958801498127341, 0.7734082397003745, 0.7846441947565544, 0.803370786516854, 0.7996254681647942, 0.7902621722846442, 0.7996254681647942, 0.7808988764044944, 0.7902621722846442, 0.7808988764044944, 0.7827715355805243, 0.7846441947565544, 0.7827715355805244, 0.803370786516854, 0.8033707865168539, 0.801498127340824, 0.7827715355805243, 0.797752808988764, 0.7996254681647942, 0.7921348314606741, 0.799625468164794, 0.7790262172284644, 0.7883895131086143, 0.803370786516854, 0.8033707865168539, 0.8033707865168539, 0.7977528089887641, 0.8052434456928839, 0.7940074906367042, 0.803370786516854, 0.7808988764044944, 0.801498127340824, 0.8089887640449439, 0.8071161048689138, 0.8033707865168539, 0.805243445692884, 0.801498127340824, 0.7846441947565542, 0.7865168539325843, 0.8033707865168539, 0.7958801498127341, 0.803370786516854, 0.7790262172284644, 0.8071161048689138, 0.8108614232209738, 0.8108614232209738, 0.8089887640449439, 0.803370786516854, 0.7940074906367042, 0.8052434456928839, 0.801498127340824, 0.8071161048689138, 0.8052434456928839, 0.8052434456928839, 0.801498127340824, 0.8089887640449439, 0.799625468164794, 0.8108614232209738, 0.8052434456928839, 0.8127340823970037, 0.7715355805243446, 0.8146067415730337, 0.7846441947565544, 0.8127340823970037, 0.8089887640449439, 0.8164794007490636, 0.8108614232209739, 0.8127340823970037, 0.8108614232209739, 0.8164794007490636, 0.8146067415730337, 0.8089887640449437, 0.8108614232209739, 0.8127340823970037, 0.8127340823970037, 0.805243445692884, 0.8071161048689138, 0.8164794007490636, 0.8146067415730337, 0.8052434456928839, 0.8146067415730336, 0.803370786516854], \"yaxis\": \"y4\"}, {\"marker\": {\"color\": [0, 1, 2, 3, 4, 5, 6, 7, 8, 9, 10, 11, 12, 13, 14, 15, 16, 17, 18, 19, 20, 21, 22, 23, 24, 25, 26, 27, 28, 29, 30, 31, 32, 33, 34, 35, 36, 37, 38, 39, 40, 41, 42, 43, 44, 45, 46, 47, 48, 49, 50, 51, 52, 53, 54, 55, 56, 57, 58, 59, 60, 61, 62, 63, 64, 65, 66, 67, 68, 69, 70, 71, 72, 73, 74, 75, 76, 77, 78, 79, 80, 81, 82, 83, 84, 85, 86, 87, 88, 89, 90, 91, 92, 93, 94, 95, 96, 97, 98, 99], \"colorbar\": {\"title\": {\"text\": \"#Trials\"}, \"x\": 1.0, \"xpad\": 40}, \"colorscale\": [[0.0, \"rgb(247,251,255)\"], [0.125, \"rgb(222,235,247)\"], [0.25, \"rgb(198,219,239)\"], [0.375, \"rgb(158,202,225)\"], [0.5, \"rgb(107,174,214)\"], [0.625, \"rgb(66,146,198)\"], [0.75, \"rgb(33,113,181)\"], [0.875, \"rgb(8,81,156)\"], [1.0, \"rgb(8,48,107)\"]], \"line\": {\"color\": \"Grey\", \"width\": 0.5}, \"showscale\": false}, \"mode\": \"markers\", \"showlegend\": false, \"type\": \"scatter\", \"x\": [620, 671, 740, 640, 882, 414, 930, 900, 539, 450, 365, 354, 350, 366, 498, 784, 549, 542, 579, 457, 727, 356, 407, 495, 402, 474, 351, 555, 596, 405, 640, 354, 383, 440, 510, 377, 370, 432, 397, 814, 684, 351, 350, 389, 430, 355, 463, 350, 960, 427, 351, 364, 383, 352, 423, 478, 375, 369, 512, 412, 403, 356, 350, 351, 350, 387, 456, 445, 350, 413, 413, 376, 391, 364, 371, 413, 421, 393, 470, 443, 494, 396, 444, 448, 521, 494, 531, 565, 531, 567, 526, 529, 527, 603, 489, 558, 551, 644, 571, 581], \"xaxis\": \"x5\", \"y\": [0.7883895131086143, 0.7808988764044944, 0.7827715355805244, 0.7752808988764045, 0.7790262172284644, 0.7790262172284644, 0.7827715355805244, 0.7808988764044944, 0.7715355805243446, 0.797752808988764, 0.8052434456928839, 0.801498127340824, 0.801498127340824, 0.7883895131086143, 0.7808988764044944, 0.7771535580524344, 0.8033707865168539, 0.7790262172284644, 0.7958801498127341, 0.7734082397003745, 0.7846441947565544, 0.803370786516854, 0.7996254681647942, 0.7902621722846442, 0.7996254681647942, 0.7808988764044944, 0.7902621722846442, 0.7808988764044944, 0.7827715355805243, 0.7846441947565544, 0.7827715355805244, 0.803370786516854, 0.8033707865168539, 0.801498127340824, 0.7827715355805243, 0.797752808988764, 0.7996254681647942, 0.7921348314606741, 0.799625468164794, 0.7790262172284644, 0.7883895131086143, 0.803370786516854, 0.8033707865168539, 0.8033707865168539, 0.7977528089887641, 0.8052434456928839, 0.7940074906367042, 0.803370786516854, 0.7808988764044944, 0.801498127340824, 0.8089887640449439, 0.8071161048689138, 0.8033707865168539, 0.805243445692884, 0.801498127340824, 0.7846441947565542, 0.7865168539325843, 0.8033707865168539, 0.7958801498127341, 0.803370786516854, 0.7790262172284644, 0.8071161048689138, 0.8108614232209738, 0.8108614232209738, 0.8089887640449439, 0.803370786516854, 0.7940074906367042, 0.8052434456928839, 0.801498127340824, 0.8071161048689138, 0.8052434456928839, 0.8052434456928839, 0.801498127340824, 0.8089887640449439, 0.799625468164794, 0.8108614232209738, 0.8052434456928839, 0.8127340823970037, 0.7715355805243446, 0.8146067415730337, 0.7846441947565544, 0.8127340823970037, 0.8089887640449439, 0.8164794007490636, 0.8108614232209739, 0.8127340823970037, 0.8108614232209739, 0.8164794007490636, 0.8146067415730337, 0.8089887640449437, 0.8108614232209739, 0.8127340823970037, 0.8127340823970037, 0.805243445692884, 0.8071161048689138, 0.8164794007490636, 0.8146067415730337, 0.8052434456928839, 0.8146067415730336, 0.803370786516854], \"yaxis\": \"y5\"}, {\"marker\": {\"color\": [0, 1, 2, 3, 4, 5, 6, 7, 8, 9, 10, 11, 12, 13, 14, 15, 16, 17, 18, 19, 20, 21, 22, 23, 24, 25, 26, 27, 28, 29, 30, 31, 32, 33, 34, 35, 36, 37, 38, 39, 40, 41, 42, 43, 44, 45, 46, 47, 48, 49, 50, 51, 52, 53, 54, 55, 56, 57, 58, 59, 60, 61, 62, 63, 64, 65, 66, 67, 68, 69, 70, 71, 72, 73, 74, 75, 76, 77, 78, 79, 80, 81, 82, 83, 84, 85, 86, 87, 88, 89, 90, 91, 92, 93, 94, 95, 96, 97, 98, 99], \"colorbar\": {\"title\": {\"text\": \"#Trials\"}, \"x\": 1.0, \"xpad\": 40}, \"colorscale\": [[0.0, \"rgb(247,251,255)\"], [0.125, \"rgb(222,235,247)\"], [0.25, \"rgb(198,219,239)\"], [0.375, \"rgb(158,202,225)\"], [0.5, \"rgb(107,174,214)\"], [0.625, \"rgb(66,146,198)\"], [0.75, \"rgb(33,113,181)\"], [0.875, \"rgb(8,81,156)\"], [1.0, \"rgb(8,48,107)\"]], \"line\": {\"color\": \"Grey\", \"width\": 0.5}, \"showscale\": false}, \"mode\": \"markers\", \"showlegend\": false, \"type\": \"scatter\", \"x\": [0.7407396746249401, 0.999563380078536, 0.9544117610052496, 0.5183580390988299, 0.9821942775202566, 0.9219224066648819, 0.6674707373999094, 0.533999564942955, 0.6508467188697601, 0.7640175304665406, 0.8452864098052733, 0.8443799157832019, 0.8660956331232204, 0.8405388443446983, 0.8348805749604029, 0.7720202152945904, 0.89460659980224, 0.9088767010723227, 0.8968818774371071, 0.8003416738679769, 0.700869623551927, 0.8639536667487803, 0.9473885771653917, 0.885826137479756, 0.7949720809526744, 0.8107550495661269, 0.9432008934295366, 0.8616582692391044, 0.7329061831724871, 0.7275886806950419, 0.9834535087291784, 0.833822155778124, 0.8788047740789355, 0.8177299879505144, 0.9043077960645834, 0.8748042443200366, 0.7784112095184176, 0.932342849902014, 0.8276849983010952, 0.8506455447950076, 0.9744480140339562, 0.8831374163846267, 0.9244289549581476, 0.8745527609282321, 0.9641048686729125, 0.9220813609694412, 0.9966312339695605, 0.8503772955385451, 0.5828121765988128, 0.917918487543107, 0.7870560092463283, 0.7568072617883127, 0.7693270882645517, 0.7064468473766513, 0.6734138062842625, 0.7051314930145961, 0.7474037464704564, 0.7886135396826012, 0.7099153392501798, 0.6433281371837274, 0.6163735049184901, 0.812236038138894, 0.7519654787832482, 0.7486142701576094, 0.7553532608641592, 0.7540673502190633, 0.7212338417739378, 0.6916325291484964, 0.7547787524947658, 0.7409722832410103, 0.7858932640157539, 0.7395793139180488, 0.8008589532523233, 0.722737309021244, 0.7636116655955401, 0.6858002900793858, 0.6798005460751417, 0.7223151542808814, 0.7198056918878505, 0.6530602319646974, 0.6533218458041082, 0.6857882258632422, 0.6893476637071083, 0.6301317890948558, 0.6245477592677793, 0.619208113634848, 0.6136990010128789, 0.6062922613845172, 0.6055710699742232, 0.5879161768445902, 0.6248971754060066, 0.6171988343981438, 0.6227062964808934, 0.5791447016504803, 0.5936918861305492, 0.5534425786358346, 0.5451556548899866, 0.5364437546381902, 0.5574263394415002, 0.5504502122964304], \"xaxis\": \"x6\", \"y\": [0.7883895131086143, 0.7808988764044944, 0.7827715355805244, 0.7752808988764045, 0.7790262172284644, 0.7790262172284644, 0.7827715355805244, 0.7808988764044944, 0.7715355805243446, 0.797752808988764, 0.8052434456928839, 0.801498127340824, 0.801498127340824, 0.7883895131086143, 0.7808988764044944, 0.7771535580524344, 0.8033707865168539, 0.7790262172284644, 0.7958801498127341, 0.7734082397003745, 0.7846441947565544, 0.803370786516854, 0.7996254681647942, 0.7902621722846442, 0.7996254681647942, 0.7808988764044944, 0.7902621722846442, 0.7808988764044944, 0.7827715355805243, 0.7846441947565544, 0.7827715355805244, 0.803370786516854, 0.8033707865168539, 0.801498127340824, 0.7827715355805243, 0.797752808988764, 0.7996254681647942, 0.7921348314606741, 0.799625468164794, 0.7790262172284644, 0.7883895131086143, 0.803370786516854, 0.8033707865168539, 0.8033707865168539, 0.7977528089887641, 0.8052434456928839, 0.7940074906367042, 0.803370786516854, 0.7808988764044944, 0.801498127340824, 0.8089887640449439, 0.8071161048689138, 0.8033707865168539, 0.805243445692884, 0.801498127340824, 0.7846441947565542, 0.7865168539325843, 0.8033707865168539, 0.7958801498127341, 0.803370786516854, 0.7790262172284644, 0.8071161048689138, 0.8108614232209738, 0.8108614232209738, 0.8089887640449439, 0.803370786516854, 0.7940074906367042, 0.8052434456928839, 0.801498127340824, 0.8071161048689138, 0.8052434456928839, 0.8052434456928839, 0.801498127340824, 0.8089887640449439, 0.799625468164794, 0.8108614232209738, 0.8052434456928839, 0.8127340823970037, 0.7715355805243446, 0.8146067415730337, 0.7846441947565544, 0.8127340823970037, 0.8089887640449439, 0.8164794007490636, 0.8108614232209739, 0.8127340823970037, 0.8108614232209739, 0.8164794007490636, 0.8146067415730337, 0.8089887640449437, 0.8108614232209739, 0.8127340823970037, 0.8127340823970037, 0.805243445692884, 0.8071161048689138, 0.8164794007490636, 0.8146067415730337, 0.8052434456928839, 0.8146067415730336, 0.803370786516854], \"yaxis\": \"y6\"}],                        {\"template\": {\"data\": {\"bar\": [{\"error_x\": {\"color\": \"#2a3f5f\"}, \"error_y\": {\"color\": \"#2a3f5f\"}, \"marker\": {\"line\": {\"color\": \"#E5ECF6\", \"width\": 0.5}}, \"type\": \"bar\"}], \"barpolar\": [{\"marker\": {\"line\": {\"color\": \"#E5ECF6\", \"width\": 0.5}}, \"type\": \"barpolar\"}], \"carpet\": [{\"aaxis\": {\"endlinecolor\": \"#2a3f5f\", \"gridcolor\": \"white\", \"linecolor\": \"white\", \"minorgridcolor\": \"white\", \"startlinecolor\": \"#2a3f5f\"}, \"baxis\": {\"endlinecolor\": \"#2a3f5f\", \"gridcolor\": \"white\", \"linecolor\": \"white\", \"minorgridcolor\": \"white\", \"startlinecolor\": \"#2a3f5f\"}, \"type\": \"carpet\"}], \"choropleth\": [{\"colorbar\": {\"outlinewidth\": 0, \"ticks\": \"\"}, \"type\": \"choropleth\"}], \"contour\": [{\"colorbar\": {\"outlinewidth\": 0, \"ticks\": \"\"}, \"colorscale\": [[0.0, \"#0d0887\"], [0.1111111111111111, \"#46039f\"], [0.2222222222222222, \"#7201a8\"], [0.3333333333333333, \"#9c179e\"], [0.4444444444444444, \"#bd3786\"], [0.5555555555555556, \"#d8576b\"], [0.6666666666666666, \"#ed7953\"], [0.7777777777777778, \"#fb9f3a\"], [0.8888888888888888, \"#fdca26\"], [1.0, \"#f0f921\"]], \"type\": \"contour\"}], \"contourcarpet\": [{\"colorbar\": {\"outlinewidth\": 0, \"ticks\": \"\"}, \"type\": \"contourcarpet\"}], \"heatmap\": [{\"colorbar\": {\"outlinewidth\": 0, \"ticks\": \"\"}, \"colorscale\": [[0.0, \"#0d0887\"], [0.1111111111111111, \"#46039f\"], [0.2222222222222222, \"#7201a8\"], [0.3333333333333333, \"#9c179e\"], [0.4444444444444444, \"#bd3786\"], [0.5555555555555556, \"#d8576b\"], [0.6666666666666666, \"#ed7953\"], [0.7777777777777778, \"#fb9f3a\"], [0.8888888888888888, \"#fdca26\"], [1.0, \"#f0f921\"]], \"type\": \"heatmap\"}], \"heatmapgl\": [{\"colorbar\": {\"outlinewidth\": 0, \"ticks\": \"\"}, \"colorscale\": [[0.0, \"#0d0887\"], [0.1111111111111111, \"#46039f\"], [0.2222222222222222, \"#7201a8\"], [0.3333333333333333, \"#9c179e\"], [0.4444444444444444, \"#bd3786\"], [0.5555555555555556, \"#d8576b\"], [0.6666666666666666, \"#ed7953\"], [0.7777777777777778, \"#fb9f3a\"], [0.8888888888888888, \"#fdca26\"], [1.0, \"#f0f921\"]], \"type\": \"heatmapgl\"}], \"histogram\": [{\"marker\": {\"colorbar\": {\"outlinewidth\": 0, \"ticks\": \"\"}}, \"type\": \"histogram\"}], \"histogram2d\": [{\"colorbar\": {\"outlinewidth\": 0, \"ticks\": \"\"}, \"colorscale\": [[0.0, \"#0d0887\"], [0.1111111111111111, \"#46039f\"], [0.2222222222222222, \"#7201a8\"], [0.3333333333333333, \"#9c179e\"], [0.4444444444444444, \"#bd3786\"], [0.5555555555555556, \"#d8576b\"], [0.6666666666666666, \"#ed7953\"], [0.7777777777777778, \"#fb9f3a\"], [0.8888888888888888, \"#fdca26\"], [1.0, \"#f0f921\"]], \"type\": \"histogram2d\"}], \"histogram2dcontour\": [{\"colorbar\": {\"outlinewidth\": 0, \"ticks\": \"\"}, \"colorscale\": [[0.0, \"#0d0887\"], [0.1111111111111111, \"#46039f\"], [0.2222222222222222, \"#7201a8\"], [0.3333333333333333, \"#9c179e\"], [0.4444444444444444, \"#bd3786\"], [0.5555555555555556, \"#d8576b\"], [0.6666666666666666, \"#ed7953\"], [0.7777777777777778, \"#fb9f3a\"], [0.8888888888888888, \"#fdca26\"], [1.0, \"#f0f921\"]], \"type\": \"histogram2dcontour\"}], \"mesh3d\": [{\"colorbar\": {\"outlinewidth\": 0, \"ticks\": \"\"}, \"type\": \"mesh3d\"}], \"parcoords\": [{\"line\": {\"colorbar\": {\"outlinewidth\": 0, \"ticks\": \"\"}}, \"type\": \"parcoords\"}], \"pie\": [{\"automargin\": true, \"type\": \"pie\"}], \"scatter\": [{\"marker\": {\"colorbar\": {\"outlinewidth\": 0, \"ticks\": \"\"}}, \"type\": \"scatter\"}], \"scatter3d\": [{\"line\": {\"colorbar\": {\"outlinewidth\": 0, \"ticks\": \"\"}}, \"marker\": {\"colorbar\": {\"outlinewidth\": 0, \"ticks\": \"\"}}, \"type\": \"scatter3d\"}], \"scattercarpet\": [{\"marker\": {\"colorbar\": {\"outlinewidth\": 0, \"ticks\": \"\"}}, \"type\": \"scattercarpet\"}], \"scattergeo\": [{\"marker\": {\"colorbar\": {\"outlinewidth\": 0, \"ticks\": \"\"}}, \"type\": \"scattergeo\"}], \"scattergl\": [{\"marker\": {\"colorbar\": {\"outlinewidth\": 0, \"ticks\": \"\"}}, \"type\": \"scattergl\"}], \"scattermapbox\": [{\"marker\": {\"colorbar\": {\"outlinewidth\": 0, \"ticks\": \"\"}}, \"type\": \"scattermapbox\"}], \"scatterpolar\": [{\"marker\": {\"colorbar\": {\"outlinewidth\": 0, \"ticks\": \"\"}}, \"type\": \"scatterpolar\"}], \"scatterpolargl\": [{\"marker\": {\"colorbar\": {\"outlinewidth\": 0, \"ticks\": \"\"}}, \"type\": \"scatterpolargl\"}], \"scatterternary\": [{\"marker\": {\"colorbar\": {\"outlinewidth\": 0, \"ticks\": \"\"}}, \"type\": \"scatterternary\"}], \"surface\": [{\"colorbar\": {\"outlinewidth\": 0, \"ticks\": \"\"}, \"colorscale\": [[0.0, \"#0d0887\"], [0.1111111111111111, \"#46039f\"], [0.2222222222222222, \"#7201a8\"], [0.3333333333333333, \"#9c179e\"], [0.4444444444444444, \"#bd3786\"], [0.5555555555555556, \"#d8576b\"], [0.6666666666666666, \"#ed7953\"], [0.7777777777777778, \"#fb9f3a\"], [0.8888888888888888, \"#fdca26\"], [1.0, \"#f0f921\"]], \"type\": \"surface\"}], \"table\": [{\"cells\": {\"fill\": {\"color\": \"#EBF0F8\"}, \"line\": {\"color\": \"white\"}}, \"header\": {\"fill\": {\"color\": \"#C8D4E3\"}, \"line\": {\"color\": \"white\"}}, \"type\": \"table\"}]}, \"layout\": {\"annotationdefaults\": {\"arrowcolor\": \"#2a3f5f\", \"arrowhead\": 0, \"arrowwidth\": 1}, \"autotypenumbers\": \"strict\", \"coloraxis\": {\"colorbar\": {\"outlinewidth\": 0, \"ticks\": \"\"}}, \"colorscale\": {\"diverging\": [[0, \"#8e0152\"], [0.1, \"#c51b7d\"], [0.2, \"#de77ae\"], [0.3, \"#f1b6da\"], [0.4, \"#fde0ef\"], [0.5, \"#f7f7f7\"], [0.6, \"#e6f5d0\"], [0.7, \"#b8e186\"], [0.8, \"#7fbc41\"], [0.9, \"#4d9221\"], [1, \"#276419\"]], \"sequential\": [[0.0, \"#0d0887\"], [0.1111111111111111, \"#46039f\"], [0.2222222222222222, \"#7201a8\"], [0.3333333333333333, \"#9c179e\"], [0.4444444444444444, \"#bd3786\"], [0.5555555555555556, \"#d8576b\"], [0.6666666666666666, \"#ed7953\"], [0.7777777777777778, \"#fb9f3a\"], [0.8888888888888888, \"#fdca26\"], [1.0, \"#f0f921\"]], \"sequentialminus\": [[0.0, \"#0d0887\"], [0.1111111111111111, \"#46039f\"], [0.2222222222222222, \"#7201a8\"], [0.3333333333333333, \"#9c179e\"], [0.4444444444444444, \"#bd3786\"], [0.5555555555555556, \"#d8576b\"], [0.6666666666666666, \"#ed7953\"], [0.7777777777777778, \"#fb9f3a\"], [0.8888888888888888, \"#fdca26\"], [1.0, \"#f0f921\"]]}, \"colorway\": [\"#636efa\", \"#EF553B\", \"#00cc96\", \"#ab63fa\", \"#FFA15A\", \"#19d3f3\", \"#FF6692\", \"#B6E880\", \"#FF97FF\", \"#FECB52\"], \"font\": {\"color\": \"#2a3f5f\"}, \"geo\": {\"bgcolor\": \"white\", \"lakecolor\": \"white\", \"landcolor\": \"#E5ECF6\", \"showlakes\": true, \"showland\": true, \"subunitcolor\": \"white\"}, \"hoverlabel\": {\"align\": \"left\"}, \"hovermode\": \"closest\", \"mapbox\": {\"style\": \"light\"}, \"paper_bgcolor\": \"white\", \"plot_bgcolor\": \"#E5ECF6\", \"polar\": {\"angularaxis\": {\"gridcolor\": \"white\", \"linecolor\": \"white\", \"ticks\": \"\"}, \"bgcolor\": \"#E5ECF6\", \"radialaxis\": {\"gridcolor\": \"white\", \"linecolor\": \"white\", \"ticks\": \"\"}}, \"scene\": {\"xaxis\": {\"backgroundcolor\": \"#E5ECF6\", \"gridcolor\": \"white\", \"gridwidth\": 2, \"linecolor\": \"white\", \"showbackground\": true, \"ticks\": \"\", \"zerolinecolor\": \"white\"}, \"yaxis\": {\"backgroundcolor\": \"#E5ECF6\", \"gridcolor\": \"white\", \"gridwidth\": 2, \"linecolor\": \"white\", \"showbackground\": true, \"ticks\": \"\", \"zerolinecolor\": \"white\"}, \"zaxis\": {\"backgroundcolor\": \"#E5ECF6\", \"gridcolor\": \"white\", \"gridwidth\": 2, \"linecolor\": \"white\", \"showbackground\": true, \"ticks\": \"\", \"zerolinecolor\": \"white\"}}, \"shapedefaults\": {\"line\": {\"color\": \"#2a3f5f\"}}, \"ternary\": {\"aaxis\": {\"gridcolor\": \"white\", \"linecolor\": \"white\", \"ticks\": \"\"}, \"baxis\": {\"gridcolor\": \"white\", \"linecolor\": \"white\", \"ticks\": \"\"}, \"bgcolor\": \"#E5ECF6\", \"caxis\": {\"gridcolor\": \"white\", \"linecolor\": \"white\", \"ticks\": \"\"}}, \"title\": {\"x\": 0.05}, \"xaxis\": {\"automargin\": true, \"gridcolor\": \"white\", \"linecolor\": \"white\", \"ticks\": \"\", \"title\": {\"standoff\": 15}, \"zerolinecolor\": \"white\", \"zerolinewidth\": 2}, \"yaxis\": {\"automargin\": true, \"gridcolor\": \"white\", \"linecolor\": \"white\", \"ticks\": \"\", \"title\": {\"standoff\": 15}, \"zerolinecolor\": \"white\", \"zerolinewidth\": 2}}}, \"title\": {\"text\": \"Slice Plot\"}, \"width\": 1800, \"xaxis\": {\"anchor\": \"y\", \"domain\": [0.0, 0.1388888888888889], \"title\": {\"text\": \"colsample_bytree\"}}, \"xaxis2\": {\"anchor\": \"y2\", \"domain\": [0.17222222222222222, 0.3111111111111111], \"title\": {\"text\": \"gamma\"}}, \"xaxis3\": {\"anchor\": \"y3\", \"domain\": [0.34444444444444444, 0.48333333333333334], \"title\": {\"text\": \"learning_rate\"}}, \"xaxis4\": {\"anchor\": \"y4\", \"domain\": [0.5166666666666667, 0.6555555555555557], \"title\": {\"text\": \"max_depth\"}}, \"xaxis5\": {\"anchor\": \"y5\", \"domain\": [0.6888888888888889, 0.8277777777777777], \"title\": {\"text\": \"n_estimators\"}}, \"xaxis6\": {\"anchor\": \"y6\", \"domain\": [0.861111111111111, 1.0], \"title\": {\"text\": \"subsample\"}}, \"yaxis\": {\"anchor\": \"x\", \"domain\": [0.0, 1.0], \"title\": {\"text\": \"Objective Value\"}}, \"yaxis2\": {\"anchor\": \"x2\", \"domain\": [0.0, 1.0], \"matches\": \"y\", \"showticklabels\": false}, \"yaxis3\": {\"anchor\": \"x3\", \"domain\": [0.0, 1.0], \"matches\": \"y\", \"showticklabels\": false}, \"yaxis4\": {\"anchor\": \"x4\", \"domain\": [0.0, 1.0], \"matches\": \"y\", \"showticklabels\": false}, \"yaxis5\": {\"anchor\": \"x5\", \"domain\": [0.0, 1.0], \"matches\": \"y\", \"showticklabels\": false}, \"yaxis6\": {\"anchor\": \"x6\", \"domain\": [0.0, 1.0], \"matches\": \"y\", \"showticklabels\": false}},                        {\"responsive\": true}                    ).then(function(){\n",
       "                            \n",
       "var gd = document.getElementById('7ea58878-b288-4d00-810f-2e9f4ac4f0dd');\n",
       "var x = new MutationObserver(function (mutations, observer) {{\n",
       "        var display = window.getComputedStyle(gd).display;\n",
       "        if (!display || display === 'none') {{\n",
       "            console.log([gd, 'removed!']);\n",
       "            Plotly.purge(gd);\n",
       "            observer.disconnect();\n",
       "        }}\n",
       "}});\n",
       "\n",
       "// Listen for the removal of the full notebook cells\n",
       "var notebookContainer = gd.closest('#notebook-container');\n",
       "if (notebookContainer) {{\n",
       "    x.observe(notebookContainer, {childList: true});\n",
       "}}\n",
       "\n",
       "// Listen for the clearing of the current output cell\n",
       "var outputEl = gd.closest('.output');\n",
       "if (outputEl) {{\n",
       "    x.observe(outputEl, {childList: true});\n",
       "}}\n",
       "\n",
       "                        })                };                });            </script>        </div>"
      ]
     },
     "metadata": {},
     "output_type": "display_data"
    }
   ],
   "source": [
    "optuna.visualization.plot_slice(study)"
   ]
  },
  {
   "cell_type": "code",
   "execution_count": 35,
   "metadata": {
    "execution": {
     "iopub.execute_input": "2020-12-30T03:41:04.712806Z",
     "iopub.status.busy": "2020-12-30T03:41:04.711683Z",
     "iopub.status.idle": "2020-12-30T03:41:04.728858Z",
     "shell.execute_reply": "2020-12-30T03:41:04.728200Z"
    },
    "papermill": {
     "duration": 0.158911,
     "end_time": "2020-12-30T03:41:04.728968",
     "exception": false,
     "start_time": "2020-12-30T03:41:04.570057",
     "status": "completed"
    },
    "tags": []
   },
   "outputs": [
    {
     "data": {
      "text/html": [
       "<div>                            <div id=\"4715b9d8-48b3-4f08-8bb2-12914efc736a\" class=\"plotly-graph-div\" style=\"height:525px; width:100%;\"></div>            <script type=\"text/javascript\">                require([\"plotly\"], function(Plotly) {                    window.PLOTLYENV=window.PLOTLYENV || {};                                    if (document.getElementById(\"4715b9d8-48b3-4f08-8bb2-12914efc736a\")) {                    Plotly.newPlot(                        \"4715b9d8-48b3-4f08-8bb2-12914efc736a\",                        [{\"mode\": \"markers\", \"name\": \"Objective Value\", \"type\": \"scatter\", \"x\": [0, 1, 2, 3, 4, 5, 6, 7, 8, 9, 10, 11, 12, 13, 14, 15, 16, 17, 18, 19, 20, 21, 22, 23, 24, 25, 26, 27, 28, 29, 30, 31, 32, 33, 34, 35, 36, 37, 38, 39, 40, 41, 42, 43, 44, 45, 46, 47, 48, 49, 50, 51, 52, 53, 54, 55, 56, 57, 58, 59, 60, 61, 62, 63, 64, 65, 66, 67, 68, 69, 70, 71, 72, 73, 74, 75, 76, 77, 78, 79, 80, 81, 82, 83, 84, 85, 86, 87, 88, 89, 90, 91, 92, 93, 94, 95, 96, 97, 98, 99], \"y\": [0.7883895131086143, 0.7808988764044944, 0.7827715355805244, 0.7752808988764045, 0.7790262172284644, 0.7790262172284644, 0.7827715355805244, 0.7808988764044944, 0.7715355805243446, 0.797752808988764, 0.8052434456928839, 0.801498127340824, 0.801498127340824, 0.7883895131086143, 0.7808988764044944, 0.7771535580524344, 0.8033707865168539, 0.7790262172284644, 0.7958801498127341, 0.7734082397003745, 0.7846441947565544, 0.803370786516854, 0.7996254681647942, 0.7902621722846442, 0.7996254681647942, 0.7808988764044944, 0.7902621722846442, 0.7808988764044944, 0.7827715355805243, 0.7846441947565544, 0.7827715355805244, 0.803370786516854, 0.8033707865168539, 0.801498127340824, 0.7827715355805243, 0.797752808988764, 0.7996254681647942, 0.7921348314606741, 0.799625468164794, 0.7790262172284644, 0.7883895131086143, 0.803370786516854, 0.8033707865168539, 0.8033707865168539, 0.7977528089887641, 0.8052434456928839, 0.7940074906367042, 0.803370786516854, 0.7808988764044944, 0.801498127340824, 0.8089887640449439, 0.8071161048689138, 0.8033707865168539, 0.805243445692884, 0.801498127340824, 0.7846441947565542, 0.7865168539325843, 0.8033707865168539, 0.7958801498127341, 0.803370786516854, 0.7790262172284644, 0.8071161048689138, 0.8108614232209738, 0.8108614232209738, 0.8089887640449439, 0.803370786516854, 0.7940074906367042, 0.8052434456928839, 0.801498127340824, 0.8071161048689138, 0.8052434456928839, 0.8052434456928839, 0.801498127340824, 0.8089887640449439, 0.799625468164794, 0.8108614232209738, 0.8052434456928839, 0.8127340823970037, 0.7715355805243446, 0.8146067415730337, 0.7846441947565544, 0.8127340823970037, 0.8089887640449439, 0.8164794007490636, 0.8108614232209739, 0.8127340823970037, 0.8108614232209739, 0.8164794007490636, 0.8146067415730337, 0.8089887640449437, 0.8108614232209739, 0.8127340823970037, 0.8127340823970037, 0.805243445692884, 0.8071161048689138, 0.8164794007490636, 0.8146067415730337, 0.8052434456928839, 0.8146067415730336, 0.803370786516854]}, {\"name\": \"Best Value\", \"type\": \"scatter\", \"x\": [0, 1, 2, 3, 4, 5, 6, 7, 8, 9, 10, 11, 12, 13, 14, 15, 16, 17, 18, 19, 20, 21, 22, 23, 24, 25, 26, 27, 28, 29, 30, 31, 32, 33, 34, 35, 36, 37, 38, 39, 40, 41, 42, 43, 44, 45, 46, 47, 48, 49, 50, 51, 52, 53, 54, 55, 56, 57, 58, 59, 60, 61, 62, 63, 64, 65, 66, 67, 68, 69, 70, 71, 72, 73, 74, 75, 76, 77, 78, 79, 80, 81, 82, 83, 84, 85, 86, 87, 88, 89, 90, 91, 92, 93, 94, 95, 96, 97, 98, 99], \"y\": [0.7883895131086143, 0.7883895131086143, 0.7883895131086143, 0.7883895131086143, 0.7883895131086143, 0.7883895131086143, 0.7883895131086143, 0.7883895131086143, 0.7883895131086143, 0.797752808988764, 0.8052434456928839, 0.8052434456928839, 0.8052434456928839, 0.8052434456928839, 0.8052434456928839, 0.8052434456928839, 0.8052434456928839, 0.8052434456928839, 0.8052434456928839, 0.8052434456928839, 0.8052434456928839, 0.8052434456928839, 0.8052434456928839, 0.8052434456928839, 0.8052434456928839, 0.8052434456928839, 0.8052434456928839, 0.8052434456928839, 0.8052434456928839, 0.8052434456928839, 0.8052434456928839, 0.8052434456928839, 0.8052434456928839, 0.8052434456928839, 0.8052434456928839, 0.8052434456928839, 0.8052434456928839, 0.8052434456928839, 0.8052434456928839, 0.8052434456928839, 0.8052434456928839, 0.8052434456928839, 0.8052434456928839, 0.8052434456928839, 0.8052434456928839, 0.8052434456928839, 0.8052434456928839, 0.8052434456928839, 0.8052434456928839, 0.8052434456928839, 0.8089887640449439, 0.8089887640449439, 0.8089887640449439, 0.8089887640449439, 0.8089887640449439, 0.8089887640449439, 0.8089887640449439, 0.8089887640449439, 0.8089887640449439, 0.8089887640449439, 0.8089887640449439, 0.8089887640449439, 0.8108614232209738, 0.8108614232209738, 0.8108614232209738, 0.8108614232209738, 0.8108614232209738, 0.8108614232209738, 0.8108614232209738, 0.8108614232209738, 0.8108614232209738, 0.8108614232209738, 0.8108614232209738, 0.8108614232209738, 0.8108614232209738, 0.8108614232209738, 0.8108614232209738, 0.8127340823970037, 0.8127340823970037, 0.8146067415730337, 0.8146067415730337, 0.8146067415730337, 0.8146067415730337, 0.8164794007490636, 0.8164794007490636, 0.8164794007490636, 0.8164794007490636, 0.8164794007490636, 0.8164794007490636, 0.8164794007490636, 0.8164794007490636, 0.8164794007490636, 0.8164794007490636, 0.8164794007490636, 0.8164794007490636, 0.8164794007490636, 0.8164794007490636, 0.8164794007490636, 0.8164794007490636, 0.8164794007490636]}],                        {\"template\": {\"data\": {\"bar\": [{\"error_x\": {\"color\": \"#2a3f5f\"}, \"error_y\": {\"color\": \"#2a3f5f\"}, \"marker\": {\"line\": {\"color\": \"#E5ECF6\", \"width\": 0.5}}, \"type\": \"bar\"}], \"barpolar\": [{\"marker\": {\"line\": {\"color\": \"#E5ECF6\", \"width\": 0.5}}, \"type\": \"barpolar\"}], \"carpet\": [{\"aaxis\": {\"endlinecolor\": \"#2a3f5f\", \"gridcolor\": \"white\", \"linecolor\": \"white\", \"minorgridcolor\": \"white\", \"startlinecolor\": \"#2a3f5f\"}, \"baxis\": {\"endlinecolor\": \"#2a3f5f\", \"gridcolor\": \"white\", \"linecolor\": \"white\", \"minorgridcolor\": \"white\", \"startlinecolor\": \"#2a3f5f\"}, \"type\": \"carpet\"}], \"choropleth\": [{\"colorbar\": {\"outlinewidth\": 0, \"ticks\": \"\"}, \"type\": \"choropleth\"}], \"contour\": [{\"colorbar\": {\"outlinewidth\": 0, \"ticks\": \"\"}, \"colorscale\": [[0.0, \"#0d0887\"], [0.1111111111111111, \"#46039f\"], [0.2222222222222222, \"#7201a8\"], [0.3333333333333333, \"#9c179e\"], [0.4444444444444444, \"#bd3786\"], [0.5555555555555556, \"#d8576b\"], [0.6666666666666666, \"#ed7953\"], [0.7777777777777778, \"#fb9f3a\"], [0.8888888888888888, \"#fdca26\"], [1.0, \"#f0f921\"]], \"type\": \"contour\"}], \"contourcarpet\": [{\"colorbar\": {\"outlinewidth\": 0, \"ticks\": \"\"}, \"type\": \"contourcarpet\"}], \"heatmap\": [{\"colorbar\": {\"outlinewidth\": 0, \"ticks\": \"\"}, \"colorscale\": [[0.0, \"#0d0887\"], [0.1111111111111111, \"#46039f\"], [0.2222222222222222, \"#7201a8\"], [0.3333333333333333, \"#9c179e\"], [0.4444444444444444, \"#bd3786\"], [0.5555555555555556, \"#d8576b\"], [0.6666666666666666, \"#ed7953\"], [0.7777777777777778, \"#fb9f3a\"], [0.8888888888888888, \"#fdca26\"], [1.0, \"#f0f921\"]], \"type\": \"heatmap\"}], \"heatmapgl\": [{\"colorbar\": {\"outlinewidth\": 0, \"ticks\": \"\"}, \"colorscale\": [[0.0, \"#0d0887\"], [0.1111111111111111, \"#46039f\"], [0.2222222222222222, \"#7201a8\"], [0.3333333333333333, \"#9c179e\"], [0.4444444444444444, \"#bd3786\"], [0.5555555555555556, \"#d8576b\"], [0.6666666666666666, \"#ed7953\"], [0.7777777777777778, \"#fb9f3a\"], [0.8888888888888888, \"#fdca26\"], [1.0, \"#f0f921\"]], \"type\": \"heatmapgl\"}], \"histogram\": [{\"marker\": {\"colorbar\": {\"outlinewidth\": 0, \"ticks\": \"\"}}, \"type\": \"histogram\"}], \"histogram2d\": [{\"colorbar\": {\"outlinewidth\": 0, \"ticks\": \"\"}, \"colorscale\": [[0.0, \"#0d0887\"], [0.1111111111111111, \"#46039f\"], [0.2222222222222222, \"#7201a8\"], [0.3333333333333333, \"#9c179e\"], [0.4444444444444444, \"#bd3786\"], [0.5555555555555556, \"#d8576b\"], [0.6666666666666666, \"#ed7953\"], [0.7777777777777778, \"#fb9f3a\"], [0.8888888888888888, \"#fdca26\"], [1.0, \"#f0f921\"]], \"type\": \"histogram2d\"}], \"histogram2dcontour\": [{\"colorbar\": {\"outlinewidth\": 0, \"ticks\": \"\"}, \"colorscale\": [[0.0, \"#0d0887\"], [0.1111111111111111, \"#46039f\"], [0.2222222222222222, \"#7201a8\"], [0.3333333333333333, \"#9c179e\"], [0.4444444444444444, \"#bd3786\"], [0.5555555555555556, \"#d8576b\"], [0.6666666666666666, \"#ed7953\"], [0.7777777777777778, \"#fb9f3a\"], [0.8888888888888888, \"#fdca26\"], [1.0, \"#f0f921\"]], \"type\": \"histogram2dcontour\"}], \"mesh3d\": [{\"colorbar\": {\"outlinewidth\": 0, \"ticks\": \"\"}, \"type\": \"mesh3d\"}], \"parcoords\": [{\"line\": {\"colorbar\": {\"outlinewidth\": 0, \"ticks\": \"\"}}, \"type\": \"parcoords\"}], \"pie\": [{\"automargin\": true, \"type\": \"pie\"}], \"scatter\": [{\"marker\": {\"colorbar\": {\"outlinewidth\": 0, \"ticks\": \"\"}}, \"type\": \"scatter\"}], \"scatter3d\": [{\"line\": {\"colorbar\": {\"outlinewidth\": 0, \"ticks\": \"\"}}, \"marker\": {\"colorbar\": {\"outlinewidth\": 0, \"ticks\": \"\"}}, \"type\": \"scatter3d\"}], \"scattercarpet\": [{\"marker\": {\"colorbar\": {\"outlinewidth\": 0, \"ticks\": \"\"}}, \"type\": \"scattercarpet\"}], \"scattergeo\": [{\"marker\": {\"colorbar\": {\"outlinewidth\": 0, \"ticks\": \"\"}}, \"type\": \"scattergeo\"}], \"scattergl\": [{\"marker\": {\"colorbar\": {\"outlinewidth\": 0, \"ticks\": \"\"}}, \"type\": \"scattergl\"}], \"scattermapbox\": [{\"marker\": {\"colorbar\": {\"outlinewidth\": 0, \"ticks\": \"\"}}, \"type\": \"scattermapbox\"}], \"scatterpolar\": [{\"marker\": {\"colorbar\": {\"outlinewidth\": 0, \"ticks\": \"\"}}, \"type\": \"scatterpolar\"}], \"scatterpolargl\": [{\"marker\": {\"colorbar\": {\"outlinewidth\": 0, \"ticks\": \"\"}}, \"type\": \"scatterpolargl\"}], \"scatterternary\": [{\"marker\": {\"colorbar\": {\"outlinewidth\": 0, \"ticks\": \"\"}}, \"type\": \"scatterternary\"}], \"surface\": [{\"colorbar\": {\"outlinewidth\": 0, \"ticks\": \"\"}, \"colorscale\": [[0.0, \"#0d0887\"], [0.1111111111111111, \"#46039f\"], [0.2222222222222222, \"#7201a8\"], [0.3333333333333333, \"#9c179e\"], [0.4444444444444444, \"#bd3786\"], [0.5555555555555556, \"#d8576b\"], [0.6666666666666666, \"#ed7953\"], [0.7777777777777778, \"#fb9f3a\"], [0.8888888888888888, \"#fdca26\"], [1.0, \"#f0f921\"]], \"type\": \"surface\"}], \"table\": [{\"cells\": {\"fill\": {\"color\": \"#EBF0F8\"}, \"line\": {\"color\": \"white\"}}, \"header\": {\"fill\": {\"color\": \"#C8D4E3\"}, \"line\": {\"color\": \"white\"}}, \"type\": \"table\"}]}, \"layout\": {\"annotationdefaults\": {\"arrowcolor\": \"#2a3f5f\", \"arrowhead\": 0, \"arrowwidth\": 1}, \"autotypenumbers\": \"strict\", \"coloraxis\": {\"colorbar\": {\"outlinewidth\": 0, \"ticks\": \"\"}}, \"colorscale\": {\"diverging\": [[0, \"#8e0152\"], [0.1, \"#c51b7d\"], [0.2, \"#de77ae\"], [0.3, \"#f1b6da\"], [0.4, \"#fde0ef\"], [0.5, \"#f7f7f7\"], [0.6, \"#e6f5d0\"], [0.7, \"#b8e186\"], [0.8, \"#7fbc41\"], [0.9, \"#4d9221\"], [1, \"#276419\"]], \"sequential\": [[0.0, \"#0d0887\"], [0.1111111111111111, \"#46039f\"], [0.2222222222222222, \"#7201a8\"], [0.3333333333333333, \"#9c179e\"], [0.4444444444444444, \"#bd3786\"], [0.5555555555555556, \"#d8576b\"], [0.6666666666666666, \"#ed7953\"], [0.7777777777777778, \"#fb9f3a\"], [0.8888888888888888, \"#fdca26\"], [1.0, \"#f0f921\"]], \"sequentialminus\": [[0.0, \"#0d0887\"], [0.1111111111111111, \"#46039f\"], [0.2222222222222222, \"#7201a8\"], [0.3333333333333333, \"#9c179e\"], [0.4444444444444444, \"#bd3786\"], [0.5555555555555556, \"#d8576b\"], [0.6666666666666666, \"#ed7953\"], [0.7777777777777778, \"#fb9f3a\"], [0.8888888888888888, \"#fdca26\"], [1.0, \"#f0f921\"]]}, \"colorway\": [\"#636efa\", \"#EF553B\", \"#00cc96\", \"#ab63fa\", \"#FFA15A\", \"#19d3f3\", \"#FF6692\", \"#B6E880\", \"#FF97FF\", \"#FECB52\"], \"font\": {\"color\": \"#2a3f5f\"}, \"geo\": {\"bgcolor\": \"white\", \"lakecolor\": \"white\", \"landcolor\": \"#E5ECF6\", \"showlakes\": true, \"showland\": true, \"subunitcolor\": \"white\"}, \"hoverlabel\": {\"align\": \"left\"}, \"hovermode\": \"closest\", \"mapbox\": {\"style\": \"light\"}, \"paper_bgcolor\": \"white\", \"plot_bgcolor\": \"#E5ECF6\", \"polar\": {\"angularaxis\": {\"gridcolor\": \"white\", \"linecolor\": \"white\", \"ticks\": \"\"}, \"bgcolor\": \"#E5ECF6\", \"radialaxis\": {\"gridcolor\": \"white\", \"linecolor\": \"white\", \"ticks\": \"\"}}, \"scene\": {\"xaxis\": {\"backgroundcolor\": \"#E5ECF6\", \"gridcolor\": \"white\", \"gridwidth\": 2, \"linecolor\": \"white\", \"showbackground\": true, \"ticks\": \"\", \"zerolinecolor\": \"white\"}, \"yaxis\": {\"backgroundcolor\": \"#E5ECF6\", \"gridcolor\": \"white\", \"gridwidth\": 2, \"linecolor\": \"white\", \"showbackground\": true, \"ticks\": \"\", \"zerolinecolor\": \"white\"}, \"zaxis\": {\"backgroundcolor\": \"#E5ECF6\", \"gridcolor\": \"white\", \"gridwidth\": 2, \"linecolor\": \"white\", \"showbackground\": true, \"ticks\": \"\", \"zerolinecolor\": \"white\"}}, \"shapedefaults\": {\"line\": {\"color\": \"#2a3f5f\"}}, \"ternary\": {\"aaxis\": {\"gridcolor\": \"white\", \"linecolor\": \"white\", \"ticks\": \"\"}, \"baxis\": {\"gridcolor\": \"white\", \"linecolor\": \"white\", \"ticks\": \"\"}, \"bgcolor\": \"#E5ECF6\", \"caxis\": {\"gridcolor\": \"white\", \"linecolor\": \"white\", \"ticks\": \"\"}}, \"title\": {\"x\": 0.05}, \"xaxis\": {\"automargin\": true, \"gridcolor\": \"white\", \"linecolor\": \"white\", \"ticks\": \"\", \"title\": {\"standoff\": 15}, \"zerolinecolor\": \"white\", \"zerolinewidth\": 2}, \"yaxis\": {\"automargin\": true, \"gridcolor\": \"white\", \"linecolor\": \"white\", \"ticks\": \"\", \"title\": {\"standoff\": 15}, \"zerolinecolor\": \"white\", \"zerolinewidth\": 2}}}, \"title\": {\"text\": \"Optimization History Plot\"}, \"xaxis\": {\"title\": {\"text\": \"#Trials\"}}, \"yaxis\": {\"title\": {\"text\": \"Objective Value\"}}},                        {\"responsive\": true}                    ).then(function(){\n",
       "                            \n",
       "var gd = document.getElementById('4715b9d8-48b3-4f08-8bb2-12914efc736a');\n",
       "var x = new MutationObserver(function (mutations, observer) {{\n",
       "        var display = window.getComputedStyle(gd).display;\n",
       "        if (!display || display === 'none') {{\n",
       "            console.log([gd, 'removed!']);\n",
       "            Plotly.purge(gd);\n",
       "            observer.disconnect();\n",
       "        }}\n",
       "}});\n",
       "\n",
       "// Listen for the removal of the full notebook cells\n",
       "var notebookContainer = gd.closest('#notebook-container');\n",
       "if (notebookContainer) {{\n",
       "    x.observe(notebookContainer, {childList: true});\n",
       "}}\n",
       "\n",
       "// Listen for the clearing of the current output cell\n",
       "var outputEl = gd.closest('.output');\n",
       "if (outputEl) {{\n",
       "    x.observe(outputEl, {childList: true});\n",
       "}}\n",
       "\n",
       "                        })                };                });            </script>        </div>"
      ]
     },
     "metadata": {},
     "output_type": "display_data"
    }
   ],
   "source": [
    "optuna.visualization.plot_optimization_history(study)"
   ]
  },
  {
   "cell_type": "code",
   "execution_count": 36,
   "metadata": {
    "execution": {
     "iopub.execute_input": "2020-12-30T03:41:04.972963Z",
     "iopub.status.busy": "2020-12-30T03:41:04.972235Z",
     "iopub.status.idle": "2020-12-30T03:41:05.301082Z",
     "shell.execute_reply": "2020-12-30T03:41:05.302075Z"
    },
    "papermill": {
     "duration": 0.453549,
     "end_time": "2020-12-30T03:41:05.302250",
     "exception": false,
     "start_time": "2020-12-30T03:41:04.848701",
     "status": "completed"
    },
    "tags": []
   },
   "outputs": [
    {
     "data": {
      "text/plain": [
       "XGBClassifier(base_score=0.5, booster='gbtree', colsample_bylevel=1,\n",
       "              colsample_bynode=1, colsample_bytree=0.7189855753651575, gamma=0,\n",
       "              gpu_id=-1, importance_type='gain', interaction_constraints='',\n",
       "              learning_rate=0.00929069357563439, max_delta_step=0, max_depth=10,\n",
       "              min_child_weight=1, missing=-999, monotone_constraints='()',\n",
       "              n_estimators=448, n_jobs=0, num_parallel_tree=1, random_state=0,\n",
       "              reg_alpha=0, reg_lambda=1, scale_pos_weight=0.48,\n",
       "              subsample=0.6301317890948558, tree_method='exact',\n",
       "              validate_parameters=1, verbosity=None)"
      ]
     },
     "execution_count": 36,
     "metadata": {},
     "output_type": "execute_result"
    }
   ],
   "source": [
    "model = xgb.XGBClassifier(**best_param)\n",
    "model.fit(X_train,y_train)"
   ]
  },
  {
   "cell_type": "code",
   "execution_count": 37,
   "metadata": {
    "execution": {
     "iopub.execute_input": "2020-12-30T03:41:05.592833Z",
     "iopub.status.busy": "2020-12-30T03:41:05.591795Z",
     "iopub.status.idle": "2020-12-30T03:41:05.601559Z",
     "shell.execute_reply": "2020-12-30T03:41:05.602098Z"
    },
    "papermill": {
     "duration": 0.143251,
     "end_time": "2020-12-30T03:41:05.602238",
     "exception": false,
     "start_time": "2020-12-30T03:41:05.458987",
     "status": "completed"
    },
    "tags": []
   },
   "outputs": [],
   "source": [
    "predictions_final = model.predict(test.drop('Loan_ID',axis=1))"
   ]
  },
  {
   "cell_type": "code",
   "execution_count": 38,
   "metadata": {
    "execution": {
     "iopub.execute_input": "2020-12-30T03:41:05.894076Z",
     "iopub.status.busy": "2020-12-30T03:41:05.893092Z",
     "iopub.status.idle": "2020-12-30T03:41:05.897784Z",
     "shell.execute_reply": "2020-12-30T03:41:05.897133Z"
    },
    "papermill": {
     "duration": 0.140452,
     "end_time": "2020-12-30T03:41:05.897894",
     "exception": false,
     "start_time": "2020-12-30T03:41:05.757442",
     "status": "completed"
    },
    "tags": []
   },
   "outputs": [
    {
     "data": {
      "text/plain": [
       "array(['Y', 'Y', 'Y', 'N', 'N', 'Y', 'Y', 'N', 'Y', 'Y', 'Y', 'Y', 'N',\n",
       "       'N', 'Y', 'Y', 'Y', 'Y', 'Y', 'N', 'Y', 'Y', 'Y', 'Y', 'Y', 'N',\n",
       "       'N', 'Y', 'N', 'Y', 'Y', 'Y', 'Y', 'Y', 'Y', 'N', 'Y', 'Y', 'Y',\n",
       "       'Y', 'Y', 'Y', 'Y', 'Y', 'N', 'N', 'Y', 'Y', 'Y', 'Y', 'Y', 'Y',\n",
       "       'Y', 'Y', 'Y', 'N', 'Y', 'Y', 'N', 'Y', 'Y', 'Y', 'Y', 'N', 'Y',\n",
       "       'Y', 'N', 'N', 'Y', 'N', 'Y', 'Y', 'Y', 'Y', 'Y', 'Y', 'Y', 'Y',\n",
       "       'Y', 'Y', 'N', 'Y', 'N', 'Y', 'N', 'Y', 'Y', 'Y', 'Y', 'N', 'N',\n",
       "       'Y', 'Y', 'Y', 'N', 'Y', 'Y', 'Y', 'Y', 'N', 'Y', 'N', 'Y', 'Y',\n",
       "       'N', 'Y', 'N', 'Y', 'Y', 'N', 'Y', 'Y', 'N', 'Y', 'Y', 'N', 'N',\n",
       "       'N', 'N', 'N', 'Y', 'Y', 'Y', 'N', 'N', 'Y', 'N', 'Y', 'N', 'Y',\n",
       "       'Y', 'N', 'Y', 'N', 'N', 'Y', 'N', 'Y', 'Y', 'N', 'N', 'Y', 'N',\n",
       "       'N', 'Y', 'Y', 'Y', 'N', 'Y', 'Y', 'Y', 'Y', 'Y', 'N', 'N', 'Y',\n",
       "       'Y', 'N', 'Y', 'Y', 'Y', 'N', 'Y', 'Y', 'N', 'N', 'N', 'Y', 'N',\n",
       "       'N', 'Y', 'N', 'Y', 'N', 'N', 'Y', 'Y', 'N', 'Y', 'N', 'Y', 'Y',\n",
       "       'N', 'N', 'Y', 'N', 'Y', 'Y', 'Y', 'Y', 'N', 'Y', 'N', 'N', 'Y',\n",
       "       'Y', 'N', 'Y', 'N', 'Y', 'Y', 'Y', 'N', 'Y', 'Y', 'Y', 'Y', 'Y',\n",
       "       'N', 'Y', 'Y', 'N', 'Y', 'Y', 'Y', 'Y', 'Y', 'Y', 'Y', 'Y', 'N',\n",
       "       'Y', 'Y', 'N', 'N', 'Y', 'Y', 'Y', 'Y', 'N', 'Y', 'Y', 'Y', 'Y',\n",
       "       'Y', 'N', 'N', 'Y', 'Y', 'N', 'Y', 'N', 'Y', 'N', 'Y', 'N', 'Y',\n",
       "       'Y', 'Y', 'Y', 'N', 'Y', 'Y', 'Y', 'Y', 'N', 'Y', 'Y', 'Y', 'N',\n",
       "       'Y', 'Y', 'N', 'Y', 'Y', 'N', 'N', 'Y', 'N', 'N', 'Y', 'Y', 'Y',\n",
       "       'N', 'N', 'Y', 'Y', 'Y', 'N', 'Y', 'Y', 'Y', 'N', 'N', 'Y', 'Y',\n",
       "       'N', 'Y', 'Y', 'Y', 'Y', 'Y', 'N', 'N', 'Y', 'Y', 'Y', 'N', 'Y',\n",
       "       'Y', 'Y', 'N', 'Y', 'N', 'Y', 'N', 'Y', 'Y', 'Y', 'Y', 'Y', 'N',\n",
       "       'Y', 'Y', 'Y', 'Y', 'Y', 'N', 'Y', 'Y', 'Y', 'N', 'N', 'Y', 'Y',\n",
       "       'N', 'Y', 'Y', 'Y', 'N', 'Y', 'Y', 'N', 'Y', 'Y', 'Y', 'N', 'Y',\n",
       "       'Y', 'N', 'Y', 'Y', 'N', 'N', 'Y', 'Y', 'N', 'Y', 'Y', 'Y', 'Y',\n",
       "       'N', 'Y', 'Y', 'N', 'Y', 'Y', 'Y', 'N', 'Y', 'N', 'Y', 'Y', 'Y',\n",
       "       'N', 'Y', 'N'], dtype=object)"
      ]
     },
     "execution_count": 38,
     "metadata": {},
     "output_type": "execute_result"
    }
   ],
   "source": [
    "predictions_final"
   ]
  },
  {
   "cell_type": "code",
   "execution_count": null,
   "metadata": {
    "papermill": {
     "duration": 0.120199,
     "end_time": "2020-12-30T03:41:06.139533",
     "exception": false,
     "start_time": "2020-12-30T03:41:06.019334",
     "status": "completed"
    },
    "tags": []
   },
   "outputs": [],
   "source": []
  }
 ],
 "metadata": {
  "kernelspec": {
   "display_name": "Python 3",
   "language": "python",
   "name": "python3"
  },
  "language_info": {
   "codemirror_mode": {
    "name": "ipython",
    "version": 3
   },
   "file_extension": ".py",
   "mimetype": "text/x-python",
   "name": "python",
   "nbconvert_exporter": "python",
   "pygments_lexer": "ipython3",
   "version": "3.7.6"
  },
  "papermill": {
   "duration": 82.114849,
   "end_time": "2020-12-30T03:41:06.369046",
   "environment_variables": {},
   "exception": null,
   "input_path": "__notebook__.ipynb",
   "output_path": "__notebook__.ipynb",
   "parameters": {},
   "start_time": "2020-12-30T03:39:44.254197",
   "version": "2.1.0"
  }
 },
 "nbformat": 4,
 "nbformat_minor": 4
}
